{
 "cells": [
  {
   "cell_type": "code",
   "execution_count": 9,
   "metadata": {},
   "outputs": [],
   "source": [
    "import pandas as pd\n",
    "\n",
    "from sklearn.metrics import accuracy_score, confusion_matrix \n",
    "from sklearn.metrics import r2_score, mean_squared_error\n",
    "from sklearn.model_selection import train_test_split\n"
   ]
  },
  {
   "cell_type": "code",
   "execution_count": 10,
   "metadata": {},
   "outputs": [],
   "source": [
    "regression = pd.read_csv(\"../data/regression_preprocessed_data\")\n",
    "classification = pd.read_csv(\"../data/classification_preprocessed_data\")"
   ]
  },
  {
   "cell_type": "code",
   "execution_count": 11,
   "metadata": {},
   "outputs": [],
   "source": [
    "X_reg = regression.drop(columns= 'price')\n",
    "y_reg = regression['price']\n",
    "\n",
    "X_cl = classification.drop(columns= 'Fire Alarm')\n",
    "y_cl = classification['Fire Alarm']"
   ]
  },
  {
   "cell_type": "code",
   "execution_count": 12,
   "metadata": {},
   "outputs": [],
   "source": [
    "from sklearn.ensemble import GradientBoostingClassifier"
   ]
  },
  {
   "cell_type": "code",
   "execution_count": 24,
   "metadata": {},
   "outputs": [],
   "source": [
    "def classification_metrics(X_cl):\n",
    "    X_cl_train, X_cl_test, y_cl_train, y_cl_test = train_test_split(X_cl, y_cl[:10000], test_size=.3)\n",
    "\n",
    "    gbc= GradientBoostingClassifier()\n",
    "    gbc.fit(X_cl_train, y_cl_train)\n",
    "    y_pred = gbc.predict(X_cl_test)\n",
    "\n",
    "    print(f'confusion matrix: \\n{confusion_matrix(y_pred, y_cl_test)}')\n",
    "    print(f'accuracy: {accuracy_score(y_pred, y_cl_test)}')"
   ]
  },
  {
   "cell_type": "code",
   "execution_count": 14,
   "metadata": {},
   "outputs": [],
   "source": [
    "from sklearn.ensemble import BaggingRegressor"
   ]
  },
  {
   "cell_type": "code",
   "execution_count": 15,
   "metadata": {},
   "outputs": [],
   "source": [
    "def regression_metrics(X_reg):\n",
    "    X_reg_train, X_reg_test, y_reg_train, y_reg_test = train_test_split(X_reg,y_reg, test_size=.3)\n",
    "    \n",
    "    bg = BaggingRegressor()\n",
    "\n",
    "    bg.fit(X_reg_train, y_reg_train)\n",
    "    y_pred = bg.predict(X_reg_test)\n",
    "\n",
    "    print(f'r2: {r2_score(y_pred, y_reg_test)}')\n",
    "    print(f'mse: {mean_squared_error(y_pred, y_reg_test)}')"
   ]
  },
  {
   "cell_type": "code",
   "execution_count": 79,
   "metadata": {},
   "outputs": [
    {
     "name": "stdout",
     "output_type": "stream",
     "text": [
      "r2: 0.7027430956400779\n",
      "mse: 240614708020642.47\n"
     ]
    }
   ],
   "source": [
    "regression_metrics(X_reg)"
   ]
  },
  {
   "cell_type": "code",
   "execution_count": 9,
   "metadata": {},
   "outputs": [
    {
     "name": "stdout",
     "output_type": "stream",
     "text": [
      "confusion matrix: \n",
      "[[ 5372     5]\n",
      " [   10 13402]]\n",
      "accuracy: 0.9992016605460642\n"
     ]
    }
   ],
   "source": [
    "classification_metrics(X_cl)"
   ]
  },
  {
   "cell_type": "markdown",
   "metadata": {},
   "source": [
    "# Отбор признаков"
   ]
  },
  {
   "cell_type": "markdown",
   "metadata": {},
   "source": [
    "### VarianceThreshold: Отбор, основанный на дисперсии"
   ]
  },
  {
   "cell_type": "code",
   "execution_count": 10,
   "metadata": {},
   "outputs": [],
   "source": [
    "from sklearn.feature_selection import VarianceThreshold"
   ]
  },
  {
   "cell_type": "markdown",
   "metadata": {},
   "source": [
    "**Регрессия**"
   ]
  },
  {
   "cell_type": "code",
   "execution_count": 11,
   "metadata": {},
   "outputs": [
    {
     "data": {
      "text/plain": [
       "area                                 637.515522\n",
       "latitude                               0.109459\n",
       "longitude                              0.058669\n",
       "bedrooms                               0.750140\n",
       "bathrooms                              0.763236\n",
       "balcony                                1.291977\n",
       "parking                                1.291977\n",
       "furnished_status                       0.379643\n",
       "lift                                   1.291977\n",
       "type_of_building_Flat                  0.252284\n",
       "type_of_building_Individual House      0.252284\n",
       "status_False                           0.021928\n",
       "status_True                            0.021928\n",
       "neworold_False                         0.323020\n",
       "neworold_True                          0.323020\n",
       "dtype: float64"
      ]
     },
     "execution_count": 11,
     "metadata": {},
     "output_type": "execute_result"
    }
   ],
   "source": [
    "X_reg.std()"
   ]
  },
  {
   "cell_type": "markdown",
   "metadata": {},
   "source": [
    "*Без масштабирования признаков*"
   ]
  },
  {
   "cell_type": "code",
   "execution_count": 12,
   "metadata": {},
   "outputs": [
    {
     "data": {
      "text/plain": [
       "(6237, 6)"
      ]
     },
     "execution_count": 12,
     "metadata": {},
     "output_type": "execute_result"
    }
   ],
   "source": [
    "vt = VarianceThreshold(0.5)\n",
    "X_reg_vt = vt.fit_transform(X_reg)\n",
    "X_reg_vt.shape"
   ]
  },
  {
   "cell_type": "code",
   "execution_count": 13,
   "metadata": {},
   "outputs": [
    {
     "data": {
      "text/html": [
       "<div>\n",
       "<style scoped>\n",
       "    .dataframe tbody tr th:only-of-type {\n",
       "        vertical-align: middle;\n",
       "    }\n",
       "\n",
       "    .dataframe tbody tr th {\n",
       "        vertical-align: top;\n",
       "    }\n",
       "\n",
       "    .dataframe thead th {\n",
       "        text-align: right;\n",
       "    }\n",
       "</style>\n",
       "<table border=\"1\" class=\"dataframe\">\n",
       "  <thead>\n",
       "    <tr style=\"text-align: right;\">\n",
       "      <th></th>\n",
       "      <th>area</th>\n",
       "      <th>bedrooms</th>\n",
       "      <th>bathrooms</th>\n",
       "      <th>balcony</th>\n",
       "      <th>parking</th>\n",
       "      <th>lift</th>\n",
       "    </tr>\n",
       "  </thead>\n",
       "  <tbody>\n",
       "    <tr>\n",
       "      <th>0</th>\n",
       "      <td>629.0</td>\n",
       "      <td>2.0</td>\n",
       "      <td>2.0</td>\n",
       "      <td>0.0</td>\n",
       "      <td>0.0</td>\n",
       "      <td>0.0</td>\n",
       "    </tr>\n",
       "    <tr>\n",
       "      <th>1</th>\n",
       "      <td>974.0</td>\n",
       "      <td>3.0</td>\n",
       "      <td>2.0</td>\n",
       "      <td>0.0</td>\n",
       "      <td>0.0</td>\n",
       "      <td>0.0</td>\n",
       "    </tr>\n",
       "    <tr>\n",
       "      <th>2</th>\n",
       "      <td>968.0</td>\n",
       "      <td>3.0</td>\n",
       "      <td>3.0</td>\n",
       "      <td>0.0</td>\n",
       "      <td>0.0</td>\n",
       "      <td>0.0</td>\n",
       "    </tr>\n",
       "    <tr>\n",
       "      <th>3</th>\n",
       "      <td>629.0</td>\n",
       "      <td>2.0</td>\n",
       "      <td>2.0</td>\n",
       "      <td>2.0</td>\n",
       "      <td>2.0</td>\n",
       "      <td>2.0</td>\n",
       "    </tr>\n",
       "    <tr>\n",
       "      <th>4</th>\n",
       "      <td>1090.0</td>\n",
       "      <td>2.0</td>\n",
       "      <td>2.0</td>\n",
       "      <td>0.0</td>\n",
       "      <td>0.0</td>\n",
       "      <td>0.0</td>\n",
       "    </tr>\n",
       "  </tbody>\n",
       "</table>\n",
       "</div>"
      ],
      "text/plain": [
       "     area  bedrooms  bathrooms  balcony  parking  lift\n",
       "0   629.0       2.0        2.0      0.0      0.0   0.0\n",
       "1   974.0       3.0        2.0      0.0      0.0   0.0\n",
       "2   968.0       3.0        3.0      0.0      0.0   0.0\n",
       "3   629.0       2.0        2.0      2.0      2.0   2.0\n",
       "4  1090.0       2.0        2.0      0.0      0.0   0.0"
      ]
     },
     "execution_count": 13,
     "metadata": {},
     "output_type": "execute_result"
    }
   ],
   "source": [
    "X_reg_vt = pd.DataFrame(X_reg_vt, columns=vt.get_feature_names_out())\n",
    "X_reg_vt.head()"
   ]
  },
  {
   "cell_type": "code",
   "execution_count": 14,
   "metadata": {},
   "outputs": [
    {
     "name": "stdout",
     "output_type": "stream",
     "text": [
      "r2: 0.24797161489457686\n",
      "mse: 430632331309535.44\n"
     ]
    }
   ],
   "source": [
    "regression_metrics(X_reg_vt)"
   ]
  },
  {
   "cell_type": "markdown",
   "metadata": {},
   "source": [
    "Видим, что результат упал довольно значительно"
   ]
  },
  {
   "cell_type": "markdown",
   "metadata": {},
   "source": [
    "*С масштабирования признаков*"
   ]
  },
  {
   "cell_type": "code",
   "execution_count": 19,
   "metadata": {},
   "outputs": [],
   "source": [
    "from sklearn.preprocessing import MinMaxScaler, StandardScaler"
   ]
  },
  {
   "cell_type": "code",
   "execution_count": 16,
   "metadata": {},
   "outputs": [],
   "source": [
    "X_reg_scaled = MinMaxScaler().fit_transform(X_reg)\n",
    "\n",
    "X_reg_scaled = pd.DataFrame(X_reg_scaled, columns= X_reg.columns)"
   ]
  },
  {
   "cell_type": "code",
   "execution_count": 17,
   "metadata": {},
   "outputs": [
    {
     "data": {
      "text/plain": [
       "area                                 0.085036\n",
       "latitude                             0.181667\n",
       "longitude                            0.132213\n",
       "bedrooms                             0.093767\n",
       "bathrooms                            0.076324\n",
       "balcony                              0.161497\n",
       "parking                              0.161497\n",
       "furnished_status                     0.379643\n",
       "lift                                 0.161497\n",
       "type_of_building_Flat                0.252284\n",
       "type_of_building_Individual House    0.252284\n",
       "status_False                         0.021928\n",
       "status_True                          0.021928\n",
       "neworold_False                       0.323020\n",
       "neworold_True                        0.323020\n",
       "dtype: float64"
      ]
     },
     "execution_count": 17,
     "metadata": {},
     "output_type": "execute_result"
    }
   ],
   "source": [
    "X_reg_scaled.std()"
   ]
  },
  {
   "cell_type": "code",
   "execution_count": 18,
   "metadata": {},
   "outputs": [
    {
     "data": {
      "text/plain": [
       "0.17517370165350496"
      ]
     },
     "execution_count": 18,
     "metadata": {},
     "output_type": "execute_result"
    }
   ],
   "source": [
    "mean_std = X_reg_scaled.std().mean()\n",
    "mean_std"
   ]
  },
  {
   "cell_type": "code",
   "execution_count": 19,
   "metadata": {},
   "outputs": [
    {
     "data": {
      "text/plain": [
       "(6237, 9)"
      ]
     },
     "execution_count": 19,
     "metadata": {},
     "output_type": "execute_result"
    }
   ],
   "source": [
    "vt_reg_scaled = VarianceThreshold(mean_std / 10)\n",
    "X_reg_scaled_vt = vt_reg_scaled.fit_transform(X_reg_scaled)\n",
    "X_reg_scaled_vt.shape"
   ]
  },
  {
   "cell_type": "code",
   "execution_count": 20,
   "metadata": {},
   "outputs": [
    {
     "name": "stdout",
     "output_type": "stream",
     "text": [
      "r2: -0.4236360029252868\n",
      "mse: 659389683083323.4\n"
     ]
    }
   ],
   "source": [
    "X_reg_scaled_vt = pd.DataFrame(X_reg_scaled_vt, columns= vt_reg_scaled.get_feature_names_out())\n",
    "regression_metrics(X_reg_scaled_vt)"
   ]
  },
  {
   "cell_type": "markdown",
   "metadata": {},
   "source": [
    "С MinMax масштабированием результат стал хуже по сравнению с результатом без мастабирования"
   ]
  },
  {
   "cell_type": "code",
   "execution_count": 21,
   "metadata": {},
   "outputs": [],
   "source": [
    "X_reg_scaled = StandardScaler().fit_transform(X_reg)\n",
    "\n",
    "X_reg_scaled = pd.DataFrame(X_reg_scaled, columns= X_reg.columns)"
   ]
  },
  {
   "cell_type": "code",
   "execution_count": 22,
   "metadata": {},
   "outputs": [
    {
     "data": {
      "text/plain": [
       "(6237, 5)"
      ]
     },
     "execution_count": 22,
     "metadata": {},
     "output_type": "execute_result"
    }
   ],
   "source": [
    "vt_reg_scaled = VarianceThreshold(1)\n",
    "X_reg_scaled_vt = vt_reg_scaled.fit_transform(X_reg_scaled)\n",
    "X_reg_scaled_vt.shape"
   ]
  },
  {
   "cell_type": "code",
   "execution_count": 23,
   "metadata": {},
   "outputs": [
    {
     "name": "stdout",
     "output_type": "stream",
     "text": [
      "r2: -12.59614030566075\n",
      "mse: 770236206612561.2\n"
     ]
    }
   ],
   "source": [
    "X_reg_scaled_vt = pd.DataFrame(X_reg_scaled_vt, columns= vt_reg_scaled.get_feature_names_out())\n",
    "regression_metrics(X_reg_scaled_vt)"
   ]
  },
  {
   "cell_type": "markdown",
   "metadata": {},
   "source": [
    "StandartScaler тоже не улучшил результат"
   ]
  },
  {
   "cell_type": "markdown",
   "metadata": {},
   "source": [
    "**Классификация**"
   ]
  },
  {
   "cell_type": "code",
   "execution_count": 24,
   "metadata": {},
   "outputs": [
    {
     "data": {
      "text/plain": [
       "Temperature      14.344456\n",
       "Humidity          8.851486\n",
       "TVOC           7780.803394\n",
       "eCO2           1904.714566\n",
       "Raw H2          272.289864\n",
       "Raw Ethanol     609.513156\n",
       "Pressure          1.330882\n",
       "PM1.0           922.524245\n",
       "PM2.5          1971.581818\n",
       "NC0.5          4265.661251\n",
       "NC1.0          2210.259493\n",
       "NC2.5          1083.383189\n",
       "dtype: float64"
      ]
     },
     "execution_count": 24,
     "metadata": {},
     "output_type": "execute_result"
    }
   ],
   "source": [
    "X_cl.std()"
   ]
  },
  {
   "cell_type": "code",
   "execution_count": 25,
   "metadata": {},
   "outputs": [
    {
     "data": {
      "text/plain": [
       "(62630, 10)"
      ]
     },
     "execution_count": 25,
     "metadata": {},
     "output_type": "execute_result"
    }
   ],
   "source": [
    "mean_std = X_cl.std().mean()\n",
    "\n",
    "vt = VarianceThreshold(mean_std / 10)\n",
    "X_cl_vt = vt.fit_transform(X_cl)\n",
    "X_cl_vt.shape"
   ]
  },
  {
   "cell_type": "code",
   "execution_count": 26,
   "metadata": {},
   "outputs": [
    {
     "name": "stdout",
     "output_type": "stream",
     "text": [
      "confusion matrix: \n",
      "[[ 5346     4]\n",
      " [   24 13415]]\n",
      "accuracy: 0.9985097663526531\n"
     ]
    }
   ],
   "source": [
    "X_cl_vt = pd.DataFrame(X_cl_vt, columns= vt.get_feature_names_out())\n",
    "classification_metrics(X_cl_vt)"
   ]
  },
  {
   "cell_type": "markdown",
   "metadata": {},
   "source": [
    "Да, точность упала на капельку, но мы избавились от 2 признаков"
   ]
  },
  {
   "cell_type": "markdown",
   "metadata": {},
   "source": [
    "*С маштабированием*"
   ]
  },
  {
   "cell_type": "code",
   "execution_count": 27,
   "metadata": {},
   "outputs": [
    {
     "data": {
      "text/plain": [
       "Temperature    0.175060\n",
       "Humidity       0.137318\n",
       "TVOC           0.129680\n",
       "eCO2           0.031958\n",
       "Raw H2         0.086855\n",
       "Raw Ethanol    0.100035\n",
       "Pressure       0.147728\n",
       "PM1.0          0.064361\n",
       "PM2.5          0.043396\n",
       "NC0.5          0.069381\n",
       "NC1.0          0.042575\n",
       "NC2.5          0.036081\n",
       "dtype: float64"
      ]
     },
     "execution_count": 27,
     "metadata": {},
     "output_type": "execute_result"
    }
   ],
   "source": [
    "X_cl_scaled = MinMaxScaler().fit_transform(X_cl)\n",
    "X_cl_scaled = pd.DataFrame(X_cl_scaled, columns= X_cl.columns)\n",
    "X_cl_scaled.std()"
   ]
  },
  {
   "cell_type": "code",
   "execution_count": 28,
   "metadata": {},
   "outputs": [
    {
     "data": {
      "text/plain": [
       "0.08870227107619662"
      ]
     },
     "execution_count": 28,
     "metadata": {},
     "output_type": "execute_result"
    }
   ],
   "source": [
    "mean_std = X_cl_scaled.std().mean()\n",
    "mean_std"
   ]
  },
  {
   "cell_type": "code",
   "execution_count": 29,
   "metadata": {},
   "outputs": [
    {
     "data": {
      "text/plain": [
       "(62630, 5)"
      ]
     },
     "execution_count": 29,
     "metadata": {},
     "output_type": "execute_result"
    }
   ],
   "source": [
    "vt = VarianceThreshold(mean_std / 10)\n",
    "X_cl_vt = vt.fit_transform(X_cl_scaled)\n",
    "X_cl_vt.shape"
   ]
  },
  {
   "cell_type": "code",
   "execution_count": 30,
   "metadata": {},
   "outputs": [
    {
     "data": {
      "text/html": [
       "<div>\n",
       "<style scoped>\n",
       "    .dataframe tbody tr th:only-of-type {\n",
       "        vertical-align: middle;\n",
       "    }\n",
       "\n",
       "    .dataframe tbody tr th {\n",
       "        vertical-align: top;\n",
       "    }\n",
       "\n",
       "    .dataframe thead th {\n",
       "        text-align: right;\n",
       "    }\n",
       "</style>\n",
       "<table border=\"1\" class=\"dataframe\">\n",
       "  <thead>\n",
       "    <tr style=\"text-align: right;\">\n",
       "      <th></th>\n",
       "      <th>Temperature</th>\n",
       "      <th>Humidity</th>\n",
       "      <th>TVOC</th>\n",
       "      <th>Raw Ethanol</th>\n",
       "      <th>Pressure</th>\n",
       "    </tr>\n",
       "  </thead>\n",
       "  <tbody>\n",
       "    <tr>\n",
       "      <th>0</th>\n",
       "      <td>0.512692</td>\n",
       "      <td>0.723239</td>\n",
       "      <td>0.000000</td>\n",
       "      <td>0.525685</td>\n",
       "      <td>0.986014</td>\n",
       "    </tr>\n",
       "    <tr>\n",
       "      <th>1</th>\n",
       "      <td>0.512875</td>\n",
       "      <td>0.712535</td>\n",
       "      <td>0.000000</td>\n",
       "      <td>0.547185</td>\n",
       "      <td>0.987013</td>\n",
       "    </tr>\n",
       "    <tr>\n",
       "      <th>2</th>\n",
       "      <td>0.513046</td>\n",
       "      <td>0.701520</td>\n",
       "      <td>0.000000</td>\n",
       "      <td>0.565731</td>\n",
       "      <td>0.986347</td>\n",
       "    </tr>\n",
       "    <tr>\n",
       "      <th>3</th>\n",
       "      <td>0.513229</td>\n",
       "      <td>0.690971</td>\n",
       "      <td>0.000000</td>\n",
       "      <td>0.579682</td>\n",
       "      <td>0.986125</td>\n",
       "    </tr>\n",
       "    <tr>\n",
       "      <th>4</th>\n",
       "      <td>0.513412</td>\n",
       "      <td>0.681818</td>\n",
       "      <td>0.000000</td>\n",
       "      <td>0.591498</td>\n",
       "      <td>0.987013</td>\n",
       "    </tr>\n",
       "    <tr>\n",
       "      <th>...</th>\n",
       "      <td>...</td>\n",
       "      <td>...</td>\n",
       "      <td>...</td>\n",
       "      <td>...</td>\n",
       "      <td>...</td>\n",
       "    </tr>\n",
       "    <tr>\n",
       "      <th>62625</th>\n",
       "      <td>0.493629</td>\n",
       "      <td>0.078343</td>\n",
       "      <td>0.010417</td>\n",
       "      <td>0.861973</td>\n",
       "      <td>0.645799</td>\n",
       "    </tr>\n",
       "    <tr>\n",
       "      <th>62626</th>\n",
       "      <td>0.496253</td>\n",
       "      <td>0.079584</td>\n",
       "      <td>0.010200</td>\n",
       "      <td>0.865091</td>\n",
       "      <td>0.646687</td>\n",
       "    </tr>\n",
       "    <tr>\n",
       "      <th>62627</th>\n",
       "      <td>0.498865</td>\n",
       "      <td>0.079119</td>\n",
       "      <td>0.010450</td>\n",
       "      <td>0.864106</td>\n",
       "      <td>0.647686</td>\n",
       "    </tr>\n",
       "    <tr>\n",
       "      <th>62628</th>\n",
       "      <td>0.501501</td>\n",
       "      <td>0.082222</td>\n",
       "      <td>0.010633</td>\n",
       "      <td>0.861480</td>\n",
       "      <td>0.646909</td>\n",
       "    </tr>\n",
       "    <tr>\n",
       "      <th>62629</th>\n",
       "      <td>0.504137</td>\n",
       "      <td>0.089668</td>\n",
       "      <td>0.010717</td>\n",
       "      <td>0.857706</td>\n",
       "      <td>0.646465</td>\n",
       "    </tr>\n",
       "  </tbody>\n",
       "</table>\n",
       "<p>62630 rows × 5 columns</p>\n",
       "</div>"
      ],
      "text/plain": [
       "       Temperature  Humidity      TVOC  Raw Ethanol  Pressure\n",
       "0         0.512692  0.723239  0.000000     0.525685  0.986014\n",
       "1         0.512875  0.712535  0.000000     0.547185  0.987013\n",
       "2         0.513046  0.701520  0.000000     0.565731  0.986347\n",
       "3         0.513229  0.690971  0.000000     0.579682  0.986125\n",
       "4         0.513412  0.681818  0.000000     0.591498  0.987013\n",
       "...            ...       ...       ...          ...       ...\n",
       "62625     0.493629  0.078343  0.010417     0.861973  0.645799\n",
       "62626     0.496253  0.079584  0.010200     0.865091  0.646687\n",
       "62627     0.498865  0.079119  0.010450     0.864106  0.647686\n",
       "62628     0.501501  0.082222  0.010633     0.861480  0.646909\n",
       "62629     0.504137  0.089668  0.010717     0.857706  0.646465\n",
       "\n",
       "[62630 rows x 5 columns]"
      ]
     },
     "execution_count": 30,
     "metadata": {},
     "output_type": "execute_result"
    }
   ],
   "source": [
    "X_cl_scaled_vt = pd.DataFrame(X_cl_vt, columns= vt.get_feature_names_out())\n",
    "X_cl_scaled_vt"
   ]
  },
  {
   "cell_type": "code",
   "execution_count": 31,
   "metadata": {},
   "outputs": [
    {
     "name": "stdout",
     "output_type": "stream",
     "text": [
      "confusion matrix: \n",
      "[[ 5400     4]\n",
      " [   16 13369]]\n",
      "accuracy: 0.9989355473947522\n"
     ]
    }
   ],
   "source": [
    "classification_metrics(X_cl_scaled_vt)"
   ]
  },
  {
   "cell_type": "markdown",
   "metadata": {},
   "source": [
    "Ух ты...понизили размерность с 12 до 5 и точность упала совсем незначительно. Это успех!"
   ]
  },
  {
   "cell_type": "code",
   "execution_count": 20,
   "metadata": {},
   "outputs": [
    {
     "data": {
      "text/plain": [
       "Temperature    1.000008\n",
       "Humidity       1.000008\n",
       "TVOC           1.000008\n",
       "eCO2           1.000008\n",
       "Raw H2         1.000008\n",
       "Raw Ethanol    1.000008\n",
       "Pressure       1.000008\n",
       "PM1.0          1.000008\n",
       "PM2.5          1.000008\n",
       "NC0.5          1.000008\n",
       "NC1.0          1.000008\n",
       "NC2.5          1.000008\n",
       "dtype: float64"
      ]
     },
     "execution_count": 20,
     "metadata": {},
     "output_type": "execute_result"
    }
   ],
   "source": [
    "X_cl_scaled = StandardScaler().fit_transform(X_cl)\n",
    "X_cl_scaled = pd.DataFrame(X_cl_scaled, columns= X_cl.columns)\n",
    "X_cl_scaled.std()"
   ]
  },
  {
   "cell_type": "markdown",
   "metadata": {},
   "source": [
    "## SelectKBest"
   ]
  },
  {
   "cell_type": "code",
   "execution_count": 33,
   "metadata": {},
   "outputs": [],
   "source": [
    "from sklearn.feature_selection import SelectKBest"
   ]
  },
  {
   "cell_type": "markdown",
   "metadata": {},
   "source": [
    "**Регрессия**"
   ]
  },
  {
   "cell_type": "code",
   "execution_count": 34,
   "metadata": {},
   "outputs": [
    {
     "name": "stdout",
     "output_type": "stream",
     "text": [
      "r2: 0.6071329376681625\n",
      "mse: 235813182328276.1\n"
     ]
    }
   ],
   "source": [
    "skb = SelectKBest(k= 5)\n",
    "X_skb = skb.fit_transform(X_reg, y_reg)\n",
    "regression_metrics(X_skb)"
   ]
  },
  {
   "cell_type": "markdown",
   "metadata": {},
   "source": [
    "Вау: с 12 до 5, значительнейшее улучшение по сравнению с VarienceThreshold"
   ]
  },
  {
   "cell_type": "code",
   "execution_count": 35,
   "metadata": {},
   "outputs": [
    {
     "name": "stdout",
     "output_type": "stream",
     "text": [
      "r2: 0.6970937315918835\n",
      "mse: 231139266358046.22\n"
     ]
    }
   ],
   "source": [
    "skb = SelectKBest(k= 3)\n",
    "X_skb = skb.fit_transform(X_reg, y_reg)\n",
    "regression_metrics(X_skb)"
   ]
  },
  {
   "cell_type": "code",
   "execution_count": 85,
   "metadata": {},
   "outputs": [
    {
     "name": "stdout",
     "output_type": "stream",
     "text": [
      "r2: 0.5593102287769226\n",
      "mse: 268158764132961.0\n"
     ]
    }
   ],
   "source": [
    "skb = SelectKBest(k= 2)\n",
    "X_skb = skb.fit_transform(X_reg, y_reg)\n",
    "regression_metrics(X_skb)"
   ]
  },
  {
   "cell_type": "markdown",
   "metadata": {},
   "source": [
    "ВАУ: до трёх признаков - это прям стояще, потеряв точность в стотысячной доле"
   ]
  },
  {
   "cell_type": "code",
   "execution_count": 36,
   "metadata": {},
   "outputs": [
    {
     "data": {
      "text/html": [
       "<div>\n",
       "<style scoped>\n",
       "    .dataframe tbody tr th:only-of-type {\n",
       "        vertical-align: middle;\n",
       "    }\n",
       "\n",
       "    .dataframe tbody tr th {\n",
       "        vertical-align: top;\n",
       "    }\n",
       "\n",
       "    .dataframe thead th {\n",
       "        text-align: right;\n",
       "    }\n",
       "</style>\n",
       "<table border=\"1\" class=\"dataframe\">\n",
       "  <thead>\n",
       "    <tr style=\"text-align: right;\">\n",
       "      <th></th>\n",
       "      <th>area</th>\n",
       "      <th>latitude</th>\n",
       "      <th>bathrooms</th>\n",
       "    </tr>\n",
       "  </thead>\n",
       "  <tbody>\n",
       "    <tr>\n",
       "      <th>0</th>\n",
       "      <td>629.0</td>\n",
       "      <td>19.032800</td>\n",
       "      <td>2.0</td>\n",
       "    </tr>\n",
       "    <tr>\n",
       "      <th>1</th>\n",
       "      <td>974.0</td>\n",
       "      <td>19.032800</td>\n",
       "      <td>2.0</td>\n",
       "    </tr>\n",
       "    <tr>\n",
       "      <th>2</th>\n",
       "      <td>968.0</td>\n",
       "      <td>19.085600</td>\n",
       "      <td>3.0</td>\n",
       "    </tr>\n",
       "    <tr>\n",
       "      <th>3</th>\n",
       "      <td>629.0</td>\n",
       "      <td>19.155756</td>\n",
       "      <td>2.0</td>\n",
       "    </tr>\n",
       "    <tr>\n",
       "      <th>4</th>\n",
       "      <td>1090.0</td>\n",
       "      <td>19.177555</td>\n",
       "      <td>2.0</td>\n",
       "    </tr>\n",
       "    <tr>\n",
       "      <th>...</th>\n",
       "      <td>...</td>\n",
       "      <td>...</td>\n",
       "      <td>...</td>\n",
       "    </tr>\n",
       "    <tr>\n",
       "      <th>6232</th>\n",
       "      <td>810.0</td>\n",
       "      <td>19.138320</td>\n",
       "      <td>2.0</td>\n",
       "    </tr>\n",
       "    <tr>\n",
       "      <th>6233</th>\n",
       "      <td>1400.0</td>\n",
       "      <td>19.221920</td>\n",
       "      <td>3.0</td>\n",
       "    </tr>\n",
       "    <tr>\n",
       "      <th>6234</th>\n",
       "      <td>750.0</td>\n",
       "      <td>19.144320</td>\n",
       "      <td>2.0</td>\n",
       "    </tr>\n",
       "    <tr>\n",
       "      <th>6235</th>\n",
       "      <td>700.0</td>\n",
       "      <td>19.047201</td>\n",
       "      <td>2.0</td>\n",
       "    </tr>\n",
       "    <tr>\n",
       "      <th>6236</th>\n",
       "      <td>900.0</td>\n",
       "      <td>19.168818</td>\n",
       "      <td>2.0</td>\n",
       "    </tr>\n",
       "  </tbody>\n",
       "</table>\n",
       "<p>6237 rows × 3 columns</p>\n",
       "</div>"
      ],
      "text/plain": [
       "        area   latitude  bathrooms\n",
       "0      629.0  19.032800        2.0\n",
       "1      974.0  19.032800        2.0\n",
       "2      968.0  19.085600        3.0\n",
       "3      629.0  19.155756        2.0\n",
       "4     1090.0  19.177555        2.0\n",
       "...      ...        ...        ...\n",
       "6232   810.0  19.138320        2.0\n",
       "6233  1400.0  19.221920        3.0\n",
       "6234   750.0  19.144320        2.0\n",
       "6235   700.0  19.047201        2.0\n",
       "6236   900.0  19.168818        2.0\n",
       "\n",
       "[6237 rows x 3 columns]"
      ]
     },
     "execution_count": 36,
     "metadata": {},
     "output_type": "execute_result"
    }
   ],
   "source": [
    "skb_best_X = pd.DataFrame(X_skb, columns= skb.get_feature_names_out())\n",
    "skb_best_X"
   ]
  },
  {
   "cell_type": "markdown",
   "metadata": {},
   "source": [
    "**Классификация**"
   ]
  },
  {
   "cell_type": "code",
   "execution_count": 37,
   "metadata": {},
   "outputs": [
    {
     "name": "stdout",
     "output_type": "stream",
     "text": [
      "confusion matrix: \n",
      "[[ 5357     3]\n",
      " [   18 13411]]\n",
      "accuracy: 0.9988823247644899\n"
     ]
    }
   ],
   "source": [
    "skb = SelectKBest(k= 5)\n",
    "X_cl_skb = skb.fit_transform(X_cl, y_cl)\n",
    "classification_metrics(X_cl_skb)"
   ]
  },
  {
   "cell_type": "code",
   "execution_count": 38,
   "metadata": {},
   "outputs": [
    {
     "name": "stdout",
     "output_type": "stream",
     "text": [
      "confusion matrix: \n",
      "[[ 4070   231]\n",
      " [ 1297 13191]]\n",
      "accuracy: 0.9186758209590717\n"
     ]
    }
   ],
   "source": [
    "skb = SelectKBest(k= 2)\n",
    "X_cl_skb = skb.fit_transform(X_cl, y_cl)\n",
    "classification_metrics(X_cl_skb)"
   ]
  },
  {
   "cell_type": "code",
   "execution_count": 39,
   "metadata": {},
   "outputs": [
    {
     "data": {
      "text/html": [
       "<div>\n",
       "<style scoped>\n",
       "    .dataframe tbody tr th:only-of-type {\n",
       "        vertical-align: middle;\n",
       "    }\n",
       "\n",
       "    .dataframe tbody tr th {\n",
       "        vertical-align: top;\n",
       "    }\n",
       "\n",
       "    .dataframe thead th {\n",
       "        text-align: right;\n",
       "    }\n",
       "</style>\n",
       "<table border=\"1\" class=\"dataframe\">\n",
       "  <thead>\n",
       "    <tr style=\"text-align: right;\">\n",
       "      <th></th>\n",
       "      <th>Humidity</th>\n",
       "      <th>Raw Ethanol</th>\n",
       "    </tr>\n",
       "  </thead>\n",
       "  <tbody>\n",
       "    <tr>\n",
       "      <th>0</th>\n",
       "      <td>57.36</td>\n",
       "      <td>18520.0</td>\n",
       "    </tr>\n",
       "    <tr>\n",
       "      <th>1</th>\n",
       "      <td>56.67</td>\n",
       "      <td>18651.0</td>\n",
       "    </tr>\n",
       "    <tr>\n",
       "      <th>2</th>\n",
       "      <td>55.96</td>\n",
       "      <td>18764.0</td>\n",
       "    </tr>\n",
       "    <tr>\n",
       "      <th>3</th>\n",
       "      <td>55.28</td>\n",
       "      <td>18849.0</td>\n",
       "    </tr>\n",
       "    <tr>\n",
       "      <th>4</th>\n",
       "      <td>54.69</td>\n",
       "      <td>18921.0</td>\n",
       "    </tr>\n",
       "    <tr>\n",
       "      <th>...</th>\n",
       "      <td>...</td>\n",
       "      <td>...</td>\n",
       "    </tr>\n",
       "    <tr>\n",
       "      <th>62625</th>\n",
       "      <td>15.79</td>\n",
       "      <td>20569.0</td>\n",
       "    </tr>\n",
       "    <tr>\n",
       "      <th>62626</th>\n",
       "      <td>15.87</td>\n",
       "      <td>20588.0</td>\n",
       "    </tr>\n",
       "    <tr>\n",
       "      <th>62627</th>\n",
       "      <td>15.84</td>\n",
       "      <td>20582.0</td>\n",
       "    </tr>\n",
       "    <tr>\n",
       "      <th>62628</th>\n",
       "      <td>16.04</td>\n",
       "      <td>20566.0</td>\n",
       "    </tr>\n",
       "    <tr>\n",
       "      <th>62629</th>\n",
       "      <td>16.52</td>\n",
       "      <td>20543.0</td>\n",
       "    </tr>\n",
       "  </tbody>\n",
       "</table>\n",
       "<p>62630 rows × 2 columns</p>\n",
       "</div>"
      ],
      "text/plain": [
       "       Humidity  Raw Ethanol\n",
       "0         57.36      18520.0\n",
       "1         56.67      18651.0\n",
       "2         55.96      18764.0\n",
       "3         55.28      18849.0\n",
       "4         54.69      18921.0\n",
       "...         ...          ...\n",
       "62625     15.79      20569.0\n",
       "62626     15.87      20588.0\n",
       "62627     15.84      20582.0\n",
       "62628     16.04      20566.0\n",
       "62629     16.52      20543.0\n",
       "\n",
       "[62630 rows x 2 columns]"
      ]
     },
     "execution_count": 39,
     "metadata": {},
     "output_type": "execute_result"
    }
   ],
   "source": [
    "X_cl_skb_best = pd.DataFrame(X_cl_skb, columns= skb.get_feature_names_out())\n",
    "X_cl_skb_best"
   ]
  },
  {
   "cell_type": "markdown",
   "metadata": {},
   "source": [
    "Теперь даже можно визуализировать данные, состоящие из двух признаков"
   ]
  },
  {
   "cell_type": "code",
   "execution_count": 40,
   "metadata": {},
   "outputs": [],
   "source": [
    "import matplotlib.pyplot as plt"
   ]
  },
  {
   "cell_type": "code",
   "execution_count": 42,
   "metadata": {},
   "outputs": [
    {
     "data": {
      "text/plain": [
       "array([[5.7360e+01, 1.8520e+04],\n",
       "       [5.6670e+01, 1.8651e+04],\n",
       "       [5.5960e+01, 1.8764e+04],\n",
       "       ...,\n",
       "       [1.5840e+01, 2.0582e+04],\n",
       "       [1.6040e+01, 2.0566e+04],\n",
       "       [1.6520e+01, 2.0543e+04]])"
      ]
     },
     "execution_count": 42,
     "metadata": {},
     "output_type": "execute_result"
    }
   ],
   "source": [
    "X_cl_skb"
   ]
  },
  {
   "cell_type": "code",
   "execution_count": 43,
   "metadata": {},
   "outputs": [
    {
     "data": {
      "text/plain": [
       "<matplotlib.collections.PathCollection at 0x7fcd61ed79a0>"
      ]
     },
     "execution_count": 43,
     "metadata": {},
     "output_type": "execute_result"
    },
    {
     "data": {
      "image/png": "[encoded data removed]",
      "text/plain": [
       "<Figure size 640x480 with 1 Axes>"
      ]
     },
     "metadata": {},
     "output_type": "display_data"
    }
   ],
   "source": [
    "plt.scatter(X_cl_skb[:,0],  X_cl_skb[:,1], c= y_cl)"
   ]
  },
  {
   "cell_type": "markdown",
   "metadata": {},
   "source": [
    "## Recursive Feature Elimination: Рекурсивный отбор признаков"
   ]
  },
  {
   "cell_type": "code",
   "execution_count": 44,
   "metadata": {},
   "outputs": [],
   "source": [
    "from sklearn.feature_selection import RFE"
   ]
  },
  {
   "cell_type": "markdown",
   "metadata": {},
   "source": [
    "**Regression**"
   ]
  },
  {
   "cell_type": "code",
   "execution_count": 45,
   "metadata": {},
   "outputs": [
    {
     "data": {
      "text/plain": [
       "0.5396245422149095"
      ]
     },
     "execution_count": 45,
     "metadata": {},
     "output_type": "execute_result"
    }
   ],
   "source": [
    "from sklearn.linear_model import LinearRegression\n",
    "lr = LinearRegression()\n",
    "\n",
    "X_reg_train, X_reg_test, y_reg_train, y_reg_test = train_test_split(X_reg,y_reg, test_size=.3)\n",
    "lr.fit(X_reg_train, y_reg_train)\n",
    "\n",
    "y_pred = lr.predict(X_reg_test)\n",
    "r2_score(y_pred, y_reg_test)"
   ]
  },
  {
   "cell_type": "code",
   "execution_count": 46,
   "metadata": {},
   "outputs": [
    {
     "data": {
      "text/plain": [
       "(6237, 5)"
      ]
     },
     "execution_count": 46,
     "metadata": {},
     "output_type": "execute_result"
    }
   ],
   "source": [
    "rfe_reg = RFE(estimator= lr, n_features_to_select=5, step=1)\n",
    "X_reg_rfe = rfe_reg.fit_transform(X_reg, y_reg)\n",
    "X_reg_rfe.shape"
   ]
  },
  {
   "cell_type": "code",
   "execution_count": 47,
   "metadata": {},
   "outputs": [
    {
     "data": {
      "text/html": [
       "<div>\n",
       "<style scoped>\n",
       "    .dataframe tbody tr th:only-of-type {\n",
       "        vertical-align: middle;\n",
       "    }\n",
       "\n",
       "    .dataframe tbody tr th {\n",
       "        vertical-align: top;\n",
       "    }\n",
       "\n",
       "    .dataframe thead th {\n",
       "        text-align: right;\n",
       "    }\n",
       "</style>\n",
       "<table border=\"1\" class=\"dataframe\">\n",
       "  <thead>\n",
       "    <tr style=\"text-align: right;\">\n",
       "      <th></th>\n",
       "      <th>latitude</th>\n",
       "      <th>longitude</th>\n",
       "      <th>bathrooms</th>\n",
       "      <th>balcony</th>\n",
       "      <th>lift</th>\n",
       "    </tr>\n",
       "  </thead>\n",
       "  <tbody>\n",
       "    <tr>\n",
       "      <th>0</th>\n",
       "      <td>19.032800</td>\n",
       "      <td>72.896357</td>\n",
       "      <td>2.0</td>\n",
       "      <td>0.0</td>\n",
       "      <td>0.0</td>\n",
       "    </tr>\n",
       "    <tr>\n",
       "      <th>1</th>\n",
       "      <td>19.032800</td>\n",
       "      <td>72.896357</td>\n",
       "      <td>2.0</td>\n",
       "      <td>0.0</td>\n",
       "      <td>0.0</td>\n",
       "    </tr>\n",
       "    <tr>\n",
       "      <th>2</th>\n",
       "      <td>19.085600</td>\n",
       "      <td>72.909277</td>\n",
       "      <td>3.0</td>\n",
       "      <td>0.0</td>\n",
       "      <td>0.0</td>\n",
       "    </tr>\n",
       "    <tr>\n",
       "      <th>3</th>\n",
       "      <td>19.155756</td>\n",
       "      <td>72.846862</td>\n",
       "      <td>2.0</td>\n",
       "      <td>2.0</td>\n",
       "      <td>2.0</td>\n",
       "    </tr>\n",
       "    <tr>\n",
       "      <th>4</th>\n",
       "      <td>19.177555</td>\n",
       "      <td>72.849887</td>\n",
       "      <td>2.0</td>\n",
       "      <td>0.0</td>\n",
       "      <td>0.0</td>\n",
       "    </tr>\n",
       "    <tr>\n",
       "      <th>...</th>\n",
       "      <td>...</td>\n",
       "      <td>...</td>\n",
       "      <td>...</td>\n",
       "      <td>...</td>\n",
       "      <td>...</td>\n",
       "    </tr>\n",
       "    <tr>\n",
       "      <th>6232</th>\n",
       "      <td>19.138320</td>\n",
       "      <td>72.810020</td>\n",
       "      <td>2.0</td>\n",
       "      <td>0.0</td>\n",
       "      <td>0.0</td>\n",
       "    </tr>\n",
       "    <tr>\n",
       "      <th>6233</th>\n",
       "      <td>19.221920</td>\n",
       "      <td>72.854250</td>\n",
       "      <td>3.0</td>\n",
       "      <td>1.0</td>\n",
       "      <td>1.0</td>\n",
       "    </tr>\n",
       "    <tr>\n",
       "      <th>6234</th>\n",
       "      <td>19.144320</td>\n",
       "      <td>72.824111</td>\n",
       "      <td>2.0</td>\n",
       "      <td>0.0</td>\n",
       "      <td>0.0</td>\n",
       "    </tr>\n",
       "    <tr>\n",
       "      <th>6235</th>\n",
       "      <td>19.047201</td>\n",
       "      <td>72.872225</td>\n",
       "      <td>2.0</td>\n",
       "      <td>0.0</td>\n",
       "      <td>0.0</td>\n",
       "    </tr>\n",
       "    <tr>\n",
       "      <th>6236</th>\n",
       "      <td>19.168818</td>\n",
       "      <td>72.936375</td>\n",
       "      <td>2.0</td>\n",
       "      <td>0.0</td>\n",
       "      <td>0.0</td>\n",
       "    </tr>\n",
       "  </tbody>\n",
       "</table>\n",
       "<p>6237 rows × 5 columns</p>\n",
       "</div>"
      ],
      "text/plain": [
       "       latitude  longitude  bathrooms  balcony  lift\n",
       "0     19.032800  72.896357        2.0      0.0   0.0\n",
       "1     19.032800  72.896357        2.0      0.0   0.0\n",
       "2     19.085600  72.909277        3.0      0.0   0.0\n",
       "3     19.155756  72.846862        2.0      2.0   2.0\n",
       "4     19.177555  72.849887        2.0      0.0   0.0\n",
       "...         ...        ...        ...      ...   ...\n",
       "6232  19.138320  72.810020        2.0      0.0   0.0\n",
       "6233  19.221920  72.854250        3.0      1.0   1.0\n",
       "6234  19.144320  72.824111        2.0      0.0   0.0\n",
       "6235  19.047201  72.872225        2.0      0.0   0.0\n",
       "6236  19.168818  72.936375        2.0      0.0   0.0\n",
       "\n",
       "[6237 rows x 5 columns]"
      ]
     },
     "execution_count": 47,
     "metadata": {},
     "output_type": "execute_result"
    }
   ],
   "source": [
    "X_reg_rfe = pd.DataFrame(X_reg_rfe, columns= rfe_reg.get_feature_names_out())\n",
    "X_reg_rfe"
   ]
  },
  {
   "cell_type": "code",
   "execution_count": 48,
   "metadata": {},
   "outputs": [
    {
     "name": "stdout",
     "output_type": "stream",
     "text": [
      "r2: 0.49582021816391897\n",
      "mse: 334081746834103.0\n"
     ]
    }
   ],
   "source": [
    "regression_metrics(X_reg_rfe)"
   ]
  },
  {
   "cell_type": "markdown",
   "metadata": {},
   "source": [
    "Очень неплохой результат...с учётом того, что мы скакнули с 12 до 5 и у Линейной модели выше была точность 0.48"
   ]
  },
  {
   "cell_type": "markdown",
   "metadata": {},
   "source": [
    "**Classification**"
   ]
  },
  {
   "cell_type": "code",
   "execution_count": 49,
   "metadata": {},
   "outputs": [
    {
     "name": "stdout",
     "output_type": "stream",
     "text": [
      "confusion matrix: \n",
      "[[ 5372     4]\n",
      " [    7 13406]]\n",
      "accuracy: 0.9994145510671137\n"
     ]
    }
   ],
   "source": [
    "X_cl_train, X_cl_test, y_cl_train, y_cl_test = train_test_split(X_cl, y_cl, test_size=.3)\n",
    "\n",
    "gbc= GradientBoostingClassifier()\n",
    "gbc.fit(X_cl_train, y_cl_train)\n",
    "y_pred = gbc.predict(X_cl_test)\n",
    "\n",
    "print(f'confusion matrix: \\n{confusion_matrix(y_pred, y_cl_test)}')\n",
    "print(f'accuracy: {accuracy_score(y_pred, y_cl_test)}')"
   ]
  },
  {
   "cell_type": "code",
   "execution_count": 50,
   "metadata": {},
   "outputs": [
    {
     "data": {
      "text/html": [
       "<div>\n",
       "<style scoped>\n",
       "    .dataframe tbody tr th:only-of-type {\n",
       "        vertical-align: middle;\n",
       "    }\n",
       "\n",
       "    .dataframe tbody tr th {\n",
       "        vertical-align: top;\n",
       "    }\n",
       "\n",
       "    .dataframe thead th {\n",
       "        text-align: right;\n",
       "    }\n",
       "</style>\n",
       "<table border=\"1\" class=\"dataframe\">\n",
       "  <thead>\n",
       "    <tr style=\"text-align: right;\">\n",
       "      <th></th>\n",
       "      <th>TVOC</th>\n",
       "      <th>Raw Ethanol</th>\n",
       "      <th>Pressure</th>\n",
       "      <th>PM1.0</th>\n",
       "      <th>NC0.5</th>\n",
       "    </tr>\n",
       "  </thead>\n",
       "  <tbody>\n",
       "    <tr>\n",
       "      <th>0</th>\n",
       "      <td>0.0</td>\n",
       "      <td>18520.0</td>\n",
       "      <td>939.735</td>\n",
       "      <td>0.00</td>\n",
       "      <td>0.00</td>\n",
       "    </tr>\n",
       "    <tr>\n",
       "      <th>1</th>\n",
       "      <td>0.0</td>\n",
       "      <td>18651.0</td>\n",
       "      <td>939.744</td>\n",
       "      <td>0.00</td>\n",
       "      <td>0.00</td>\n",
       "    </tr>\n",
       "    <tr>\n",
       "      <th>2</th>\n",
       "      <td>0.0</td>\n",
       "      <td>18764.0</td>\n",
       "      <td>939.738</td>\n",
       "      <td>0.00</td>\n",
       "      <td>0.00</td>\n",
       "    </tr>\n",
       "    <tr>\n",
       "      <th>3</th>\n",
       "      <td>0.0</td>\n",
       "      <td>18849.0</td>\n",
       "      <td>939.736</td>\n",
       "      <td>0.00</td>\n",
       "      <td>0.00</td>\n",
       "    </tr>\n",
       "    <tr>\n",
       "      <th>4</th>\n",
       "      <td>0.0</td>\n",
       "      <td>18921.0</td>\n",
       "      <td>939.744</td>\n",
       "      <td>0.00</td>\n",
       "      <td>0.00</td>\n",
       "    </tr>\n",
       "    <tr>\n",
       "      <th>...</th>\n",
       "      <td>...</td>\n",
       "      <td>...</td>\n",
       "      <td>...</td>\n",
       "      <td>...</td>\n",
       "      <td>...</td>\n",
       "    </tr>\n",
       "    <tr>\n",
       "      <th>62625</th>\n",
       "      <td>625.0</td>\n",
       "      <td>20569.0</td>\n",
       "      <td>936.670</td>\n",
       "      <td>0.63</td>\n",
       "      <td>4.32</td>\n",
       "    </tr>\n",
       "    <tr>\n",
       "      <th>62626</th>\n",
       "      <td>612.0</td>\n",
       "      <td>20588.0</td>\n",
       "      <td>936.678</td>\n",
       "      <td>0.61</td>\n",
       "      <td>4.18</td>\n",
       "    </tr>\n",
       "    <tr>\n",
       "      <th>62627</th>\n",
       "      <td>627.0</td>\n",
       "      <td>20582.0</td>\n",
       "      <td>936.687</td>\n",
       "      <td>0.57</td>\n",
       "      <td>3.95</td>\n",
       "    </tr>\n",
       "    <tr>\n",
       "      <th>62628</th>\n",
       "      <td>638.0</td>\n",
       "      <td>20566.0</td>\n",
       "      <td>936.680</td>\n",
       "      <td>0.57</td>\n",
       "      <td>3.92</td>\n",
       "    </tr>\n",
       "    <tr>\n",
       "      <th>62629</th>\n",
       "      <td>643.0</td>\n",
       "      <td>20543.0</td>\n",
       "      <td>936.676</td>\n",
       "      <td>0.57</td>\n",
       "      <td>3.90</td>\n",
       "    </tr>\n",
       "  </tbody>\n",
       "</table>\n",
       "<p>62630 rows × 5 columns</p>\n",
       "</div>"
      ],
      "text/plain": [
       "        TVOC  Raw Ethanol  Pressure  PM1.0  NC0.5\n",
       "0        0.0      18520.0   939.735   0.00   0.00\n",
       "1        0.0      18651.0   939.744   0.00   0.00\n",
       "2        0.0      18764.0   939.738   0.00   0.00\n",
       "3        0.0      18849.0   939.736   0.00   0.00\n",
       "4        0.0      18921.0   939.744   0.00   0.00\n",
       "...      ...          ...       ...    ...    ...\n",
       "62625  625.0      20569.0   936.670   0.63   4.32\n",
       "62626  612.0      20588.0   936.678   0.61   4.18\n",
       "62627  627.0      20582.0   936.687   0.57   3.95\n",
       "62628  638.0      20566.0   936.680   0.57   3.92\n",
       "62629  643.0      20543.0   936.676   0.57   3.90\n",
       "\n",
       "[62630 rows x 5 columns]"
      ]
     },
     "execution_count": 50,
     "metadata": {},
     "output_type": "execute_result"
    }
   ],
   "source": [
    "rfe_cl = RFE(estimator= gbc, n_features_to_select=5, step=1).fit(X_cl, y_cl)\n",
    "\n",
    "X_cl_rfe = pd.DataFrame(rfe_cl.transform(X_cl), columns=rfe_cl.get_feature_names_out())\n",
    "X_cl_rfe"
   ]
  },
  {
   "cell_type": "code",
   "execution_count": 51,
   "metadata": {},
   "outputs": [
    {
     "name": "stdout",
     "output_type": "stream",
     "text": [
      "confusion matrix: \n",
      "[[ 5467     6]\n",
      " [   10 13306]]\n",
      "accuracy: 0.9991484379158018\n"
     ]
    }
   ],
   "source": [
    "classification_metrics(X_cl_rfe)"
   ]
  },
  {
   "cell_type": "markdown",
   "metadata": {},
   "source": [
    "ВАУ...такой же результат, что и с изначальным кол-вом признаков, но только с 5-ю"
   ]
  },
  {
   "cell_type": "code",
   "execution_count": 52,
   "metadata": {},
   "outputs": [
    {
     "name": "stdout",
     "output_type": "stream",
     "text": [
      "confusion matrix: \n",
      "[[ 4856   210]\n",
      " [  428 13295]]\n",
      "accuracy: 0.9660439618925968\n"
     ]
    }
   ],
   "source": [
    "rfe_cl = RFE(estimator= gbc, n_features_to_select=2, step=1).fit(X_cl, y_cl)\n",
    "\n",
    "X_cl_rfe = pd.DataFrame(rfe_cl.transform(X_cl), columns=rfe_cl.get_feature_names_out())\n",
    "classification_metrics(X_cl_rfe)"
   ]
  },
  {
   "cell_type": "code",
   "execution_count": 53,
   "metadata": {},
   "outputs": [
    {
     "data": {
      "text/html": [
       "<div>\n",
       "<style scoped>\n",
       "    .dataframe tbody tr th:only-of-type {\n",
       "        vertical-align: middle;\n",
       "    }\n",
       "\n",
       "    .dataframe tbody tr th {\n",
       "        vertical-align: top;\n",
       "    }\n",
       "\n",
       "    .dataframe thead th {\n",
       "        text-align: right;\n",
       "    }\n",
       "</style>\n",
       "<table border=\"1\" class=\"dataframe\">\n",
       "  <thead>\n",
       "    <tr style=\"text-align: right;\">\n",
       "      <th></th>\n",
       "      <th>TVOC</th>\n",
       "      <th>Pressure</th>\n",
       "    </tr>\n",
       "  </thead>\n",
       "  <tbody>\n",
       "    <tr>\n",
       "      <th>0</th>\n",
       "      <td>0.0</td>\n",
       "      <td>939.735</td>\n",
       "    </tr>\n",
       "    <tr>\n",
       "      <th>1</th>\n",
       "      <td>0.0</td>\n",
       "      <td>939.744</td>\n",
       "    </tr>\n",
       "    <tr>\n",
       "      <th>2</th>\n",
       "      <td>0.0</td>\n",
       "      <td>939.738</td>\n",
       "    </tr>\n",
       "    <tr>\n",
       "      <th>3</th>\n",
       "      <td>0.0</td>\n",
       "      <td>939.736</td>\n",
       "    </tr>\n",
       "    <tr>\n",
       "      <th>4</th>\n",
       "      <td>0.0</td>\n",
       "      <td>939.744</td>\n",
       "    </tr>\n",
       "    <tr>\n",
       "      <th>...</th>\n",
       "      <td>...</td>\n",
       "      <td>...</td>\n",
       "    </tr>\n",
       "    <tr>\n",
       "      <th>62625</th>\n",
       "      <td>625.0</td>\n",
       "      <td>936.670</td>\n",
       "    </tr>\n",
       "    <tr>\n",
       "      <th>62626</th>\n",
       "      <td>612.0</td>\n",
       "      <td>936.678</td>\n",
       "    </tr>\n",
       "    <tr>\n",
       "      <th>62627</th>\n",
       "      <td>627.0</td>\n",
       "      <td>936.687</td>\n",
       "    </tr>\n",
       "    <tr>\n",
       "      <th>62628</th>\n",
       "      <td>638.0</td>\n",
       "      <td>936.680</td>\n",
       "    </tr>\n",
       "    <tr>\n",
       "      <th>62629</th>\n",
       "      <td>643.0</td>\n",
       "      <td>936.676</td>\n",
       "    </tr>\n",
       "  </tbody>\n",
       "</table>\n",
       "<p>62630 rows × 2 columns</p>\n",
       "</div>"
      ],
      "text/plain": [
       "        TVOC  Pressure\n",
       "0        0.0   939.735\n",
       "1        0.0   939.744\n",
       "2        0.0   939.738\n",
       "3        0.0   939.736\n",
       "4        0.0   939.744\n",
       "...      ...       ...\n",
       "62625  625.0   936.670\n",
       "62626  612.0   936.678\n",
       "62627  627.0   936.687\n",
       "62628  638.0   936.680\n",
       "62629  643.0   936.676\n",
       "\n",
       "[62630 rows x 2 columns]"
      ]
     },
     "execution_count": 53,
     "metadata": {},
     "output_type": "execute_result"
    }
   ],
   "source": [
    "X_cl_rfe"
   ]
  },
  {
   "cell_type": "markdown",
   "metadata": {},
   "source": [
    "## Отбор признаков по значимости"
   ]
  },
  {
   "cell_type": "markdown",
   "metadata": {},
   "source": [
    "**Regression**"
   ]
  },
  {
   "cell_type": "code",
   "execution_count": 54,
   "metadata": {},
   "outputs": [
    {
     "data": {
      "text/plain": [
       "<BarContainer object of 15 artists>"
      ]
     },
     "execution_count": 54,
     "metadata": {},
     "output_type": "execute_result"
    },
    {
     "data": {
      "image/png": "[encoded data removed]",
      "text/plain": [
       "<Figure size 640x480 with 1 Axes>"
      ]
     },
     "metadata": {},
     "output_type": "display_data"
    }
   ],
   "source": [
    "plt.barh(X_reg.columns, lr.coef_)"
   ]
  },
  {
   "cell_type": "markdown",
   "metadata": {},
   "source": [
    "Возьмём топ 3 признака"
   ]
  },
  {
   "cell_type": "code",
   "execution_count": 82,
   "metadata": {},
   "outputs": [
    {
     "name": "stdout",
     "output_type": "stream",
     "text": [
      "r2: 0.6050450960527395\n",
      "mse: 263078073474609.4\n"
     ]
    }
   ],
   "source": [
    "X_reg_by_importance = X_reg[['area', 'latitude', 'bedrooms']]\n",
    "regression_metrics(X_reg_by_importance)"
   ]
  },
  {
   "cell_type": "code",
   "execution_count": 56,
   "metadata": {},
   "outputs": [
    {
     "name": "stdout",
     "output_type": "stream",
     "text": [
      "r2: 0.7385851715871611\n",
      "mse: 147091791942159.3\n"
     ]
    }
   ],
   "source": [
    "regression_metrics(X_reg)"
   ]
  },
  {
   "cell_type": "markdown",
   "metadata": {},
   "source": [
    "**Classification**"
   ]
  },
  {
   "cell_type": "code",
   "execution_count": 57,
   "metadata": {},
   "outputs": [
    {
     "data": {
      "text/plain": [
       "array([2.49951774e-03, 6.60066964e-03, 2.17562966e-01, 3.33474207e-05,\n",
       "       7.99036361e-04, 1.24001590e-02, 5.76988560e-01, 4.51845610e-02,\n",
       "       2.26406192e-05, 1.37752400e-01, 1.47987776e-04, 8.15355530e-06])"
      ]
     },
     "execution_count": 57,
     "metadata": {},
     "output_type": "execute_result"
    }
   ],
   "source": [
    "gbc.feature_importances_"
   ]
  },
  {
   "cell_type": "code",
   "execution_count": 58,
   "metadata": {},
   "outputs": [
    {
     "data": {
      "text/plain": [
       "<BarContainer object of 12 artists>"
      ]
     },
     "execution_count": 58,
     "metadata": {},
     "output_type": "execute_result"
    },
    {
     "data": {
      "image/png": "[encoded data removed]",
      "text/plain": [
       "<Figure size 640x480 with 1 Axes>"
      ]
     },
     "metadata": {},
     "output_type": "display_data"
    }
   ],
   "source": [
    "plt.barh(X_cl.columns, gbc.feature_importances_)"
   ]
  },
  {
   "cell_type": "code",
   "execution_count": 59,
   "metadata": {},
   "outputs": [
    {
     "name": "stdout",
     "output_type": "stream",
     "text": [
      "confusion matrix: \n",
      "[[ 4894   217]\n",
      " [  468 13210]]\n",
      "accuracy: 0.9635424982702645\n"
     ]
    }
   ],
   "source": [
    "X_cl_by_importance = X_cl[['Pressure', 'TVOC']]\n",
    "classification_metrics(X_cl_by_importance)"
   ]
  },
  {
   "cell_type": "markdown",
   "metadata": {},
   "source": [
    "В принципе с той же точностью отработал, что и rfe на двух признаках"
   ]
  },
  {
   "cell_type": "markdown",
   "metadata": {},
   "source": [
    "# Выделение признаков"
   ]
  },
  {
   "cell_type": "markdown",
   "metadata": {},
   "source": [
    "## PCA"
   ]
  },
  {
   "cell_type": "code",
   "execution_count": 60,
   "metadata": {},
   "outputs": [],
   "source": [
    "from sklearn.decomposition import PCA"
   ]
  },
  {
   "cell_type": "markdown",
   "metadata": {},
   "source": [
    "**Regression**"
   ]
  },
  {
   "cell_type": "code",
   "execution_count": 61,
   "metadata": {},
   "outputs": [
    {
     "data": {
      "text/plain": [
       "(6237, 4)"
      ]
     },
     "execution_count": 61,
     "metadata": {},
     "output_type": "execute_result"
    }
   ],
   "source": [
    "pca_reg = PCA(n_components=4)\n",
    "X_reg_pca = pca_reg.fit_transform(X_reg, y_reg)\n",
    "X_reg_pca.shape"
   ]
  },
  {
   "cell_type": "code",
   "execution_count": 62,
   "metadata": {},
   "outputs": [
    {
     "data": {
      "text/plain": [
       "0.999999046608441"
      ]
     },
     "execution_count": 62,
     "metadata": {},
     "output_type": "execute_result"
    }
   ],
   "source": [
    "sum(pca_reg.explained_variance_ratio_)"
   ]
  },
  {
   "cell_type": "code",
   "execution_count": 63,
   "metadata": {},
   "outputs": [
    {
     "name": "stdout",
     "output_type": "stream",
     "text": [
      "r2: 0.23128127746164417\n",
      "mse: 437659511037765.7\n"
     ]
    }
   ],
   "source": [
    "regression_metrics(X_reg_pca)"
   ]
  },
  {
   "cell_type": "markdown",
   "metadata": {},
   "source": [
    "примерно вдважды ухушилось качество, регрессия очень не очень себя показывает"
   ]
  },
  {
   "cell_type": "markdown",
   "metadata": {},
   "source": [
    "**Classification**"
   ]
  },
  {
   "cell_type": "code",
   "execution_count": 64,
   "metadata": {},
   "outputs": [
    {
     "name": "stdout",
     "output_type": "stream",
     "text": [
      "confusion matrix: \n",
      "[[ 5111  1312]\n",
      " [  294 12072]]\n",
      "accuracy: 0.9145244557986055\n"
     ]
    }
   ],
   "source": [
    "pca_cl = PCA(n_components=2)\n",
    "X_cl_pca = pca_cl.fit_transform(X_cl, y_cl)\n",
    "classification_metrics(X_cl_pca)"
   ]
  },
  {
   "cell_type": "markdown",
   "metadata": {},
   "source": [
    "Результат хуже, чем был раньше при двух признаках"
   ]
  },
  {
   "cell_type": "markdown",
   "metadata": {},
   "source": [
    "## Нелинейные методы выделения признаков: TSNE, Isomap"
   ]
  },
  {
   "cell_type": "code",
   "execution_count": 16,
   "metadata": {},
   "outputs": [],
   "source": [
    "from sklearn.manifold import TSNE, Isomap"
   ]
  },
  {
   "cell_type": "markdown",
   "metadata": {},
   "source": [
    "## TSNE"
   ]
  },
  {
   "cell_type": "markdown",
   "metadata": {},
   "source": [
    "**Regression**"
   ]
  },
  {
   "cell_type": "code",
   "execution_count": 66,
   "metadata": {},
   "outputs": [],
   "source": [
    "tsne = TSNE(n_components=2)\n",
    "X_reg_tsne = tsne.fit_transform(X_reg_scaled)"
   ]
  },
  {
   "cell_type": "code",
   "execution_count": 67,
   "metadata": {},
   "outputs": [
    {
     "name": "stdout",
     "output_type": "stream",
     "text": [
      "r2: 0.402730092147632\n",
      "mse: 317651048669441.5\n"
     ]
    }
   ],
   "source": [
    "regression_metrics(X_reg_tsne)"
   ]
  },
  {
   "cell_type": "code",
   "execution_count": 68,
   "metadata": {},
   "outputs": [
    {
     "data": {
      "text/plain": [
       "<matplotlib.collections.PathCollection at 0x7fcd5c347640>"
      ]
     },
     "execution_count": 68,
     "metadata": {},
     "output_type": "execute_result"
    },
    {
     "data": {
      "image/png": "[encoded data removed]",
      "text/plain": [
       "<Figure size 640x480 with 1 Axes>"
      ]
     },
     "metadata": {},
     "output_type": "display_data"
    }
   ],
   "source": [
    "plt.scatter(X_reg_tsne[:,0], X_reg_tsne[:,1], c=y_reg)"
   ]
  },
  {
   "cell_type": "markdown",
   "metadata": {},
   "source": [
    "Очень неплохой результат! Вроде бы самый лучший для случая двух признаков в регрессии"
   ]
  },
  {
   "cell_type": "markdown",
   "metadata": {},
   "source": [
    "**Classsification**"
   ]
  },
  {
   "cell_type": "code",
   "execution_count": 69,
   "metadata": {},
   "outputs": [],
   "source": [
    "tsne = TSNE(n_components=2)\n",
    "X_cl_tsne = tsne.fit_transform(X_cl_scaled)"
   ]
  },
  {
   "cell_type": "code",
   "execution_count": 70,
   "metadata": {},
   "outputs": [
    {
     "name": "stdout",
     "output_type": "stream",
     "text": [
      "confusion matrix: \n",
      "[[ 5174   287]\n",
      " [  147 13181]]\n",
      "accuracy: 0.9769013784661238\n"
     ]
    }
   ],
   "source": [
    "classification_metrics(X_cl_tsne)"
   ]
  },
  {
   "cell_type": "code",
   "execution_count": 71,
   "metadata": {},
   "outputs": [
    {
     "data": {
      "text/plain": [
       "<matplotlib.collections.PathCollection at 0x7fcd5c1b1540>"
      ]
     },
     "execution_count": 71,
     "metadata": {},
     "output_type": "execute_result"
    },
    {
     "data": {
      "image/png": "[encoded data removed]",
      "text/plain": [
       "<Figure size 640x480 with 1 Axes>"
      ]
     },
     "metadata": {},
     "output_type": "display_data"
    }
   ],
   "source": [
    "plt.scatter(X_cl_tsne[:,0], X_cl_tsne[:,1], c=y_cl)"
   ]
  },
  {
   "cell_type": "markdown",
   "metadata": {},
   "source": [
    "## Isomap"
   ]
  },
  {
   "cell_type": "markdown",
   "metadata": {},
   "source": [
    "**Regression**"
   ]
  },
  {
   "cell_type": "code",
   "execution_count": 72,
   "metadata": {},
   "outputs": [
    {
     "name": "stderr",
     "output_type": "stream",
     "text": [
      "/home/timofey/.local/lib/python3.10/site-packages/sklearn/manifold/_isomap.py:373: UserWarning: The number of connected components of the neighbors graph is 4 > 1. Completing the graph to fit Isomap might be slow. Increase the number of neighbors to avoid this issue.\n",
      "  self._fit_transform(X)\n",
      "/home/timofey/.local/lib/python3.10/site-packages/scipy/sparse/_index.py:103: SparseEfficiencyWarning: Changing the sparsity structure of a csr_matrix is expensive. lil_matrix is more efficient.\n",
      "  self._set_intXint(row, col, x.flat[0])\n",
      "/home/timofey/.local/lib/python3.10/site-packages/scipy/sparse/_index.py:103: SparseEfficiencyWarning: Changing the sparsity structure of a csr_matrix is expensive. lil_matrix is more efficient.\n",
      "  self._set_intXint(row, col, x.flat[0])\n",
      "/home/timofey/.local/lib/python3.10/site-packages/scipy/sparse/_index.py:103: SparseEfficiencyWarning: Changing the sparsity structure of a csr_matrix is expensive. lil_matrix is more efficient.\n",
      "  self._set_intXint(row, col, x.flat[0])\n",
      "/home/timofey/.local/lib/python3.10/site-packages/scipy/sparse/_index.py:103: SparseEfficiencyWarning: Changing the sparsity structure of a csr_matrix is expensive. lil_matrix is more efficient.\n",
      "  self._set_intXint(row, col, x.flat[0])\n",
      "/home/timofey/.local/lib/python3.10/site-packages/scipy/sparse/_index.py:103: SparseEfficiencyWarning: Changing the sparsity structure of a csr_matrix is expensive. lil_matrix is more efficient.\n",
      "  self._set_intXint(row, col, x.flat[0])\n",
      "/home/timofey/.local/lib/python3.10/site-packages/scipy/sparse/_index.py:103: SparseEfficiencyWarning: Changing the sparsity structure of a csr_matrix is expensive. lil_matrix is more efficient.\n",
      "  self._set_intXint(row, col, x.flat[0])\n"
     ]
    }
   ],
   "source": [
    "isomap = Isomap(n_components=2)\n",
    "X_reg_isomap = isomap.fit_transform(X_reg_scaled)"
   ]
  },
  {
   "cell_type": "code",
   "execution_count": 73,
   "metadata": {},
   "outputs": [
    {
     "name": "stdout",
     "output_type": "stream",
     "text": [
      "r2: 0.11674152653041281\n",
      "mse: 476424391152388.4\n"
     ]
    }
   ],
   "source": [
    "regression_metrics(X_reg_isomap)"
   ]
  },
  {
   "cell_type": "markdown",
   "metadata": {},
   "source": [
    "**Classsification**"
   ]
  },
  {
   "cell_type": "code",
   "execution_count": 22,
   "metadata": {},
   "outputs": [
    {
     "name": "stderr",
     "output_type": "stream",
     "text": [
      "/home/timofey/.local/lib/python3.10/site-packages/sklearn/manifold/_isomap.py:373: UserWarning: The number of connected components of the neighbors graph is 2 > 1. Completing the graph to fit Isomap might be slow. Increase the number of neighbors to avoid this issue.\n",
      "  self._fit_transform(X)\n",
      "/home/timofey/.local/lib/python3.10/site-packages/scipy/sparse/_index.py:103: SparseEfficiencyWarning: Changing the sparsity structure of a csr_matrix is expensive. lil_matrix is more efficient.\n",
      "  self._set_intXint(row, col, x.flat[0])\n"
     ]
    }
   ],
   "source": [
    "isomap = Isomap(n_components=2)\n",
    "X_cl_isomap = isomap.fit_transform(X_cl_scaled[:10000])"
   ]
  },
  {
   "cell_type": "code",
   "execution_count": 25,
   "metadata": {},
   "outputs": [
    {
     "name": "stdout",
     "output_type": "stream",
     "text": [
      "confusion matrix: \n",
      "[[ 934    3]\n",
      " [   0 2063]]\n",
      "accuracy: 0.999\n"
     ]
    }
   ],
   "source": [
    "classification_metrics(X_cl_isomap)"
   ]
  },
  {
   "cell_type": "markdown",
   "metadata": {},
   "source": [
    "Поскольку во избежании ошибки пришлось снизить кол-во наблюдений будет несправедливо этот результат сравнивать с другими"
   ]
  },
  {
   "cell_type": "markdown",
   "metadata": {},
   "source": [
    "**ВЫВОДЫ**"
   ]
  },
  {
   "cell_type": "markdown",
   "metadata": {},
   "source": [
    "Среди всех методов наулучший результат:\n",
    "- для регрессии показал SelectKBest на 2 и 3 признаках, показав оценку r2 0.55 и 0.69 соответственно\n",
    "- для классификации все показали себя +\\- стот выделить T-distributed Stochastic Neighbor Embedding (TSNE), показавший на двух признаках точность accuracy равную 0.97 "
   ]
  }
 ],
 "metadata": {
  "kernelspec": {
   "display_name": "Python 3",
   "language": "python",
   "name": "python3"
  },
  "language_info": {
   "codemirror_mode": {
    "name": "ipython",
    "version": 3
   },
   "file_extension": ".py",
   "mimetype": "text/x-python",
   "name": "python",
   "nbconvert_exporter": "python",
   "pygments_lexer": "ipython3",
   "version": "3.10.12"
  }
 },
 "nbformat": 4,
 "nbformat_minor": 2
}
