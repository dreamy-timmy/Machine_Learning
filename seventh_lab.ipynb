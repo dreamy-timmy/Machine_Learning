{
 "cells": [
  {
   "cell_type": "markdown",
   "metadata": {},
   "source": [
    "# Задание 1"
   ]
  },
  {
   "cell_type": "markdown",
   "metadata": {},
   "source": [
    "Загружаем предобработанные данные для классификации и регрессии"
   ]
  },
  {
   "cell_type": "code",
   "execution_count": 2,
   "metadata": {},
   "outputs": [],
   "source": [
    "import pandas as pd"
   ]
  },
  {
   "cell_type": "code",
   "execution_count": 3,
   "metadata": {},
   "outputs": [],
   "source": [
    "reg_data = pd.read_csv(\"../data/regression_preprocessed_data\")\n",
    "class_data = pd.read_csv(\"../data/classification_preprocessed_data\")"
   ]
  },
  {
   "cell_type": "code",
   "execution_count": 67,
   "metadata": {},
   "outputs": [
    {
     "data": {
      "text/html": [
       "<div>\n",
       "<style scoped>\n",
       "    .dataframe tbody tr th:only-of-type {\n",
       "        vertical-align: middle;\n",
       "    }\n",
       "\n",
       "    .dataframe tbody tr th {\n",
       "        vertical-align: top;\n",
       "    }\n",
       "\n",
       "    .dataframe thead th {\n",
       "        text-align: right;\n",
       "    }\n",
       "</style>\n",
       "<table border=\"1\" class=\"dataframe\">\n",
       "  <thead>\n",
       "    <tr style=\"text-align: right;\">\n",
       "      <th></th>\n",
       "      <th>price</th>\n",
       "      <th>area</th>\n",
       "      <th>latitude</th>\n",
       "      <th>longitude</th>\n",
       "      <th>bedrooms</th>\n",
       "      <th>bathrooms</th>\n",
       "      <th>balcony</th>\n",
       "      <th>parking</th>\n",
       "      <th>furnished_status</th>\n",
       "      <th>lift</th>\n",
       "      <th>type_of_building_Flat</th>\n",
       "      <th>type_of_building_Individual House</th>\n",
       "      <th>status_False</th>\n",
       "      <th>status_True</th>\n",
       "      <th>neworold_False</th>\n",
       "      <th>neworold_True</th>\n",
       "    </tr>\n",
       "  </thead>\n",
       "  <tbody>\n",
       "    <tr>\n",
       "      <th>0</th>\n",
       "      <td>22400000.0</td>\n",
       "      <td>629.0</td>\n",
       "      <td>19.032800</td>\n",
       "      <td>72.896357</td>\n",
       "      <td>2</td>\n",
       "      <td>2</td>\n",
       "      <td>0</td>\n",
       "      <td>0</td>\n",
       "      <td>0.0</td>\n",
       "      <td>0</td>\n",
       "      <td>1</td>\n",
       "      <td>0</td>\n",
       "      <td>1</td>\n",
       "      <td>0</td>\n",
       "      <td>0</td>\n",
       "      <td>1</td>\n",
       "    </tr>\n",
       "    <tr>\n",
       "      <th>1</th>\n",
       "      <td>35000000.0</td>\n",
       "      <td>974.0</td>\n",
       "      <td>19.032800</td>\n",
       "      <td>72.896357</td>\n",
       "      <td>3</td>\n",
       "      <td>2</td>\n",
       "      <td>0</td>\n",
       "      <td>0</td>\n",
       "      <td>0.0</td>\n",
       "      <td>0</td>\n",
       "      <td>1</td>\n",
       "      <td>0</td>\n",
       "      <td>1</td>\n",
       "      <td>0</td>\n",
       "      <td>0</td>\n",
       "      <td>1</td>\n",
       "    </tr>\n",
       "    <tr>\n",
       "      <th>2</th>\n",
       "      <td>31700000.0</td>\n",
       "      <td>968.0</td>\n",
       "      <td>19.085600</td>\n",
       "      <td>72.909277</td>\n",
       "      <td>3</td>\n",
       "      <td>3</td>\n",
       "      <td>0</td>\n",
       "      <td>0</td>\n",
       "      <td>0.0</td>\n",
       "      <td>0</td>\n",
       "      <td>1</td>\n",
       "      <td>0</td>\n",
       "      <td>1</td>\n",
       "      <td>0</td>\n",
       "      <td>0</td>\n",
       "      <td>1</td>\n",
       "    </tr>\n",
       "    <tr>\n",
       "      <th>3</th>\n",
       "      <td>18700000.0</td>\n",
       "      <td>629.0</td>\n",
       "      <td>19.155756</td>\n",
       "      <td>72.846862</td>\n",
       "      <td>2</td>\n",
       "      <td>2</td>\n",
       "      <td>2</td>\n",
       "      <td>2</td>\n",
       "      <td>0.0</td>\n",
       "      <td>2</td>\n",
       "      <td>1</td>\n",
       "      <td>0</td>\n",
       "      <td>0</td>\n",
       "      <td>1</td>\n",
       "      <td>0</td>\n",
       "      <td>1</td>\n",
       "    </tr>\n",
       "    <tr>\n",
       "      <th>4</th>\n",
       "      <td>13500000.0</td>\n",
       "      <td>1090.0</td>\n",
       "      <td>19.177555</td>\n",
       "      <td>72.849887</td>\n",
       "      <td>2</td>\n",
       "      <td>2</td>\n",
       "      <td>0</td>\n",
       "      <td>0</td>\n",
       "      <td>0.0</td>\n",
       "      <td>0</td>\n",
       "      <td>1</td>\n",
       "      <td>0</td>\n",
       "      <td>0</td>\n",
       "      <td>1</td>\n",
       "      <td>0</td>\n",
       "      <td>1</td>\n",
       "    </tr>\n",
       "  </tbody>\n",
       "</table>\n",
       "</div>"
      ],
      "text/plain": [
       "        price    area   latitude  longitude  bedrooms  bathrooms  balcony  \\\n",
       "0  22400000.0   629.0  19.032800  72.896357         2          2        0   \n",
       "1  35000000.0   974.0  19.032800  72.896357         3          2        0   \n",
       "2  31700000.0   968.0  19.085600  72.909277         3          3        0   \n",
       "3  18700000.0   629.0  19.155756  72.846862         2          2        2   \n",
       "4  13500000.0  1090.0  19.177555  72.849887         2          2        0   \n",
       "\n",
       "   parking  furnished_status  lift  type_of_building_Flat  \\\n",
       "0        0               0.0     0                      1   \n",
       "1        0               0.0     0                      1   \n",
       "2        0               0.0     0                      1   \n",
       "3        2               0.0     2                      1   \n",
       "4        0               0.0     0                      1   \n",
       "\n",
       "   type_of_building_Individual House  status_False  status_True  \\\n",
       "0                                  0             1            0   \n",
       "1                                  0             1            0   \n",
       "2                                  0             1            0   \n",
       "3                                  0             0            1   \n",
       "4                                  0             0            1   \n",
       "\n",
       "   neworold_False  neworold_True  \n",
       "0               0              1  \n",
       "1               0              1  \n",
       "2               0              1  \n",
       "3               0              1  \n",
       "4               0              1  "
      ]
     },
     "execution_count": 67,
     "metadata": {},
     "output_type": "execute_result"
    }
   ],
   "source": [
    "reg_data.head()"
   ]
  },
  {
   "cell_type": "code",
   "execution_count": 69,
   "metadata": {},
   "outputs": [
    {
     "name": "stdout",
     "output_type": "stream",
     "text": [
      "<class 'pandas.core.frame.DataFrame'>\n",
      "RangeIndex: 6237 entries, 0 to 6236\n",
      "Data columns (total 16 columns):\n",
      " #   Column                             Non-Null Count  Dtype  \n",
      "---  ------                             --------------  -----  \n",
      " 0   price                              6237 non-null   float64\n",
      " 1   area                               6237 non-null   float64\n",
      " 2   latitude                           6237 non-null   float64\n",
      " 3   longitude                          6237 non-null   float64\n",
      " 4   bedrooms                           6237 non-null   int64  \n",
      " 5   bathrooms                          6237 non-null   int64  \n",
      " 6   balcony                            6237 non-null   int64  \n",
      " 7   parking                            6237 non-null   int64  \n",
      " 8   furnished_status                   6237 non-null   float64\n",
      " 9   lift                               6237 non-null   int64  \n",
      " 10  type_of_building_Flat              6237 non-null   int64  \n",
      " 11  type_of_building_Individual House  6237 non-null   int64  \n",
      " 12  status_False                       6237 non-null   int64  \n",
      " 13  status_True                        6237 non-null   int64  \n",
      " 14  neworold_False                     6237 non-null   int64  \n",
      " 15  neworold_True                      6237 non-null   int64  \n",
      "dtypes: float64(5), int64(11)\n",
      "memory usage: 779.8 KB\n"
     ]
    }
   ],
   "source": [
    "reg_data.info()"
   ]
  },
  {
   "cell_type": "code",
   "execution_count": 4,
   "metadata": {},
   "outputs": [
    {
     "data": {
      "text/html": [
       "<div>\n",
       "<style scoped>\n",
       "    .dataframe tbody tr th:only-of-type {\n",
       "        vertical-align: middle;\n",
       "    }\n",
       "\n",
       "    .dataframe tbody tr th {\n",
       "        vertical-align: top;\n",
       "    }\n",
       "\n",
       "    .dataframe thead th {\n",
       "        text-align: right;\n",
       "    }\n",
       "</style>\n",
       "<table border=\"1\" class=\"dataframe\">\n",
       "  <thead>\n",
       "    <tr style=\"text-align: right;\">\n",
       "      <th></th>\n",
       "      <th>Temperature</th>\n",
       "      <th>Humidity</th>\n",
       "      <th>TVOC</th>\n",
       "      <th>eCO2</th>\n",
       "      <th>Raw H2</th>\n",
       "      <th>Raw Ethanol</th>\n",
       "      <th>Pressure</th>\n",
       "      <th>PM1.0</th>\n",
       "      <th>PM2.5</th>\n",
       "      <th>NC0.5</th>\n",
       "      <th>NC1.0</th>\n",
       "      <th>NC2.5</th>\n",
       "      <th>Fire Alarm</th>\n",
       "    </tr>\n",
       "  </thead>\n",
       "  <tbody>\n",
       "    <tr>\n",
       "      <th>0</th>\n",
       "      <td>20.000</td>\n",
       "      <td>57.36</td>\n",
       "      <td>0.0</td>\n",
       "      <td>400.0</td>\n",
       "      <td>12306.0</td>\n",
       "      <td>18520</td>\n",
       "      <td>939.735</td>\n",
       "      <td>0.0</td>\n",
       "      <td>0.0</td>\n",
       "      <td>0.0</td>\n",
       "      <td>0.0</td>\n",
       "      <td>0.0</td>\n",
       "      <td>0</td>\n",
       "    </tr>\n",
       "    <tr>\n",
       "      <th>1</th>\n",
       "      <td>20.015</td>\n",
       "      <td>56.67</td>\n",
       "      <td>0.0</td>\n",
       "      <td>400.0</td>\n",
       "      <td>12345.0</td>\n",
       "      <td>18651</td>\n",
       "      <td>939.744</td>\n",
       "      <td>0.0</td>\n",
       "      <td>0.0</td>\n",
       "      <td>0.0</td>\n",
       "      <td>0.0</td>\n",
       "      <td>0.0</td>\n",
       "      <td>0</td>\n",
       "    </tr>\n",
       "    <tr>\n",
       "      <th>2</th>\n",
       "      <td>20.029</td>\n",
       "      <td>55.96</td>\n",
       "      <td>0.0</td>\n",
       "      <td>400.0</td>\n",
       "      <td>12374.0</td>\n",
       "      <td>18764</td>\n",
       "      <td>939.738</td>\n",
       "      <td>0.0</td>\n",
       "      <td>0.0</td>\n",
       "      <td>0.0</td>\n",
       "      <td>0.0</td>\n",
       "      <td>0.0</td>\n",
       "      <td>0</td>\n",
       "    </tr>\n",
       "    <tr>\n",
       "      <th>3</th>\n",
       "      <td>20.044</td>\n",
       "      <td>55.28</td>\n",
       "      <td>0.0</td>\n",
       "      <td>400.0</td>\n",
       "      <td>12390.0</td>\n",
       "      <td>18849</td>\n",
       "      <td>939.736</td>\n",
       "      <td>0.0</td>\n",
       "      <td>0.0</td>\n",
       "      <td>0.0</td>\n",
       "      <td>0.0</td>\n",
       "      <td>0.0</td>\n",
       "      <td>0</td>\n",
       "    </tr>\n",
       "    <tr>\n",
       "      <th>4</th>\n",
       "      <td>20.059</td>\n",
       "      <td>54.69</td>\n",
       "      <td>0.0</td>\n",
       "      <td>400.0</td>\n",
       "      <td>12403.0</td>\n",
       "      <td>18921</td>\n",
       "      <td>939.744</td>\n",
       "      <td>0.0</td>\n",
       "      <td>0.0</td>\n",
       "      <td>0.0</td>\n",
       "      <td>0.0</td>\n",
       "      <td>0.0</td>\n",
       "      <td>0</td>\n",
       "    </tr>\n",
       "  </tbody>\n",
       "</table>\n",
       "</div>"
      ],
      "text/plain": [
       "   Temperature  Humidity  TVOC   eCO2   Raw H2  Raw Ethanol  Pressure  PM1.0  \\\n",
       "0       20.000     57.36   0.0  400.0  12306.0        18520   939.735    0.0   \n",
       "1       20.015     56.67   0.0  400.0  12345.0        18651   939.744    0.0   \n",
       "2       20.029     55.96   0.0  400.0  12374.0        18764   939.738    0.0   \n",
       "3       20.044     55.28   0.0  400.0  12390.0        18849   939.736    0.0   \n",
       "4       20.059     54.69   0.0  400.0  12403.0        18921   939.744    0.0   \n",
       "\n",
       "   PM2.5  NC0.5  NC1.0  NC2.5  Fire Alarm  \n",
       "0    0.0    0.0    0.0    0.0           0  \n",
       "1    0.0    0.0    0.0    0.0           0  \n",
       "2    0.0    0.0    0.0    0.0           0  \n",
       "3    0.0    0.0    0.0    0.0           0  \n",
       "4    0.0    0.0    0.0    0.0           0  "
      ]
     },
     "execution_count": 4,
     "metadata": {},
     "output_type": "execute_result"
    }
   ],
   "source": [
    "class_data.head()"
   ]
  },
  {
   "cell_type": "code",
   "execution_count": 46,
   "metadata": {},
   "outputs": [
    {
     "data": {
      "text/plain": [
       "0       22400000.0\n",
       "1       35000000.0\n",
       "2       31700000.0\n",
       "3       18700000.0\n",
       "4       13500000.0\n",
       "           ...    \n",
       "6232    19500000.0\n",
       "6233    22000000.0\n",
       "6234    20000000.0\n",
       "6235    11000000.0\n",
       "6236    15000000.0\n",
       "Name: price, Length: 6237, dtype: float64"
      ]
     },
     "execution_count": 46,
     "metadata": {},
     "output_type": "execute_result"
    }
   ],
   "source": [
    "reg_data['price']"
   ]
  },
  {
   "cell_type": "code",
   "execution_count": 5,
   "metadata": {},
   "outputs": [],
   "source": [
    "from imblearn.over_sampling import RandomOverSampler "
   ]
  },
  {
   "cell_type": "code",
   "execution_count": 6,
   "metadata": {},
   "outputs": [],
   "source": [
    "y_reg = reg_data['price']\n",
    "X_reg = reg_data.drop(columns='price')\n",
    "y_classification = class_data['Fire Alarm']\n",
    "X_classification = class_data.drop(columns= 'Fire Alarm')\n",
    "\n",
    "X_classification, y_classification = RandomOverSampler(random_state=42).fit_resample(X_classification, y_classification) \n"
   ]
  },
  {
   "cell_type": "code",
   "execution_count": 8,
   "metadata": {},
   "outputs": [],
   "source": [
    "from sklearn.model_selection import train_test_split\n",
    "import numpy as np "
   ]
  },
  {
   "cell_type": "code",
   "execution_count": 9,
   "metadata": {},
   "outputs": [],
   "source": [
    "X_reg = np.asarray(X_reg).astype(np.float64)\n",
    "X_classification = np.asarray(X_classification).astype(np.float64)"
   ]
  },
  {
   "cell_type": "code",
   "execution_count": 13,
   "metadata": {},
   "outputs": [],
   "source": [
    "X_reg_train, X_reg_test, y_reg_train, y_reg_test = train_test_split(X_reg, y_reg, \n",
    "                                                                    random_state=42)\n",
    "X_class_train, X_class_test, y_class_train, y_class_test = train_test_split(X_classification,\n",
    "                                                                            y_classification,\n",
    "                                                                            random_state=42)\n"
   ]
  },
  {
   "cell_type": "code",
   "execution_count": 10,
   "metadata": {},
   "outputs": [],
   "source": [
    "from sklearn.metrics import mean_squared_error, r2_score\n",
    "from sklearn.metrics import accuracy_score, confusion_matrix"
   ]
  },
  {
   "cell_type": "code",
   "execution_count": 11,
   "metadata": {},
   "outputs": [
    {
     "name": "stderr",
     "output_type": "stream",
     "text": [
      "2024-01-09 22:09:12.356754: W tensorflow/compiler/tf2tensorrt/utils/py_utils.cc:38] TF-TRT Warning: Could not find TensorRT\n"
     ]
    }
   ],
   "source": [
    "import tensorflow as tf"
   ]
  },
  {
   "cell_type": "markdown",
   "metadata": {},
   "source": [
    "*Regression*"
   ]
  },
  {
   "cell_type": "code",
   "execution_count": 113,
   "metadata": {},
   "outputs": [],
   "source": [
    "reg_model = tf.keras.Sequential(\n",
    "    [\n",
    "        tf.keras.layers.Dense(256, activation='relu', input_shape=(13,)),\n",
    "        \n",
    "        tf.keras.layers.Dense(128, activation='relu'), \n",
    "        # tf.keras.layers.Dropout(0.05),\n",
    "\n",
    "        tf.keras.layers.Dense(64, activation='relu'), \n",
    "        tf.keras.layers.Dropout(0.05),\n",
    "\n",
    "        tf.keras.layers.Dense(32, activation='linear'), # equals to absence of activation f\n",
    "        # tf.keras.layers.Dropout(0.1), \n",
    "        \n",
    "        tf.keras.layers.Dense(16, activation='relu'),\n",
    "        tf.keras.layers.Dropout(0.1),\n",
    "\n",
    "        tf.keras.layers.Dense(1)\n",
    "    ]\n",
    ")"
   ]
  },
  {
   "cell_type": "code",
   "execution_count": 114,
   "metadata": {},
   "outputs": [
    {
     "name": "stdout",
     "output_type": "stream",
     "text": [
      "Model: \"sequential_11\"\n",
      "_________________________________________________________________\n",
      " Layer (type)                Output Shape              Param #   \n",
      "=================================================================\n",
      " dense_52 (Dense)            (None, 256)               3584      \n",
      "                                                                 \n",
      " dense_53 (Dense)            (None, 128)               32896     \n",
      "                                                                 \n",
      " dense_54 (Dense)            (None, 64)                8256      \n",
      "                                                                 \n",
      " dropout_20 (Dropout)        (None, 64)                0         \n",
      "                                                                 \n",
      " dense_55 (Dense)            (None, 32)                2080      \n",
      "                                                                 \n",
      " dense_56 (Dense)            (None, 16)                528       \n",
      "                                                                 \n",
      " dropout_21 (Dropout)        (None, 16)                0         \n",
      "                                                                 \n",
      " dense_57 (Dense)            (None, 1)                 17        \n",
      "                                                                 \n",
      "=================================================================\n",
      "Total params: 47361 (185.00 KB)\n",
      "Trainable params: 47361 (185.00 KB)\n",
      "Non-trainable params: 0 (0.00 Byte)\n",
      "_________________________________________________________________\n"
     ]
    }
   ],
   "source": [
    "reg_model.summary()"
   ]
  },
  {
   "cell_type": "code",
   "execution_count": 115,
   "metadata": {},
   "outputs": [],
   "source": [
    "reg_model.compile(optimizer=tf.keras.optimizers.Adam(learning_rate=0.005), loss=\"mse\")"
   ]
  },
  {
   "cell_type": "code",
   "execution_count": 116,
   "metadata": {},
   "outputs": [
    {
     "name": "stdout",
     "output_type": "stream",
     "text": [
      "Epoch 1/60\n",
      "147/147 [==============================] - 3s 4ms/step - loss: 660737768816640.0000\n",
      "Epoch 2/60\n",
      "147/147 [==============================] - 1s 4ms/step - loss: 417377439186944.0000\n",
      "Epoch 3/60\n",
      "147/147 [==============================] - 1s 3ms/step - loss: 423485016899584.0000\n",
      "Epoch 4/60\n",
      "147/147 [==============================] - 1s 4ms/step - loss: 408589734772736.0000\n",
      "Epoch 5/60\n",
      "147/147 [==============================] - 1s 4ms/step - loss: 410486768140288.0000\n",
      "Epoch 6/60\n",
      "147/147 [==============================] - 1s 4ms/step - loss: 404437508030464.0000\n",
      "Epoch 7/60\n",
      "147/147 [==============================] - 1s 3ms/step - loss: 401611016896512.0000\n",
      "Epoch 8/60\n",
      "147/147 [==============================] - 1s 4ms/step - loss: 397952778502144.0000\n",
      "Epoch 9/60\n",
      "147/147 [==============================] - 1s 4ms/step - loss: 416491736399872.0000\n",
      "Epoch 10/60\n",
      "147/147 [==============================] - 1s 3ms/step - loss: 411122221973504.0000\n",
      "Epoch 11/60\n",
      "147/147 [==============================] - 1s 3ms/step - loss: 412124660629504.0000\n",
      "Epoch 12/60\n",
      "147/147 [==============================] - 1s 4ms/step - loss: 400073754148864.0000\n",
      "Epoch 13/60\n",
      "147/147 [==============================] - 1s 4ms/step - loss: 397762189328384.0000\n",
      "Epoch 14/60\n",
      "147/147 [==============================] - 1s 3ms/step - loss: 427990773137408.0000\n",
      "Epoch 15/60\n",
      "147/147 [==============================] - 1s 4ms/step - loss: 414174567989248.0000\n",
      "Epoch 16/60\n",
      "147/147 [==============================] - 1s 4ms/step - loss: 398698827743232.0000\n",
      "Epoch 17/60\n",
      "147/147 [==============================] - 1s 3ms/step - loss: 411687278608384.0000\n",
      "Epoch 18/60\n",
      "147/147 [==============================] - 1s 4ms/step - loss: 403110363136000.0000\n",
      "Epoch 19/60\n",
      "147/147 [==============================] - 1s 4ms/step - loss: 412230424199168.0000\n",
      "Epoch 20/60\n",
      "147/147 [==============================] - 1s 4ms/step - loss: 399388773974016.0000\n",
      "Epoch 21/60\n",
      "147/147 [==============================] - 1s 4ms/step - loss: 402596644782080.0000\n",
      "Epoch 22/60\n",
      "147/147 [==============================] - 1s 3ms/step - loss: 404876098011136.0000\n",
      "Epoch 23/60\n",
      "147/147 [==============================] - 1s 4ms/step - loss: 396511179440128.0000\n",
      "Epoch 24/60\n",
      "147/147 [==============================] - 1s 4ms/step - loss: 408841829220352.0000\n",
      "Epoch 25/60\n",
      "147/147 [==============================] - 0s 3ms/step - loss: 404414556798976.0000\n",
      "Epoch 26/60\n",
      "147/147 [==============================] - 1s 4ms/step - loss: 396228684677120.0000\n",
      "Epoch 27/60\n",
      "147/147 [==============================] - 1s 3ms/step - loss: 401595749629952.0000\n",
      "Epoch 28/60\n",
      "147/147 [==============================] - 1s 4ms/step - loss: 405176175296512.0000\n",
      "Epoch 29/60\n",
      "147/147 [==============================] - 1s 4ms/step - loss: 403137441562624.0000\n",
      "Epoch 30/60\n",
      "147/147 [==============================] - 1s 4ms/step - loss: 407177260957696.0000\n",
      "Epoch 31/60\n",
      "147/147 [==============================] - 1s 4ms/step - loss: 399930845822976.0000\n",
      "Epoch 32/60\n",
      "147/147 [==============================] - 1s 4ms/step - loss: 389089207517184.0000\n",
      "Epoch 33/60\n",
      "147/147 [==============================] - 1s 4ms/step - loss: 413237526921216.0000\n",
      "Epoch 34/60\n",
      "147/147 [==============================] - 1s 4ms/step - loss: 400884496334848.0000\n",
      "Epoch 35/60\n",
      "147/147 [==============================] - 1s 5ms/step - loss: 405181510451200.0000\n",
      "Epoch 36/60\n",
      "147/147 [==============================] - 1s 3ms/step - loss: 403580997599232.0000\n",
      "Epoch 37/60\n",
      "147/147 [==============================] - 1s 4ms/step - loss: 390179525230592.0000\n",
      "Epoch 38/60\n",
      "147/147 [==============================] - 1s 3ms/step - loss: 398659032186880.0000\n",
      "Epoch 39/60\n",
      "147/147 [==============================] - 1s 3ms/step - loss: 409679112962048.0000\n",
      "Epoch 40/60\n",
      "147/147 [==============================] - 1s 4ms/step - loss: 402939369750528.0000\n",
      "Epoch 41/60\n",
      "147/147 [==============================] - 1s 4ms/step - loss: 399328476659712.0000\n",
      "Epoch 42/60\n",
      "147/147 [==============================] - 1s 3ms/step - loss: 399103326420992.0000\n",
      "Epoch 43/60\n",
      "147/147 [==============================] - 1s 4ms/step - loss: 390048092520448.0000\n",
      "Epoch 44/60\n",
      "147/147 [==============================] - 1s 3ms/step - loss: 407014891061248.0000\n",
      "Epoch 45/60\n",
      "147/147 [==============================] - 1s 3ms/step - loss: 387805750493184.0000\n",
      "Epoch 46/60\n",
      "147/147 [==============================] - 1s 4ms/step - loss: 399790152089600.0000\n",
      "Epoch 47/60\n",
      "147/147 [==============================] - 1s 3ms/step - loss: 405599363792896.0000\n",
      "Epoch 48/60\n",
      "147/147 [==============================] - 1s 4ms/step - loss: 398192793354240.0000\n",
      "Epoch 49/60\n",
      "147/147 [==============================] - 1s 4ms/step - loss: 395383112990720.0000\n",
      "Epoch 50/60\n",
      "147/147 [==============================] - 1s 4ms/step - loss: 394287862775808.0000\n",
      "Epoch 51/60\n",
      "147/147 [==============================] - 1s 4ms/step - loss: 405673015771136.0000\n",
      "Epoch 52/60\n",
      "147/147 [==============================] - 1s 4ms/step - loss: 400167907885056.0000\n",
      "Epoch 53/60\n",
      "147/147 [==============================] - 1s 5ms/step - loss: 397106569281536.0000\n",
      "Epoch 54/60\n",
      "147/147 [==============================] - 1s 4ms/step - loss: 389581115490304.0000\n",
      "Epoch 55/60\n",
      "147/147 [==============================] - 1s 4ms/step - loss: 411025685872640.0000\n",
      "Epoch 56/60\n",
      "147/147 [==============================] - 1s 4ms/step - loss: 391656423555072.0000\n",
      "Epoch 57/60\n",
      "147/147 [==============================] - 1s 4ms/step - loss: 401245441359872.0000\n",
      "Epoch 58/60\n",
      "147/147 [==============================] - 1s 4ms/step - loss: 383575073488896.0000\n",
      "Epoch 59/60\n",
      "147/147 [==============================] - 1s 4ms/step - loss: 390423264624640.0000\n",
      "Epoch 60/60\n",
      "147/147 [==============================] - 1s 4ms/step - loss: 389371702280192.0000\n"
     ]
    },
    {
     "data": {
      "text/plain": [
       "<keras.src.callbacks.History at 0x7fbc68dce200>"
      ]
     },
     "execution_count": 116,
     "metadata": {},
     "output_type": "execute_result"
    }
   ],
   "source": [
    "reg_model.fit(X_reg_train, y_reg_train, epochs=60)"
   ]
  },
  {
   "cell_type": "code",
   "execution_count": 83,
   "metadata": {},
   "outputs": [
    {
     "name": "stdout",
     "output_type": "stream",
     "text": [
      "406548625455886.25\n",
      "-0.2390648940957818\n"
     ]
    }
   ],
   "source": [
    "# результат с меньшим кол-вом скрытых слоёв и меньшей размерностью входного слоя\n",
    "print(mean_squared_error(reg_model.predict(X_reg_test, verbose=False), y_reg_test))\n",
    "print(r2_score(reg_model.predict(X_reg_test, verbose=False), y_reg_test))"
   ]
  },
  {
   "cell_type": "code",
   "execution_count": 117,
   "metadata": {},
   "outputs": [
    {
     "name": "stdout",
     "output_type": "stream",
     "text": [
      "396601628744070.06\n",
      "-0.18982727546144473\n"
     ]
    }
   ],
   "source": [
    "print(mean_squared_error(reg_model.predict(X_reg_test, verbose=False), y_reg_test))\n",
    "print(r2_score(reg_model.predict(X_reg_test, verbose=False), y_reg_test))"
   ]
  },
  {
   "cell_type": "markdown",
   "metadata": {},
   "source": [
    "C большим кол-вом скрытых слоёв и большим кол-вом проходов по массиву (эпох) результат стал лучше, но не значительно"
   ]
  },
  {
   "cell_type": "markdown",
   "metadata": {},
   "source": [
    "*Classification*"
   ]
  },
  {
   "cell_type": "code",
   "execution_count": 15,
   "metadata": {},
   "outputs": [
    {
     "data": {
      "text/plain": [
       "<keras.src.callbacks.History at 0x7fabafd6eaa0>"
      ]
     },
     "execution_count": 15,
     "metadata": {},
     "output_type": "execute_result"
    }
   ],
   "source": [
    "class_model = tf.keras.Sequential(\n",
    "    [\n",
    "        tf.keras.layers.Dense(64, activation=\"relu\", input_shape=(12,)),\n",
    "        \n",
    "        tf.keras.layers.Dense(128, activation=\"relu\"),\n",
    "        tf.keras.layers.Dropout(0.005),\n",
    "\n",
    "        tf.keras.layers.Dense(64, activation=\"relu\"),\n",
    "        tf.keras.layers.Dropout(0.005),\n",
    "        # then try Dropout\n",
    "        \n",
    "        # tf.keras.layers.Dense(32, activation=\"relu\"),\n",
    "        # # then try Dropout\n",
    "\n",
    "        # tf.keras.layers.Dense(16, activation=\"relu\"),\n",
    "\n",
    "        # tf.keras.layers.Dense(8, activation=\"relu\"),\n",
    "\n",
    "        tf.keras.layers.Dense(1, activation=\"sigmoid\"),\n",
    "    ]\n",
    ")\n",
    "\n",
    "class_model.compile(optimizer='adam', loss='binary_crossentropy', metrics='accuracy')\n",
    "class_model.fit(X_class_train, y_class_train, verbose=False, epochs=20)"
   ]
  },
  {
   "cell_type": "code",
   "execution_count": 16,
   "metadata": {},
   "outputs": [
    {
     "name": "stdout",
     "output_type": "stream",
     "text": [
      "0.9764511372268645\n",
      "[[10888   218]\n",
      " [  309 10964]]\n"
     ]
    }
   ],
   "source": [
    "y_pred = np.around(class_model.predict(X_class_test, verbose=False))\n",
    "\n",
    "print(accuracy_score(y_class_test, y_pred))\n",
    "print(confusion_matrix(y_class_test, y_pred))\n"
   ]
  },
  {
   "cell_type": "code",
   "execution_count": 17,
   "metadata": {},
   "outputs": [
    {
     "name": "stdout",
     "output_type": "stream",
     "text": [
      "INFO:tensorflow:Assets written to: ../models/MODEL_SIX_classification_NN/assets\n"
     ]
    },
    {
     "name": "stderr",
     "output_type": "stream",
     "text": [
      "INFO:tensorflow:Assets written to: ../models/MODEL_SIX_classification_NN/assets\n"
     ]
    }
   ],
   "source": [
    "class_model.save(\"../models/MODEL_SIX_classification_NN\")"
   ]
  },
  {
   "cell_type": "code",
   "execution_count": 18,
   "metadata": {},
   "outputs": [],
   "source": [
    "test_model = tf.keras.models.load_model(\"../models/MODEL_SIX_classification_NN\")"
   ]
  },
  {
   "cell_type": "code",
   "execution_count": 19,
   "metadata": {},
   "outputs": [
    {
     "name": "stdout",
     "output_type": "stream",
     "text": [
      "0.9764511372268645\n",
      "[[10888   218]\n",
      " [  309 10964]]\n"
     ]
    }
   ],
   "source": [
    "y_pred = np.around(test_model.predict(X_class_test, verbose=False))\n",
    "\n",
    "print(accuracy_score(y_class_test, y_pred))\n",
    "print(confusion_matrix(y_class_test, y_pred))"
   ]
  }
 ],
 "metadata": {
  "kernelspec": {
   "display_name": "Python 3",
   "language": "python",
   "name": "python3"
  },
  "language_info": {
   "codemirror_mode": {
    "name": "ipython",
    "version": 3
   },
   "file_extension": ".py",
   "mimetype": "text/x-python",
   "name": "python",
   "nbconvert_exporter": "python",
   "pygments_lexer": "ipython3",
   "version": "3.10.12"
  }
 },
 "nbformat": 4,
 "nbformat_minor": 2
}
