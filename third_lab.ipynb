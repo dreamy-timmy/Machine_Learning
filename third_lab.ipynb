{
 "cells": [
  {
   "cell_type": "markdown",
   "metadata": {},
   "source": [
    "# Третья лабораторная работа"
   ]
  },
  {
   "cell_type": "code",
   "execution_count": 1,
   "metadata": {},
   "outputs": [],
   "source": [
    "import pandas as pd\n",
    "import numpy as np\n",
    "from sklearn.model_selection import train_test_split, GridSearchCV\n",
    "from sklearn.linear_model import LinearRegression, Lasso, Ridge, ElasticNet\n",
    "from sklearn.metrics import mean_absolute_error, mean_absolute_percentage_error, mean_squared_error\n",
    "from sklearn.pipeline import Pipeline\n",
    "from sklearn.preprocessing import MinMaxScaler, PolynomialFeatures, StandardScaler\n",
    "import matplotlib.pyplot as plt\n",
    "from math import sqrt\n",
    "import seaborn as sns"
   ]
  },
  {
   "cell_type": "code",
   "execution_count": 2,
   "metadata": {},
   "outputs": [],
   "source": [
    "\n",
    "data = pd.read_csv('../data/mumbai_houses_task.csv')"
   ]
  },
  {
   "cell_type": "code",
   "execution_count": 3,
   "metadata": {},
   "outputs": [
    {
     "data": {
      "text/html": [
       "<div>\n",
       "<style scoped>\n",
       "    .dataframe tbody tr th:only-of-type {\n",
       "        vertical-align: middle;\n",
       "    }\n",
       "\n",
       "    .dataframe tbody tr th {\n",
       "        vertical-align: top;\n",
       "    }\n",
       "\n",
       "    .dataframe thead th {\n",
       "        text-align: right;\n",
       "    }\n",
       "</style>\n",
       "<table border=\"1\" class=\"dataframe\">\n",
       "  <thead>\n",
       "    <tr style=\"text-align: right;\">\n",
       "      <th></th>\n",
       "      <th>price</th>\n",
       "      <th>area</th>\n",
       "      <th>latitude</th>\n",
       "      <th>longitude</th>\n",
       "      <th>Bedrooms</th>\n",
       "      <th>Bathrooms</th>\n",
       "      <th>Balcony</th>\n",
       "      <th>Status</th>\n",
       "      <th>neworold</th>\n",
       "      <th>parking</th>\n",
       "      <th>Furnished_status</th>\n",
       "      <th>Lift</th>\n",
       "      <th>type_of_building</th>\n",
       "    </tr>\n",
       "  </thead>\n",
       "  <tbody>\n",
       "    <tr>\n",
       "      <th>0</th>\n",
       "      <td>22400000.0</td>\n",
       "      <td>629.0</td>\n",
       "      <td>19.032800</td>\n",
       "      <td>72.896357</td>\n",
       "      <td>2.0</td>\n",
       "      <td>2.0</td>\n",
       "      <td>0.0</td>\n",
       "      <td>Under Construction</td>\n",
       "      <td>New Property</td>\n",
       "      <td>0.0</td>\n",
       "      <td>NaN</td>\n",
       "      <td>0.0</td>\n",
       "      <td>Flat</td>\n",
       "    </tr>\n",
       "    <tr>\n",
       "      <th>1</th>\n",
       "      <td>35000000.0</td>\n",
       "      <td>974.0</td>\n",
       "      <td>19.032800</td>\n",
       "      <td>72.896357</td>\n",
       "      <td>3.0</td>\n",
       "      <td>2.0</td>\n",
       "      <td>0.0</td>\n",
       "      <td>Under Construction</td>\n",
       "      <td>New Property</td>\n",
       "      <td>0.0</td>\n",
       "      <td>NaN</td>\n",
       "      <td>0.0</td>\n",
       "      <td>Flat</td>\n",
       "    </tr>\n",
       "    <tr>\n",
       "      <th>2</th>\n",
       "      <td>31700000.0</td>\n",
       "      <td>968.0</td>\n",
       "      <td>19.085600</td>\n",
       "      <td>72.909277</td>\n",
       "      <td>3.0</td>\n",
       "      <td>3.0</td>\n",
       "      <td>0.0</td>\n",
       "      <td>Under Construction</td>\n",
       "      <td>New Property</td>\n",
       "      <td>0.0</td>\n",
       "      <td>NaN</td>\n",
       "      <td>0.0</td>\n",
       "      <td>Flat</td>\n",
       "    </tr>\n",
       "    <tr>\n",
       "      <th>3</th>\n",
       "      <td>18700000.0</td>\n",
       "      <td>629.0</td>\n",
       "      <td>19.155756</td>\n",
       "      <td>72.846862</td>\n",
       "      <td>2.0</td>\n",
       "      <td>2.0</td>\n",
       "      <td>2.0</td>\n",
       "      <td>Ready to Move</td>\n",
       "      <td>New Property</td>\n",
       "      <td>2.0</td>\n",
       "      <td>NaN</td>\n",
       "      <td>2.0</td>\n",
       "      <td>Flat</td>\n",
       "    </tr>\n",
       "    <tr>\n",
       "      <th>4</th>\n",
       "      <td>13500000.0</td>\n",
       "      <td>1090.0</td>\n",
       "      <td>19.177555</td>\n",
       "      <td>72.849887</td>\n",
       "      <td>2.0</td>\n",
       "      <td>2.0</td>\n",
       "      <td>0.0</td>\n",
       "      <td>NaN</td>\n",
       "      <td>New Property</td>\n",
       "      <td>0.0</td>\n",
       "      <td>Unfurnished</td>\n",
       "      <td>0.0</td>\n",
       "      <td>Flat</td>\n",
       "    </tr>\n",
       "    <tr>\n",
       "      <th>5</th>\n",
       "      <td>13000000.0</td>\n",
       "      <td>630.0</td>\n",
       "      <td>19.148058</td>\n",
       "      <td>72.937725</td>\n",
       "      <td>2.0</td>\n",
       "      <td>2.0</td>\n",
       "      <td>0.0</td>\n",
       "      <td>NaN</td>\n",
       "      <td>New Property</td>\n",
       "      <td>0.0</td>\n",
       "      <td>Unfurnished</td>\n",
       "      <td>0.0</td>\n",
       "      <td>Flat</td>\n",
       "    </tr>\n",
       "    <tr>\n",
       "      <th>6</th>\n",
       "      <td>20700000.0</td>\n",
       "      <td>1188.0</td>\n",
       "      <td>19.154919</td>\n",
       "      <td>72.843566</td>\n",
       "      <td>2.0</td>\n",
       "      <td>2.0</td>\n",
       "      <td>2.0</td>\n",
       "      <td>NaN</td>\n",
       "      <td>New Property</td>\n",
       "      <td>2.0</td>\n",
       "      <td>Semi-Furnished</td>\n",
       "      <td>2.0</td>\n",
       "      <td>Flat</td>\n",
       "    </tr>\n",
       "    <tr>\n",
       "      <th>7</th>\n",
       "      <td>22900000.0</td>\n",
       "      <td>968.0</td>\n",
       "      <td>19.147269</td>\n",
       "      <td>72.848351</td>\n",
       "      <td>3.0</td>\n",
       "      <td>3.0</td>\n",
       "      <td>0.0</td>\n",
       "      <td>NaN</td>\n",
       "      <td>New Property</td>\n",
       "      <td>0.0</td>\n",
       "      <td>Unfurnished</td>\n",
       "      <td>0.0</td>\n",
       "      <td>Flat</td>\n",
       "    </tr>\n",
       "    <tr>\n",
       "      <th>8</th>\n",
       "      <td>17000000.0</td>\n",
       "      <td>820.0</td>\n",
       "      <td>19.015128</td>\n",
       "      <td>72.858064</td>\n",
       "      <td>2.0</td>\n",
       "      <td>2.0</td>\n",
       "      <td>0.0</td>\n",
       "      <td>NaN</td>\n",
       "      <td>New Property</td>\n",
       "      <td>0.0</td>\n",
       "      <td>Unfurnished</td>\n",
       "      <td>0.0</td>\n",
       "      <td>Flat</td>\n",
       "    </tr>\n",
       "    <tr>\n",
       "      <th>9</th>\n",
       "      <td>81000000.0</td>\n",
       "      <td>3260.0</td>\n",
       "      <td>19.001640</td>\n",
       "      <td>72.826532</td>\n",
       "      <td>3.0</td>\n",
       "      <td>3.0</td>\n",
       "      <td>3.0</td>\n",
       "      <td>Ready to Move</td>\n",
       "      <td>Resale</td>\n",
       "      <td>3.0</td>\n",
       "      <td>NaN</td>\n",
       "      <td>3.0</td>\n",
       "      <td>Flat</td>\n",
       "    </tr>\n",
       "  </tbody>\n",
       "</table>\n",
       "</div>"
      ],
      "text/plain": [
       "        price    area   latitude  longitude  Bedrooms  Bathrooms  Balcony  \\\n",
       "0  22400000.0   629.0  19.032800  72.896357       2.0        2.0      0.0   \n",
       "1  35000000.0   974.0  19.032800  72.896357       3.0        2.0      0.0   \n",
       "2  31700000.0   968.0  19.085600  72.909277       3.0        3.0      0.0   \n",
       "3  18700000.0   629.0  19.155756  72.846862       2.0        2.0      2.0   \n",
       "4  13500000.0  1090.0  19.177555  72.849887       2.0        2.0      0.0   \n",
       "5  13000000.0   630.0  19.148058  72.937725       2.0        2.0      0.0   \n",
       "6  20700000.0  1188.0  19.154919  72.843566       2.0        2.0      2.0   \n",
       "7  22900000.0   968.0  19.147269  72.848351       3.0        3.0      0.0   \n",
       "8  17000000.0   820.0  19.015128  72.858064       2.0        2.0      0.0   \n",
       "9  81000000.0  3260.0  19.001640  72.826532       3.0        3.0      3.0   \n",
       "\n",
       "               Status      neworold  parking Furnished_status  Lift  \\\n",
       "0  Under Construction  New Property      0.0              NaN   0.0   \n",
       "1  Under Construction  New Property      0.0              NaN   0.0   \n",
       "2  Under Construction  New Property      0.0              NaN   0.0   \n",
       "3       Ready to Move  New Property      2.0              NaN   2.0   \n",
       "4                 NaN  New Property      0.0      Unfurnished   0.0   \n",
       "5                 NaN  New Property      0.0      Unfurnished   0.0   \n",
       "6                 NaN  New Property      2.0   Semi-Furnished   2.0   \n",
       "7                 NaN  New Property      0.0      Unfurnished   0.0   \n",
       "8                 NaN  New Property      0.0      Unfurnished   0.0   \n",
       "9       Ready to Move        Resale      3.0              NaN   3.0   \n",
       "\n",
       "  type_of_building  \n",
       "0             Flat  \n",
       "1             Flat  \n",
       "2             Flat  \n",
       "3             Flat  \n",
       "4             Flat  \n",
       "5             Flat  \n",
       "6             Flat  \n",
       "7             Flat  \n",
       "8             Flat  \n",
       "9             Flat  "
      ]
     },
     "execution_count": 3,
     "metadata": {},
     "output_type": "execute_result"
    }
   ],
   "source": [
    "data.head(10)"
   ]
  },
  {
   "cell_type": "markdown",
   "metadata": {},
   "source": [
    "Опишем поля датасета:\n",
    "- price - цена\n",
    "- area - площадь дома/квартиры\n",
    "- latitude/longitude - широта/долгота (в градусах)\n",
    "- Bedrooms - кол-во спален\n",
    "- Balcony - кол-во балконов\n",
    "- Status - статус дома/квартиры (строящийся/готовый к заселению)\n",
    "- neworold - новое или старое (новое/перепродажа)\n",
    "- parking - кол-во парковочных мест на дом/квартиру\n",
    "- Furnished_status - статус \"омеблериванности\" (Полу-меблированный, немеблированный, меблированный)\n",
    "- Lift - кол-во лифтов в помещении\n",
    "- type_of_building - тип здания: дом/квартира\n"
   ]
  },
  {
   "cell_type": "code",
   "execution_count": 4,
   "metadata": {},
   "outputs": [
    {
     "name": "stdout",
     "output_type": "stream",
     "text": [
      "<class 'pandas.core.frame.DataFrame'>\n",
      "RangeIndex: 6255 entries, 0 to 6254\n",
      "Data columns (total 13 columns):\n",
      " #   Column            Non-Null Count  Dtype  \n",
      "---  ------            --------------  -----  \n",
      " 0   price             6255 non-null   float64\n",
      " 1   area              6255 non-null   float64\n",
      " 2   latitude          6255 non-null   float64\n",
      " 3   longitude         6255 non-null   float64\n",
      " 4   Bedrooms          6255 non-null   float64\n",
      " 5   Bathrooms         6255 non-null   float64\n",
      " 6   Balcony           6255 non-null   float64\n",
      " 7   Status            5774 non-null   object \n",
      " 8   neworold          6255 non-null   object \n",
      " 9   parking           6255 non-null   float64\n",
      " 10  Furnished_status  3600 non-null   object \n",
      " 11  Lift              6255 non-null   float64\n",
      " 12  type_of_building  6255 non-null   object \n",
      "dtypes: float64(9), object(4)\n",
      "memory usage: 635.4+ KB\n"
     ]
    }
   ],
   "source": [
    "data.info()"
   ]
  },
  {
   "cell_type": "markdown",
   "metadata": {},
   "source": [
    "# Предобработка данных"
   ]
  },
  {
   "cell_type": "markdown",
   "metadata": {},
   "source": [
    "## *Меняем имена столбцов*"
   ]
  },
  {
   "cell_type": "code",
   "execution_count": 5,
   "metadata": {},
   "outputs": [
    {
     "data": {
      "text/plain": [
       "Index(['price', 'area', 'latitude', 'longitude', 'Bedrooms', 'Bathrooms',\n",
       "       'Balcony', 'Status', 'neworold', 'parking', 'Furnished_status', 'Lift',\n",
       "       'type_of_building'],\n",
       "      dtype='object')"
      ]
     },
     "execution_count": 5,
     "metadata": {},
     "output_type": "execute_result"
    }
   ],
   "source": [
    "data.columns"
   ]
  },
  {
   "cell_type": "code",
   "execution_count": 6,
   "metadata": {},
   "outputs": [
    {
     "data": {
      "text/plain": [
       "Index(['price', 'area', 'latitude', 'longitude', 'bedrooms', 'bathrooms',\n",
       "       'balcony', 'status', 'neworold', 'parking', 'furnished_status', 'lift',\n",
       "       'type_of_building'],\n",
       "      dtype='object')"
      ]
     },
     "execution_count": 6,
     "metadata": {},
     "output_type": "execute_result"
    }
   ],
   "source": [
    "data = data.rename(\n",
    "    columns = {x: '_'.join(x.lower().split()) for x in data.columns}\n",
    ")\n",
    "data.columns"
   ]
  },
  {
   "cell_type": "markdown",
   "metadata": {},
   "source": [
    "## *Заполняем пропущенные значения*"
   ]
  },
  {
   "cell_type": "code",
   "execution_count": 7,
   "metadata": {},
   "outputs": [
    {
     "data": {
      "text/plain": [
       "furnished_status    2655\n",
       "status               481\n",
       "price                  0\n",
       "area                   0\n",
       "latitude               0\n",
       "longitude              0\n",
       "bedrooms               0\n",
       "bathrooms              0\n",
       "balcony                0\n",
       "neworold               0\n",
       "parking                0\n",
       "lift                   0\n",
       "type_of_building       0\n",
       "dtype: int64"
      ]
     },
     "execution_count": 7,
     "metadata": {},
     "output_type": "execute_result"
    }
   ],
   "source": [
    "data.isna().sum().sort_values(ascending=False)"
   ]
  },
  {
   "cell_type": "markdown",
   "metadata": {},
   "source": [
    "Можно предположить, если при написании объявления не упомянули каку-либо мебель, значит её и не имели в виду, то есть её не будет. Потому большое кол-во пропущенных значений поля furnished_status имеет смысл заполнить как \"Unfurnished\""
   ]
  },
  {
   "cell_type": "code",
   "execution_count": 8,
   "metadata": {},
   "outputs": [
    {
     "data": {
      "text/plain": [
       "0"
      ]
     },
     "execution_count": 8,
     "metadata": {},
     "output_type": "execute_result"
    }
   ],
   "source": [
    "data[\"furnished_status\"] = data[\"furnished_status\"].fillna(\"Unfurnished\")\n",
    "data[\"furnished_status\"].isna().sum()"
   ]
  },
  {
   "cell_type": "markdown",
   "metadata": {},
   "source": [
    "Аналогично и с полем статуса дома/квартиры: если бы он не был готов к заселению, в объявлении 100% это указали бы, следовательно, имеет смысл заполнить все пропуски домами, готовыми к заселению: \"Ready to Move\""
   ]
  },
  {
   "cell_type": "code",
   "execution_count": 9,
   "metadata": {},
   "outputs": [
    {
     "data": {
      "text/plain": [
       "price               0\n",
       "area                0\n",
       "latitude            0\n",
       "longitude           0\n",
       "bedrooms            0\n",
       "bathrooms           0\n",
       "balcony             0\n",
       "status              0\n",
       "neworold            0\n",
       "parking             0\n",
       "furnished_status    0\n",
       "lift                0\n",
       "type_of_building    0\n",
       "dtype: int64"
      ]
     },
     "execution_count": 9,
     "metadata": {},
     "output_type": "execute_result"
    }
   ],
   "source": [
    "data[\"status\"] = data[\"status\"].fillna(\"Ready to Move\")\n",
    "data.isna().sum()"
   ]
  },
  {
   "cell_type": "markdown",
   "metadata": {},
   "source": [
    "### Проверяем наличие/избавляемся дубликатов"
   ]
  },
  {
   "cell_type": "code",
   "execution_count": 10,
   "metadata": {},
   "outputs": [
    {
     "data": {
      "text/plain": [
       "18"
      ]
     },
     "execution_count": 10,
     "metadata": {},
     "output_type": "execute_result"
    }
   ],
   "source": [
    "data.duplicated().sum()"
   ]
  },
  {
   "cell_type": "code",
   "execution_count": 11,
   "metadata": {},
   "outputs": [],
   "source": [
    "data = data.drop_duplicates().reset_index(drop= True)"
   ]
  },
  {
   "cell_type": "code",
   "execution_count": 12,
   "metadata": {},
   "outputs": [
    {
     "data": {
      "text/plain": [
       "0"
      ]
     },
     "execution_count": 12,
     "metadata": {},
     "output_type": "execute_result"
    }
   ],
   "source": [
    "data.duplicated().sum()"
   ]
  },
  {
   "cell_type": "markdown",
   "metadata": {},
   "source": [
    "## Корректируем тип данных столбцов"
   ]
  },
  {
   "cell_type": "code",
   "execution_count": 13,
   "metadata": {},
   "outputs": [
    {
     "name": "stdout",
     "output_type": "stream",
     "text": [
      "<class 'pandas.core.frame.DataFrame'>\n",
      "RangeIndex: 6237 entries, 0 to 6236\n",
      "Data columns (total 13 columns):\n",
      " #   Column            Non-Null Count  Dtype  \n",
      "---  ------            --------------  -----  \n",
      " 0   price             6237 non-null   float64\n",
      " 1   area              6237 non-null   float64\n",
      " 2   latitude          6237 non-null   float64\n",
      " 3   longitude         6237 non-null   float64\n",
      " 4   bedrooms          6237 non-null   float64\n",
      " 5   bathrooms         6237 non-null   float64\n",
      " 6   balcony           6237 non-null   float64\n",
      " 7   status            6237 non-null   object \n",
      " 8   neworold          6237 non-null   object \n",
      " 9   parking           6237 non-null   float64\n",
      " 10  furnished_status  6237 non-null   object \n",
      " 11  lift              6237 non-null   float64\n",
      " 12  type_of_building  6237 non-null   object \n",
      "dtypes: float64(9), object(4)\n",
      "memory usage: 633.6+ KB\n"
     ]
    }
   ],
   "source": [
    "data.info()"
   ]
  },
  {
   "cell_type": "code",
   "execution_count": 14,
   "metadata": {},
   "outputs": [
    {
     "data": {
      "text/html": [
       "<div>\n",
       "<style scoped>\n",
       "    .dataframe tbody tr th:only-of-type {\n",
       "        vertical-align: middle;\n",
       "    }\n",
       "\n",
       "    .dataframe tbody tr th {\n",
       "        vertical-align: top;\n",
       "    }\n",
       "\n",
       "    .dataframe thead th {\n",
       "        text-align: right;\n",
       "    }\n",
       "</style>\n",
       "<table border=\"1\" class=\"dataframe\">\n",
       "  <thead>\n",
       "    <tr style=\"text-align: right;\">\n",
       "      <th></th>\n",
       "      <th>price</th>\n",
       "      <th>area</th>\n",
       "      <th>latitude</th>\n",
       "      <th>longitude</th>\n",
       "      <th>bedrooms</th>\n",
       "      <th>bathrooms</th>\n",
       "      <th>balcony</th>\n",
       "      <th>status</th>\n",
       "      <th>neworold</th>\n",
       "      <th>parking</th>\n",
       "      <th>furnished_status</th>\n",
       "      <th>lift</th>\n",
       "      <th>type_of_building</th>\n",
       "    </tr>\n",
       "  </thead>\n",
       "  <tbody>\n",
       "    <tr>\n",
       "      <th>0</th>\n",
       "      <td>22400000.0</td>\n",
       "      <td>629.0</td>\n",
       "      <td>19.032800</td>\n",
       "      <td>72.896357</td>\n",
       "      <td>2.0</td>\n",
       "      <td>2.0</td>\n",
       "      <td>0.0</td>\n",
       "      <td>Under Construction</td>\n",
       "      <td>New Property</td>\n",
       "      <td>0.0</td>\n",
       "      <td>Unfurnished</td>\n",
       "      <td>0.0</td>\n",
       "      <td>Flat</td>\n",
       "    </tr>\n",
       "    <tr>\n",
       "      <th>1</th>\n",
       "      <td>35000000.0</td>\n",
       "      <td>974.0</td>\n",
       "      <td>19.032800</td>\n",
       "      <td>72.896357</td>\n",
       "      <td>3.0</td>\n",
       "      <td>2.0</td>\n",
       "      <td>0.0</td>\n",
       "      <td>Under Construction</td>\n",
       "      <td>New Property</td>\n",
       "      <td>0.0</td>\n",
       "      <td>Unfurnished</td>\n",
       "      <td>0.0</td>\n",
       "      <td>Flat</td>\n",
       "    </tr>\n",
       "    <tr>\n",
       "      <th>2</th>\n",
       "      <td>31700000.0</td>\n",
       "      <td>968.0</td>\n",
       "      <td>19.085600</td>\n",
       "      <td>72.909277</td>\n",
       "      <td>3.0</td>\n",
       "      <td>3.0</td>\n",
       "      <td>0.0</td>\n",
       "      <td>Under Construction</td>\n",
       "      <td>New Property</td>\n",
       "      <td>0.0</td>\n",
       "      <td>Unfurnished</td>\n",
       "      <td>0.0</td>\n",
       "      <td>Flat</td>\n",
       "    </tr>\n",
       "    <tr>\n",
       "      <th>3</th>\n",
       "      <td>18700000.0</td>\n",
       "      <td>629.0</td>\n",
       "      <td>19.155756</td>\n",
       "      <td>72.846862</td>\n",
       "      <td>2.0</td>\n",
       "      <td>2.0</td>\n",
       "      <td>2.0</td>\n",
       "      <td>Ready to Move</td>\n",
       "      <td>New Property</td>\n",
       "      <td>2.0</td>\n",
       "      <td>Unfurnished</td>\n",
       "      <td>2.0</td>\n",
       "      <td>Flat</td>\n",
       "    </tr>\n",
       "    <tr>\n",
       "      <th>4</th>\n",
       "      <td>13500000.0</td>\n",
       "      <td>1090.0</td>\n",
       "      <td>19.177555</td>\n",
       "      <td>72.849887</td>\n",
       "      <td>2.0</td>\n",
       "      <td>2.0</td>\n",
       "      <td>0.0</td>\n",
       "      <td>Ready to Move</td>\n",
       "      <td>New Property</td>\n",
       "      <td>0.0</td>\n",
       "      <td>Unfurnished</td>\n",
       "      <td>0.0</td>\n",
       "      <td>Flat</td>\n",
       "    </tr>\n",
       "    <tr>\n",
       "      <th>5</th>\n",
       "      <td>13000000.0</td>\n",
       "      <td>630.0</td>\n",
       "      <td>19.148058</td>\n",
       "      <td>72.937725</td>\n",
       "      <td>2.0</td>\n",
       "      <td>2.0</td>\n",
       "      <td>0.0</td>\n",
       "      <td>Ready to Move</td>\n",
       "      <td>New Property</td>\n",
       "      <td>0.0</td>\n",
       "      <td>Unfurnished</td>\n",
       "      <td>0.0</td>\n",
       "      <td>Flat</td>\n",
       "    </tr>\n",
       "    <tr>\n",
       "      <th>6</th>\n",
       "      <td>20700000.0</td>\n",
       "      <td>1188.0</td>\n",
       "      <td>19.154919</td>\n",
       "      <td>72.843566</td>\n",
       "      <td>2.0</td>\n",
       "      <td>2.0</td>\n",
       "      <td>2.0</td>\n",
       "      <td>Ready to Move</td>\n",
       "      <td>New Property</td>\n",
       "      <td>2.0</td>\n",
       "      <td>Semi-Furnished</td>\n",
       "      <td>2.0</td>\n",
       "      <td>Flat</td>\n",
       "    </tr>\n",
       "    <tr>\n",
       "      <th>7</th>\n",
       "      <td>22900000.0</td>\n",
       "      <td>968.0</td>\n",
       "      <td>19.147269</td>\n",
       "      <td>72.848351</td>\n",
       "      <td>3.0</td>\n",
       "      <td>3.0</td>\n",
       "      <td>0.0</td>\n",
       "      <td>Ready to Move</td>\n",
       "      <td>New Property</td>\n",
       "      <td>0.0</td>\n",
       "      <td>Unfurnished</td>\n",
       "      <td>0.0</td>\n",
       "      <td>Flat</td>\n",
       "    </tr>\n",
       "    <tr>\n",
       "      <th>8</th>\n",
       "      <td>17000000.0</td>\n",
       "      <td>820.0</td>\n",
       "      <td>19.015128</td>\n",
       "      <td>72.858064</td>\n",
       "      <td>2.0</td>\n",
       "      <td>2.0</td>\n",
       "      <td>0.0</td>\n",
       "      <td>Ready to Move</td>\n",
       "      <td>New Property</td>\n",
       "      <td>0.0</td>\n",
       "      <td>Unfurnished</td>\n",
       "      <td>0.0</td>\n",
       "      <td>Flat</td>\n",
       "    </tr>\n",
       "    <tr>\n",
       "      <th>9</th>\n",
       "      <td>81000000.0</td>\n",
       "      <td>3260.0</td>\n",
       "      <td>19.001640</td>\n",
       "      <td>72.826532</td>\n",
       "      <td>3.0</td>\n",
       "      <td>3.0</td>\n",
       "      <td>3.0</td>\n",
       "      <td>Ready to Move</td>\n",
       "      <td>Resale</td>\n",
       "      <td>3.0</td>\n",
       "      <td>Unfurnished</td>\n",
       "      <td>3.0</td>\n",
       "      <td>Flat</td>\n",
       "    </tr>\n",
       "  </tbody>\n",
       "</table>\n",
       "</div>"
      ],
      "text/plain": [
       "        price    area   latitude  longitude  bedrooms  bathrooms  balcony  \\\n",
       "0  22400000.0   629.0  19.032800  72.896357       2.0        2.0      0.0   \n",
       "1  35000000.0   974.0  19.032800  72.896357       3.0        2.0      0.0   \n",
       "2  31700000.0   968.0  19.085600  72.909277       3.0        3.0      0.0   \n",
       "3  18700000.0   629.0  19.155756  72.846862       2.0        2.0      2.0   \n",
       "4  13500000.0  1090.0  19.177555  72.849887       2.0        2.0      0.0   \n",
       "5  13000000.0   630.0  19.148058  72.937725       2.0        2.0      0.0   \n",
       "6  20700000.0  1188.0  19.154919  72.843566       2.0        2.0      2.0   \n",
       "7  22900000.0   968.0  19.147269  72.848351       3.0        3.0      0.0   \n",
       "8  17000000.0   820.0  19.015128  72.858064       2.0        2.0      0.0   \n",
       "9  81000000.0  3260.0  19.001640  72.826532       3.0        3.0      3.0   \n",
       "\n",
       "               status      neworold  parking furnished_status  lift  \\\n",
       "0  Under Construction  New Property      0.0      Unfurnished   0.0   \n",
       "1  Under Construction  New Property      0.0      Unfurnished   0.0   \n",
       "2  Under Construction  New Property      0.0      Unfurnished   0.0   \n",
       "3       Ready to Move  New Property      2.0      Unfurnished   2.0   \n",
       "4       Ready to Move  New Property      0.0      Unfurnished   0.0   \n",
       "5       Ready to Move  New Property      0.0      Unfurnished   0.0   \n",
       "6       Ready to Move  New Property      2.0   Semi-Furnished   2.0   \n",
       "7       Ready to Move  New Property      0.0      Unfurnished   0.0   \n",
       "8       Ready to Move  New Property      0.0      Unfurnished   0.0   \n",
       "9       Ready to Move        Resale      3.0      Unfurnished   3.0   \n",
       "\n",
       "  type_of_building  \n",
       "0             Flat  \n",
       "1             Flat  \n",
       "2             Flat  \n",
       "3             Flat  \n",
       "4             Flat  \n",
       "5             Flat  \n",
       "6             Flat  \n",
       "7             Flat  \n",
       "8             Flat  \n",
       "9             Flat  "
      ]
     },
     "execution_count": 14,
     "metadata": {},
     "output_type": "execute_result"
    }
   ],
   "source": [
    "data.head(10)"
   ]
  },
  {
   "cell_type": "code",
   "execution_count": 15,
   "metadata": {},
   "outputs": [
    {
     "data": {
      "text/plain": [
       "array(['Under Construction', 'Ready to Move'], dtype=object)"
      ]
     },
     "execution_count": 15,
     "metadata": {},
     "output_type": "execute_result"
    }
   ],
   "source": [
    "data[\"status\"].unique()"
   ]
  },
  {
   "cell_type": "markdown",
   "metadata": {},
   "source": [
    "Поскольку neworold, status принимают два разных значения, потому заменим на тип bool. \n",
    "Количественные столбцы имеет смысл заменить на int: bedrooms, bathrooms, balcony, parking, lift.\n",
    "\n",
    "Так как нам дальше в задачи линейной регрессии нужны будут только признаки с числовым типом данных, заменим значения поля furnished_status: Furnished, Unfurnished, Semi-furnished на 1,0 и 0.5 соответственно. "
   ]
  },
  {
   "cell_type": "code",
   "execution_count": 16,
   "metadata": {},
   "outputs": [],
   "source": [
    "float_to_int = {\"bedrooms\", \"bathrooms\", \"balcony\", \"parking\", \"lift\"}\n",
    "for field in float_to_int: \n",
    "    data[field] = data[field].astype(int)"
   ]
  },
  {
   "cell_type": "code",
   "execution_count": 17,
   "metadata": {},
   "outputs": [],
   "source": [
    "dict_neworold = {\"New Property\": True, \"Resale\": False}\n",
    "data[\"neworold\"] = data[\"neworold\"].map(dict_neworold)\n",
    "\n",
    "dict_status = {\"Ready to Move\": True, \"Under Construction\": False}\n",
    "data[\"status\"] = data[\"status\"].map(dict_status)\n",
    "\n",
    "dict_furnished = {\"Semi-Furnished\": 0.5, \"Furnished\": 1, \"Unfurnished\": 0} # так ваще можно делать?\n",
    "data[\"furnished_status\"] = data[\"furnished_status\"].map(dict_furnished)\n"
   ]
  },
  {
   "cell_type": "code",
   "execution_count": 18,
   "metadata": {},
   "outputs": [
    {
     "name": "stdout",
     "output_type": "stream",
     "text": [
      "<class 'pandas.core.frame.DataFrame'>\n",
      "RangeIndex: 6237 entries, 0 to 6236\n",
      "Data columns (total 13 columns):\n",
      " #   Column            Non-Null Count  Dtype  \n",
      "---  ------            --------------  -----  \n",
      " 0   price             6237 non-null   float64\n",
      " 1   area              6237 non-null   float64\n",
      " 2   latitude          6237 non-null   float64\n",
      " 3   longitude         6237 non-null   float64\n",
      " 4   bedrooms          6237 non-null   int64  \n",
      " 5   bathrooms         6237 non-null   int64  \n",
      " 6   balcony           6237 non-null   int64  \n",
      " 7   status            6237 non-null   bool   \n",
      " 8   neworold          6237 non-null   bool   \n",
      " 9   parking           6237 non-null   int64  \n",
      " 10  furnished_status  6237 non-null   float64\n",
      " 11  lift              6237 non-null   int64  \n",
      " 12  type_of_building  6237 non-null   object \n",
      "dtypes: bool(2), float64(5), int64(5), object(1)\n",
      "memory usage: 548.3+ KB\n"
     ]
    }
   ],
   "source": [
    "\n",
    "data.info()"
   ]
  },
  {
   "cell_type": "markdown",
   "metadata": {},
   "source": [
    "# EDA"
   ]
  },
  {
   "cell_type": "markdown",
   "metadata": {},
   "source": [
    "Основные параметры, влиящие на цену:\n",
    "- area\n",
    "- bedrooms\n",
    "- bathrooms\n",
    "- balcony\n",
    "- parking\n",
    "- lift"
   ]
  },
  {
   "cell_type": "code",
   "execution_count": 19,
   "metadata": {},
   "outputs": [
    {
     "data": {
      "text/html": [
       "<div>\n",
       "<style scoped>\n",
       "    .dataframe tbody tr th:only-of-type {\n",
       "        vertical-align: middle;\n",
       "    }\n",
       "\n",
       "    .dataframe tbody tr th {\n",
       "        vertical-align: top;\n",
       "    }\n",
       "\n",
       "    .dataframe thead th {\n",
       "        text-align: right;\n",
       "    }\n",
       "</style>\n",
       "<table border=\"1\" class=\"dataframe\">\n",
       "  <thead>\n",
       "    <tr style=\"text-align: right;\">\n",
       "      <th></th>\n",
       "      <th>price</th>\n",
       "      <th>area</th>\n",
       "      <th>bedrooms</th>\n",
       "      <th>bathrooms</th>\n",
       "      <th>balcony</th>\n",
       "      <th>parking</th>\n",
       "      <th>lift</th>\n",
       "    </tr>\n",
       "  </thead>\n",
       "  <tbody>\n",
       "    <tr>\n",
       "      <th>count</th>\n",
       "      <td>6.237000e+03</td>\n",
       "      <td>6237.000000</td>\n",
       "      <td>6237.000000</td>\n",
       "      <td>6237.000000</td>\n",
       "      <td>6237.000000</td>\n",
       "      <td>6237.000000</td>\n",
       "      <td>6237.000000</td>\n",
       "    </tr>\n",
       "    <tr>\n",
       "      <th>mean</th>\n",
       "      <td>2.686215e+07</td>\n",
       "      <td>1185.597723</td>\n",
       "      <td>2.452301</td>\n",
       "      <td>2.425525</td>\n",
       "      <td>0.822350</td>\n",
       "      <td>0.822350</td>\n",
       "      <td>0.822350</td>\n",
       "    </tr>\n",
       "    <tr>\n",
       "      <th>std</th>\n",
       "      <td>2.792125e+07</td>\n",
       "      <td>637.515522</td>\n",
       "      <td>0.750140</td>\n",
       "      <td>0.763236</td>\n",
       "      <td>1.291977</td>\n",
       "      <td>1.291977</td>\n",
       "      <td>1.291977</td>\n",
       "    </tr>\n",
       "    <tr>\n",
       "      <th>min</th>\n",
       "      <td>1.500000e+06</td>\n",
       "      <td>503.000000</td>\n",
       "      <td>2.000000</td>\n",
       "      <td>0.000000</td>\n",
       "      <td>0.000000</td>\n",
       "      <td>0.000000</td>\n",
       "      <td>0.000000</td>\n",
       "    </tr>\n",
       "    <tr>\n",
       "      <th>25%</th>\n",
       "      <td>1.300000e+07</td>\n",
       "      <td>846.000000</td>\n",
       "      <td>2.000000</td>\n",
       "      <td>2.000000</td>\n",
       "      <td>0.000000</td>\n",
       "      <td>0.000000</td>\n",
       "      <td>0.000000</td>\n",
       "    </tr>\n",
       "    <tr>\n",
       "      <th>50%</th>\n",
       "      <td>1.900000e+07</td>\n",
       "      <td>1000.000000</td>\n",
       "      <td>2.000000</td>\n",
       "      <td>2.000000</td>\n",
       "      <td>0.000000</td>\n",
       "      <td>0.000000</td>\n",
       "      <td>0.000000</td>\n",
       "    </tr>\n",
       "    <tr>\n",
       "      <th>75%</th>\n",
       "      <td>3.000000e+07</td>\n",
       "      <td>1300.000000</td>\n",
       "      <td>3.000000</td>\n",
       "      <td>3.000000</td>\n",
       "      <td>1.000000</td>\n",
       "      <td>1.000000</td>\n",
       "      <td>1.000000</td>\n",
       "    </tr>\n",
       "    <tr>\n",
       "      <th>max</th>\n",
       "      <td>3.600000e+08</td>\n",
       "      <td>8000.000000</td>\n",
       "      <td>10.000000</td>\n",
       "      <td>10.000000</td>\n",
       "      <td>8.000000</td>\n",
       "      <td>8.000000</td>\n",
       "      <td>8.000000</td>\n",
       "    </tr>\n",
       "  </tbody>\n",
       "</table>\n",
       "</div>"
      ],
      "text/plain": [
       "              price         area     bedrooms    bathrooms      balcony  \\\n",
       "count  6.237000e+03  6237.000000  6237.000000  6237.000000  6237.000000   \n",
       "mean   2.686215e+07  1185.597723     2.452301     2.425525     0.822350   \n",
       "std    2.792125e+07   637.515522     0.750140     0.763236     1.291977   \n",
       "min    1.500000e+06   503.000000     2.000000     0.000000     0.000000   \n",
       "25%    1.300000e+07   846.000000     2.000000     2.000000     0.000000   \n",
       "50%    1.900000e+07  1000.000000     2.000000     2.000000     0.000000   \n",
       "75%    3.000000e+07  1300.000000     3.000000     3.000000     1.000000   \n",
       "max    3.600000e+08  8000.000000    10.000000    10.000000     8.000000   \n",
       "\n",
       "           parking         lift  \n",
       "count  6237.000000  6237.000000  \n",
       "mean      0.822350     0.822350  \n",
       "std       1.291977     1.291977  \n",
       "min       0.000000     0.000000  \n",
       "25%       0.000000     0.000000  \n",
       "50%       0.000000     0.000000  \n",
       "75%       1.000000     1.000000  \n",
       "max       8.000000     8.000000  "
      ]
     },
     "execution_count": 19,
     "metadata": {},
     "output_type": "execute_result"
    }
   ],
   "source": [
    "columns = [\"price\",\"area\", \"bedrooms\", \"bathrooms\", \"balcony\",\"parking\", \"lift\"]\n",
    "\n",
    "data.describe()[columns]"
   ]
  },
  {
   "cell_type": "code",
   "execution_count": 20,
   "metadata": {},
   "outputs": [
    {
     "data": {
      "image/png": "[encoded data removed]",
      "text/plain": [
       "<Figure size 640x480 with 1 Axes>"
      ]
     },
     "metadata": {},
     "output_type": "display_data"
    },
    {
     "data": {
      "image/png": "[encoded data removed]",
      "text/plain": [
       "<Figure size 640x480 with 1 Axes>"
      ]
     },
     "metadata": {},
     "output_type": "display_data"
    },
    {
     "data": {
      "image/png": "[encoded data removed]",
      "text/plain": [
       "<Figure size 640x480 with 1 Axes>"
      ]
     },
     "metadata": {},
     "output_type": "display_data"
    },
    {
     "data": {
      "image/png": "[encoded data removed]",
      "text/plain": [
       "<Figure size 640x480 with 1 Axes>"
      ]
     },
     "metadata": {},
     "output_type": "display_data"
    },
    {
     "data": {
      "image/png": "[encoded data removed]",
      "text/plain": [
       "<Figure size 640x480 with 1 Axes>"
      ]
     },
     "metadata": {},
     "output_type": "display_data"
    },
    {
     "data": {
      "image/png": "[encoded data removed]",
      "text/plain": [
       "<Figure size 640x480 with 1 Axes>"
      ]
     },
     "metadata": {},
     "output_type": "display_data"
    },
    {
     "data": {
      "image/png": "[encoded data removed]",
      "text/plain": [
       "<Figure size 640x480 with 1 Axes>"
      ]
     },
     "metadata": {},
     "output_type": "display_data"
    }
   ],
   "source": [
    "for column in columns: data.hist(column)"
   ]
  },
  {
   "cell_type": "markdown",
   "metadata": {},
   "source": [
    "Нужно убрать аномальные значения у price, area, чтобы данные по графику было легче прочитать. У полей целочисленного типа уникальных значений не так много, следовательно, удалив выбросы, мы ещё уменьшим кол-во уникальных значений, потому это не целесообразно."
   ]
  },
  {
   "cell_type": "markdown",
   "metadata": {},
   "source": [
    "## Изучение и обработка выбросов"
   ]
  },
  {
   "cell_type": "code",
   "execution_count": 21,
   "metadata": {},
   "outputs": [
    {
     "data": {
      "text/html": [
       "<div>\n",
       "<style scoped>\n",
       "    .dataframe tbody tr th:only-of-type {\n",
       "        vertical-align: middle;\n",
       "    }\n",
       "\n",
       "    .dataframe tbody tr th {\n",
       "        vertical-align: top;\n",
       "    }\n",
       "\n",
       "    .dataframe thead th {\n",
       "        text-align: right;\n",
       "    }\n",
       "</style>\n",
       "<table border=\"1\" class=\"dataframe\">\n",
       "  <thead>\n",
       "    <tr style=\"text-align: right;\">\n",
       "      <th></th>\n",
       "      <th>price</th>\n",
       "      <th>area</th>\n",
       "    </tr>\n",
       "  </thead>\n",
       "  <tbody>\n",
       "    <tr>\n",
       "      <th>0</th>\n",
       "      <td>22400000.0</td>\n",
       "      <td>629.0</td>\n",
       "    </tr>\n",
       "    <tr>\n",
       "      <th>1</th>\n",
       "      <td>35000000.0</td>\n",
       "      <td>974.0</td>\n",
       "    </tr>\n",
       "    <tr>\n",
       "      <th>2</th>\n",
       "      <td>31700000.0</td>\n",
       "      <td>968.0</td>\n",
       "    </tr>\n",
       "    <tr>\n",
       "      <th>3</th>\n",
       "      <td>18700000.0</td>\n",
       "      <td>629.0</td>\n",
       "    </tr>\n",
       "    <tr>\n",
       "      <th>4</th>\n",
       "      <td>13500000.0</td>\n",
       "      <td>1090.0</td>\n",
       "    </tr>\n",
       "    <tr>\n",
       "      <th>...</th>\n",
       "      <td>...</td>\n",
       "      <td>...</td>\n",
       "    </tr>\n",
       "    <tr>\n",
       "      <th>6232</th>\n",
       "      <td>19500000.0</td>\n",
       "      <td>810.0</td>\n",
       "    </tr>\n",
       "    <tr>\n",
       "      <th>6233</th>\n",
       "      <td>22000000.0</td>\n",
       "      <td>1400.0</td>\n",
       "    </tr>\n",
       "    <tr>\n",
       "      <th>6234</th>\n",
       "      <td>20000000.0</td>\n",
       "      <td>750.0</td>\n",
       "    </tr>\n",
       "    <tr>\n",
       "      <th>6235</th>\n",
       "      <td>11000000.0</td>\n",
       "      <td>700.0</td>\n",
       "    </tr>\n",
       "    <tr>\n",
       "      <th>6236</th>\n",
       "      <td>15000000.0</td>\n",
       "      <td>900.0</td>\n",
       "    </tr>\n",
       "  </tbody>\n",
       "</table>\n",
       "<p>6237 rows × 2 columns</p>\n",
       "</div>"
      ],
      "text/plain": [
       "           price    area\n",
       "0     22400000.0   629.0\n",
       "1     35000000.0   974.0\n",
       "2     31700000.0   968.0\n",
       "3     18700000.0   629.0\n",
       "4     13500000.0  1090.0\n",
       "...          ...     ...\n",
       "6232  19500000.0   810.0\n",
       "6233  22000000.0  1400.0\n",
       "6234  20000000.0   750.0\n",
       "6235  11000000.0   700.0\n",
       "6236  15000000.0   900.0\n",
       "\n",
       "[6237 rows x 2 columns]"
      ]
     },
     "execution_count": 21,
     "metadata": {},
     "output_type": "execute_result"
    }
   ],
   "source": [
    "outliers = data[[\"price\",\"area\"]]\n",
    "outliers"
   ]
  },
  {
   "cell_type": "code",
   "execution_count": 22,
   "metadata": {},
   "outputs": [
    {
     "data": {
      "text/plain": [
       "price    13000000.0\n",
       "area          846.0\n",
       "Name: 0.25, dtype: float64"
      ]
     },
     "execution_count": 22,
     "metadata": {},
     "output_type": "execute_result"
    }
   ],
   "source": [
    "# Определить нижние пределы для выбросов\n",
    "Q1 = outliers.quantile(0.25)\n",
    "Q1"
   ]
  },
  {
   "cell_type": "code",
   "execution_count": 23,
   "metadata": {},
   "outputs": [
    {
     "data": {
      "text/plain": [
       "price    30000000.0\n",
       "area         1300.0\n",
       "Name: 0.75, dtype: float64"
      ]
     },
     "execution_count": 23,
     "metadata": {},
     "output_type": "execute_result"
    }
   ],
   "source": [
    "# Определить верхние пределы выбросов\n",
    "Q3 = outliers.quantile(0.75)\n",
    "Q3"
   ]
  },
  {
   "cell_type": "code",
   "execution_count": 24,
   "metadata": {},
   "outputs": [
    {
     "data": {
      "text/html": [
       "<div>\n",
       "<style scoped>\n",
       "    .dataframe tbody tr th:only-of-type {\n",
       "        vertical-align: middle;\n",
       "    }\n",
       "\n",
       "    .dataframe tbody tr th {\n",
       "        vertical-align: top;\n",
       "    }\n",
       "\n",
       "    .dataframe thead th {\n",
       "        text-align: right;\n",
       "    }\n",
       "</style>\n",
       "<table border=\"1\" class=\"dataframe\">\n",
       "  <thead>\n",
       "    <tr style=\"text-align: right;\">\n",
       "      <th></th>\n",
       "      <th>price</th>\n",
       "      <th>area</th>\n",
       "    </tr>\n",
       "  </thead>\n",
       "  <tbody>\n",
       "    <tr>\n",
       "      <th>0</th>\n",
       "      <td>22400000.0</td>\n",
       "      <td>629.0</td>\n",
       "    </tr>\n",
       "    <tr>\n",
       "      <th>1</th>\n",
       "      <td>35000000.0</td>\n",
       "      <td>974.0</td>\n",
       "    </tr>\n",
       "    <tr>\n",
       "      <th>2</th>\n",
       "      <td>31700000.0</td>\n",
       "      <td>968.0</td>\n",
       "    </tr>\n",
       "    <tr>\n",
       "      <th>3</th>\n",
       "      <td>18700000.0</td>\n",
       "      <td>629.0</td>\n",
       "    </tr>\n",
       "    <tr>\n",
       "      <th>4</th>\n",
       "      <td>13500000.0</td>\n",
       "      <td>1090.0</td>\n",
       "    </tr>\n",
       "    <tr>\n",
       "      <th>...</th>\n",
       "      <td>...</td>\n",
       "      <td>...</td>\n",
       "    </tr>\n",
       "    <tr>\n",
       "      <th>6232</th>\n",
       "      <td>19500000.0</td>\n",
       "      <td>810.0</td>\n",
       "    </tr>\n",
       "    <tr>\n",
       "      <th>6233</th>\n",
       "      <td>22000000.0</td>\n",
       "      <td>1400.0</td>\n",
       "    </tr>\n",
       "    <tr>\n",
       "      <th>6234</th>\n",
       "      <td>20000000.0</td>\n",
       "      <td>750.0</td>\n",
       "    </tr>\n",
       "    <tr>\n",
       "      <th>6235</th>\n",
       "      <td>11000000.0</td>\n",
       "      <td>700.0</td>\n",
       "    </tr>\n",
       "    <tr>\n",
       "      <th>6236</th>\n",
       "      <td>15000000.0</td>\n",
       "      <td>900.0</td>\n",
       "    </tr>\n",
       "  </tbody>\n",
       "</table>\n",
       "<p>5524 rows × 2 columns</p>\n",
       "</div>"
      ],
      "text/plain": [
       "           price    area\n",
       "0     22400000.0   629.0\n",
       "1     35000000.0   974.0\n",
       "2     31700000.0   968.0\n",
       "3     18700000.0   629.0\n",
       "4     13500000.0  1090.0\n",
       "...          ...     ...\n",
       "6232  19500000.0   810.0\n",
       "6233  22000000.0  1400.0\n",
       "6234  20000000.0   750.0\n",
       "6235  11000000.0   700.0\n",
       "6236  15000000.0   900.0\n",
       "\n",
       "[5524 rows x 2 columns]"
      ]
     },
     "execution_count": 24,
     "metadata": {},
     "output_type": "execute_result"
    }
   ],
   "source": [
    "# IQR-оценки\n",
    "IQR = Q3-Q1\n",
    "# Отфильтрованные данные, из которых удалены выбросы\n",
    "data_filtered = outliers[~((outliers < (Q1 - 1.5 * IQR)) |(outliers > (Q3 + 1.5 * IQR))).any(axis=1)]\n",
    "data_filtered"
   ]
  },
  {
   "cell_type": "code",
   "execution_count": 25,
   "metadata": {},
   "outputs": [],
   "source": [
    "# Копирование индексов\n",
    "index_list = list(data_filtered.index.values)\n",
    "# index_list"
   ]
  },
  {
   "cell_type": "code",
   "execution_count": 26,
   "metadata": {},
   "outputs": [
    {
     "data": {
      "text/html": [
       "<div>\n",
       "<style scoped>\n",
       "    .dataframe tbody tr th:only-of-type {\n",
       "        vertical-align: middle;\n",
       "    }\n",
       "\n",
       "    .dataframe tbody tr th {\n",
       "        vertical-align: top;\n",
       "    }\n",
       "\n",
       "    .dataframe thead th {\n",
       "        text-align: right;\n",
       "    }\n",
       "</style>\n",
       "<table border=\"1\" class=\"dataframe\">\n",
       "  <thead>\n",
       "    <tr style=\"text-align: right;\">\n",
       "      <th></th>\n",
       "      <th>price</th>\n",
       "      <th>area</th>\n",
       "      <th>latitude</th>\n",
       "      <th>longitude</th>\n",
       "      <th>bedrooms</th>\n",
       "      <th>bathrooms</th>\n",
       "      <th>balcony</th>\n",
       "      <th>status</th>\n",
       "      <th>neworold</th>\n",
       "      <th>parking</th>\n",
       "      <th>furnished_status</th>\n",
       "      <th>lift</th>\n",
       "      <th>type_of_building</th>\n",
       "    </tr>\n",
       "  </thead>\n",
       "  <tbody>\n",
       "    <tr>\n",
       "      <th>0</th>\n",
       "      <td>22400000.0</td>\n",
       "      <td>629.0</td>\n",
       "      <td>19.032800</td>\n",
       "      <td>72.896357</td>\n",
       "      <td>2</td>\n",
       "      <td>2</td>\n",
       "      <td>0</td>\n",
       "      <td>False</td>\n",
       "      <td>True</td>\n",
       "      <td>0</td>\n",
       "      <td>0.0</td>\n",
       "      <td>0</td>\n",
       "      <td>Flat</td>\n",
       "    </tr>\n",
       "    <tr>\n",
       "      <th>1</th>\n",
       "      <td>35000000.0</td>\n",
       "      <td>974.0</td>\n",
       "      <td>19.032800</td>\n",
       "      <td>72.896357</td>\n",
       "      <td>3</td>\n",
       "      <td>2</td>\n",
       "      <td>0</td>\n",
       "      <td>False</td>\n",
       "      <td>True</td>\n",
       "      <td>0</td>\n",
       "      <td>0.0</td>\n",
       "      <td>0</td>\n",
       "      <td>Flat</td>\n",
       "    </tr>\n",
       "    <tr>\n",
       "      <th>2</th>\n",
       "      <td>31700000.0</td>\n",
       "      <td>968.0</td>\n",
       "      <td>19.085600</td>\n",
       "      <td>72.909277</td>\n",
       "      <td>3</td>\n",
       "      <td>3</td>\n",
       "      <td>0</td>\n",
       "      <td>False</td>\n",
       "      <td>True</td>\n",
       "      <td>0</td>\n",
       "      <td>0.0</td>\n",
       "      <td>0</td>\n",
       "      <td>Flat</td>\n",
       "    </tr>\n",
       "    <tr>\n",
       "      <th>3</th>\n",
       "      <td>18700000.0</td>\n",
       "      <td>629.0</td>\n",
       "      <td>19.155756</td>\n",
       "      <td>72.846862</td>\n",
       "      <td>2</td>\n",
       "      <td>2</td>\n",
       "      <td>2</td>\n",
       "      <td>True</td>\n",
       "      <td>True</td>\n",
       "      <td>2</td>\n",
       "      <td>0.0</td>\n",
       "      <td>2</td>\n",
       "      <td>Flat</td>\n",
       "    </tr>\n",
       "    <tr>\n",
       "      <th>4</th>\n",
       "      <td>13500000.0</td>\n",
       "      <td>1090.0</td>\n",
       "      <td>19.177555</td>\n",
       "      <td>72.849887</td>\n",
       "      <td>2</td>\n",
       "      <td>2</td>\n",
       "      <td>0</td>\n",
       "      <td>True</td>\n",
       "      <td>True</td>\n",
       "      <td>0</td>\n",
       "      <td>0.0</td>\n",
       "      <td>0</td>\n",
       "      <td>Flat</td>\n",
       "    </tr>\n",
       "  </tbody>\n",
       "</table>\n",
       "</div>"
      ],
      "text/plain": [
       "        price    area   latitude  longitude  bedrooms  bathrooms  balcony  \\\n",
       "0  22400000.0   629.0  19.032800  72.896357         2          2        0   \n",
       "1  35000000.0   974.0  19.032800  72.896357         3          2        0   \n",
       "2  31700000.0   968.0  19.085600  72.909277         3          3        0   \n",
       "3  18700000.0   629.0  19.155756  72.846862         2          2        2   \n",
       "4  13500000.0  1090.0  19.177555  72.849887         2          2        0   \n",
       "\n",
       "   status  neworold  parking  furnished_status  lift type_of_building  \n",
       "0   False      True        0               0.0     0             Flat  \n",
       "1   False      True        0               0.0     0             Flat  \n",
       "2   False      True        0               0.0     0             Flat  \n",
       "3    True      True        2               0.0     2             Flat  \n",
       "4    True      True        0               0.0     0             Flat  "
      ]
     },
     "execution_count": 26,
     "metadata": {},
     "output_type": "execute_result"
    }
   ],
   "source": [
    "# Хранить данные без выбросов в отдельном DataFrame.\n",
    "data_filtered = data[data.index.isin(index_list)]\n",
    "data_filtered.head()"
   ]
  },
  {
   "cell_type": "code",
   "execution_count": 27,
   "metadata": {},
   "outputs": [
    {
     "data": {
      "image/png": "[encoded data removed]",
      "text/plain": [
       "<Figure size 640x480 with 1 Axes>"
      ]
     },
     "metadata": {},
     "output_type": "display_data"
    },
    {
     "data": {
      "image/png": "[encoded data removed]",
      "text/plain": [
       "<Figure size 640x480 with 1 Axes>"
      ]
     },
     "metadata": {},
     "output_type": "display_data"
    }
   ],
   "source": [
    "# создать гистограмму с отфильтрованным выбросом\n",
    "filtered_outliers = data_filtered[['price',\"area\"]]\n",
    "\n",
    "for col in filtered_outliers:\n",
    "    data_filtered.hist(col, bins=100)"
   ]
  },
  {
   "cell_type": "markdown",
   "metadata": {},
   "source": [
    "**Заключение**:\n",
    "- у двух полей удалили аномально большие значения, которых меньшинство; таким образом графики стали симметричнее"
   ]
  },
  {
   "cell_type": "markdown",
   "metadata": {},
   "source": [
    "### Средняя цена за каждый тип жилья"
   ]
  },
  {
   "cell_type": "code",
   "execution_count": 28,
   "metadata": {},
   "outputs": [
    {
     "data": {
      "text/html": [
       "<div>\n",
       "<style scoped>\n",
       "    .dataframe tbody tr th:only-of-type {\n",
       "        vertical-align: middle;\n",
       "    }\n",
       "\n",
       "    .dataframe tbody tr th {\n",
       "        vertical-align: top;\n",
       "    }\n",
       "\n",
       "    .dataframe thead th {\n",
       "        text-align: right;\n",
       "    }\n",
       "</style>\n",
       "<table border=\"1\" class=\"dataframe\">\n",
       "  <thead>\n",
       "    <tr style=\"text-align: right;\">\n",
       "      <th></th>\n",
       "      <th>price</th>\n",
       "    </tr>\n",
       "    <tr>\n",
       "      <th>type_of_building</th>\n",
       "      <th></th>\n",
       "    </tr>\n",
       "  </thead>\n",
       "  <tbody>\n",
       "    <tr>\n",
       "      <th>Flat</th>\n",
       "      <td>1.990770e+07</td>\n",
       "    </tr>\n",
       "    <tr>\n",
       "      <th>Individual House</th>\n",
       "      <td>1.950357e+07</td>\n",
       "    </tr>\n",
       "  </tbody>\n",
       "</table>\n",
       "</div>"
      ],
      "text/plain": [
       "                         price\n",
       "type_of_building              \n",
       "Flat              1.990770e+07\n",
       "Individual House  1.950357e+07"
      ]
     },
     "execution_count": 28,
     "metadata": {},
     "output_type": "execute_result"
    }
   ],
   "source": [
    "# Создание переменной с типом и средней ценой\n",
    "avg_price = data_filtered.pivot_table(index='type_of_building', values='price', aggfunc='mean')\n",
    "avg_price"
   ]
  },
  {
   "cell_type": "markdown",
   "metadata": {},
   "source": [
    "Мы видим, что средние цены у квартиры и отдельного дома +\\- одинаковые."
   ]
  },
  {
   "cell_type": "markdown",
   "metadata": {},
   "source": [
    "# Ценовые факторы"
   ]
  },
  {
   "cell_type": "markdown",
   "metadata": {},
   "source": [
    "Основные параметры, влиящие на цену:\n",
    "- area\n",
    "- bedrooms\n",
    "- bathrooms\n",
    "- balcony\n",
    "- parking\n",
    "- lift"
   ]
  },
  {
   "cell_type": "code",
   "execution_count": 29,
   "metadata": {},
   "outputs": [
    {
     "data": {
      "text/plain": [
       "<seaborn.axisgrid.FacetGrid at 0x7f3dcc771f30>"
      ]
     },
     "execution_count": 29,
     "metadata": {},
     "output_type": "execute_result"
    },
    {
     "data": {
      "image/png": "[encoded data removed]",
      "text/plain": [
       "<Figure size 500x500 with 1 Axes>"
      ]
     },
     "metadata": {},
     "output_type": "display_data"
    }
   ],
   "source": [
    "import seaborn as sns\n",
    "sns.lmplot(x=\"area\", y=\"price\", data= data_filtered)"
   ]
  },
  {
   "cell_type": "code",
   "execution_count": 30,
   "metadata": {},
   "outputs": [
    {
     "data": {
      "text/html": [
       "<div>\n",
       "<style scoped>\n",
       "    .dataframe tbody tr th:only-of-type {\n",
       "        vertical-align: middle;\n",
       "    }\n",
       "\n",
       "    .dataframe tbody tr th {\n",
       "        vertical-align: top;\n",
       "    }\n",
       "\n",
       "    .dataframe thead th {\n",
       "        text-align: right;\n",
       "    }\n",
       "</style>\n",
       "<table border=\"1\" class=\"dataframe\">\n",
       "  <thead>\n",
       "    <tr style=\"text-align: right;\">\n",
       "      <th></th>\n",
       "      <th>area</th>\n",
       "      <th>price</th>\n",
       "    </tr>\n",
       "  </thead>\n",
       "  <tbody>\n",
       "    <tr>\n",
       "      <th>area</th>\n",
       "      <td>1.000000</td>\n",
       "      <td>0.712463</td>\n",
       "    </tr>\n",
       "    <tr>\n",
       "      <th>price</th>\n",
       "      <td>0.712463</td>\n",
       "      <td>1.000000</td>\n",
       "    </tr>\n",
       "  </tbody>\n",
       "</table>\n",
       "</div>"
      ],
      "text/plain": [
       "           area     price\n",
       "area   1.000000  0.712463\n",
       "price  0.712463  1.000000"
      ]
     },
     "execution_count": 30,
     "metadata": {},
     "output_type": "execute_result"
    }
   ],
   "source": [
    "area = data[['area', 'price']]\n",
    "corr_area = area.corr()\n",
    "corr_area"
   ]
  },
  {
   "cell_type": "code",
   "execution_count": 31,
   "metadata": {},
   "outputs": [
    {
     "name": "stdout",
     "output_type": "stream",
     "text": [
      "           bathrooms    price\n",
      "bathrooms    1.00000  0.63937\n",
      "price        0.63937  1.00000\n",
      "          bedrooms     price\n",
      "bedrooms  1.000000  0.586568\n",
      "price     0.586568  1.000000\n",
      "          balcony     price\n",
      "balcony  1.000000  0.094712\n",
      "price    0.094712  1.000000\n",
      "          parking     price\n",
      "parking  1.000000  0.094712\n",
      "price    0.094712  1.000000\n",
      "           lift     price\n",
      "lift   1.000000  0.094712\n",
      "price  0.094712  1.000000\n",
      "                  furnished_status     price\n",
      "furnished_status          1.000000  0.065681\n",
      "price                     0.065681  1.000000\n"
     ]
    }
   ],
   "source": [
    "for field in ['bathrooms', 'bedrooms', 'balcony', 'parking', 'lift', 'furnished_status']:\n",
    "    current = data[[field, 'price']]\n",
    "    print(current.corr())"
   ]
  },
  {
   "cell_type": "markdown",
   "metadata": {},
   "source": [
    "Как мы видим, наиболее влияющие на цену факторами являются площадь, кол-во ванных комнат и спален. \n",
    "\n",
    "Кол-вол парковочных мест, балконов, лифтов и мебели почти не влияют на цену."
   ]
  },
  {
   "cell_type": "markdown",
   "metadata": {},
   "source": [
    "**Матрица корреляции**"
   ]
  },
  {
   "cell_type": "code",
   "execution_count": 32,
   "metadata": {},
   "outputs": [
    {
     "data": {
      "text/html": [
       "<div>\n",
       "<style scoped>\n",
       "    .dataframe tbody tr th:only-of-type {\n",
       "        vertical-align: middle;\n",
       "    }\n",
       "\n",
       "    .dataframe tbody tr th {\n",
       "        vertical-align: top;\n",
       "    }\n",
       "\n",
       "    .dataframe thead th {\n",
       "        text-align: right;\n",
       "    }\n",
       "</style>\n",
       "<table border=\"1\" class=\"dataframe\">\n",
       "  <thead>\n",
       "    <tr style=\"text-align: right;\">\n",
       "      <th></th>\n",
       "      <th>price</th>\n",
       "      <th>area</th>\n",
       "      <th>latitude</th>\n",
       "      <th>longitude</th>\n",
       "      <th>bedrooms</th>\n",
       "      <th>bathrooms</th>\n",
       "      <th>balcony</th>\n",
       "      <th>status</th>\n",
       "      <th>neworold</th>\n",
       "      <th>parking</th>\n",
       "      <th>furnished_status</th>\n",
       "      <th>lift</th>\n",
       "    </tr>\n",
       "  </thead>\n",
       "  <tbody>\n",
       "    <tr>\n",
       "      <th>price</th>\n",
       "      <td>1.000000</td>\n",
       "      <td>0.499264</td>\n",
       "      <td>-0.599898</td>\n",
       "      <td>-0.177086</td>\n",
       "      <td>0.422266</td>\n",
       "      <td>0.432040</td>\n",
       "      <td>-0.040707</td>\n",
       "      <td>-0.020695</td>\n",
       "      <td>0.041958</td>\n",
       "      <td>-0.040707</td>\n",
       "      <td>0.058952</td>\n",
       "      <td>-0.040707</td>\n",
       "    </tr>\n",
       "    <tr>\n",
       "      <th>area</th>\n",
       "      <td>0.499264</td>\n",
       "      <td>1.000000</td>\n",
       "      <td>-0.104582</td>\n",
       "      <td>0.023321</td>\n",
       "      <td>0.608582</td>\n",
       "      <td>0.566359</td>\n",
       "      <td>0.188044</td>\n",
       "      <td>0.013462</td>\n",
       "      <td>0.041064</td>\n",
       "      <td>0.188044</td>\n",
       "      <td>-0.063113</td>\n",
       "      <td>0.188044</td>\n",
       "    </tr>\n",
       "    <tr>\n",
       "      <th>latitude</th>\n",
       "      <td>-0.599898</td>\n",
       "      <td>-0.104582</td>\n",
       "      <td>1.000000</td>\n",
       "      <td>-0.095579</td>\n",
       "      <td>-0.081518</td>\n",
       "      <td>-0.094901</td>\n",
       "      <td>0.135250</td>\n",
       "      <td>0.024948</td>\n",
       "      <td>-0.034597</td>\n",
       "      <td>0.135250</td>\n",
       "      <td>-0.069358</td>\n",
       "      <td>0.135250</td>\n",
       "    </tr>\n",
       "    <tr>\n",
       "      <th>longitude</th>\n",
       "      <td>-0.177086</td>\n",
       "      <td>0.023321</td>\n",
       "      <td>-0.095579</td>\n",
       "      <td>1.000000</td>\n",
       "      <td>0.004813</td>\n",
       "      <td>-0.017087</td>\n",
       "      <td>0.031578</td>\n",
       "      <td>-0.011718</td>\n",
       "      <td>0.046991</td>\n",
       "      <td>0.031578</td>\n",
       "      <td>-0.034835</td>\n",
       "      <td>0.031578</td>\n",
       "    </tr>\n",
       "    <tr>\n",
       "      <th>bedrooms</th>\n",
       "      <td>0.422266</td>\n",
       "      <td>0.608582</td>\n",
       "      <td>-0.081518</td>\n",
       "      <td>0.004813</td>\n",
       "      <td>1.000000</td>\n",
       "      <td>0.736819</td>\n",
       "      <td>0.021756</td>\n",
       "      <td>-0.016805</td>\n",
       "      <td>0.011625</td>\n",
       "      <td>0.021756</td>\n",
       "      <td>0.013467</td>\n",
       "      <td>0.021756</td>\n",
       "    </tr>\n",
       "    <tr>\n",
       "      <th>bathrooms</th>\n",
       "      <td>0.432040</td>\n",
       "      <td>0.566359</td>\n",
       "      <td>-0.094901</td>\n",
       "      <td>-0.017087</td>\n",
       "      <td>0.736819</td>\n",
       "      <td>1.000000</td>\n",
       "      <td>0.035687</td>\n",
       "      <td>-0.003451</td>\n",
       "      <td>0.047674</td>\n",
       "      <td>0.035687</td>\n",
       "      <td>-0.003627</td>\n",
       "      <td>0.035687</td>\n",
       "    </tr>\n",
       "    <tr>\n",
       "      <th>balcony</th>\n",
       "      <td>-0.040707</td>\n",
       "      <td>0.188044</td>\n",
       "      <td>0.135250</td>\n",
       "      <td>0.031578</td>\n",
       "      <td>0.021756</td>\n",
       "      <td>0.035687</td>\n",
       "      <td>1.000000</td>\n",
       "      <td>0.014515</td>\n",
       "      <td>0.099234</td>\n",
       "      <td>1.000000</td>\n",
       "      <td>-0.115621</td>\n",
       "      <td>1.000000</td>\n",
       "    </tr>\n",
       "    <tr>\n",
       "      <th>status</th>\n",
       "      <td>-0.020695</td>\n",
       "      <td>0.013462</td>\n",
       "      <td>0.024948</td>\n",
       "      <td>-0.011718</td>\n",
       "      <td>-0.016805</td>\n",
       "      <td>-0.003451</td>\n",
       "      <td>0.014515</td>\n",
       "      <td>1.000000</td>\n",
       "      <td>-0.064395</td>\n",
       "      <td>0.014515</td>\n",
       "      <td>0.015703</td>\n",
       "      <td>0.014515</td>\n",
       "    </tr>\n",
       "    <tr>\n",
       "      <th>neworold</th>\n",
       "      <td>0.041958</td>\n",
       "      <td>0.041064</td>\n",
       "      <td>-0.034597</td>\n",
       "      <td>0.046991</td>\n",
       "      <td>0.011625</td>\n",
       "      <td>0.047674</td>\n",
       "      <td>0.099234</td>\n",
       "      <td>-0.064395</td>\n",
       "      <td>1.000000</td>\n",
       "      <td>0.099234</td>\n",
       "      <td>-0.093191</td>\n",
       "      <td>0.099234</td>\n",
       "    </tr>\n",
       "    <tr>\n",
       "      <th>parking</th>\n",
       "      <td>-0.040707</td>\n",
       "      <td>0.188044</td>\n",
       "      <td>0.135250</td>\n",
       "      <td>0.031578</td>\n",
       "      <td>0.021756</td>\n",
       "      <td>0.035687</td>\n",
       "      <td>1.000000</td>\n",
       "      <td>0.014515</td>\n",
       "      <td>0.099234</td>\n",
       "      <td>1.000000</td>\n",
       "      <td>-0.115621</td>\n",
       "      <td>1.000000</td>\n",
       "    </tr>\n",
       "    <tr>\n",
       "      <th>furnished_status</th>\n",
       "      <td>0.058952</td>\n",
       "      <td>-0.063113</td>\n",
       "      <td>-0.069358</td>\n",
       "      <td>-0.034835</td>\n",
       "      <td>0.013467</td>\n",
       "      <td>-0.003627</td>\n",
       "      <td>-0.115621</td>\n",
       "      <td>0.015703</td>\n",
       "      <td>-0.093191</td>\n",
       "      <td>-0.115621</td>\n",
       "      <td>1.000000</td>\n",
       "      <td>-0.115621</td>\n",
       "    </tr>\n",
       "    <tr>\n",
       "      <th>lift</th>\n",
       "      <td>-0.040707</td>\n",
       "      <td>0.188044</td>\n",
       "      <td>0.135250</td>\n",
       "      <td>0.031578</td>\n",
       "      <td>0.021756</td>\n",
       "      <td>0.035687</td>\n",
       "      <td>1.000000</td>\n",
       "      <td>0.014515</td>\n",
       "      <td>0.099234</td>\n",
       "      <td>1.000000</td>\n",
       "      <td>-0.115621</td>\n",
       "      <td>1.000000</td>\n",
       "    </tr>\n",
       "  </tbody>\n",
       "</table>\n",
       "</div>"
      ],
      "text/plain": [
       "                     price      area  latitude  longitude  bedrooms  \\\n",
       "price             1.000000  0.499264 -0.599898  -0.177086  0.422266   \n",
       "area              0.499264  1.000000 -0.104582   0.023321  0.608582   \n",
       "latitude         -0.599898 -0.104582  1.000000  -0.095579 -0.081518   \n",
       "longitude        -0.177086  0.023321 -0.095579   1.000000  0.004813   \n",
       "bedrooms          0.422266  0.608582 -0.081518   0.004813  1.000000   \n",
       "bathrooms         0.432040  0.566359 -0.094901  -0.017087  0.736819   \n",
       "balcony          -0.040707  0.188044  0.135250   0.031578  0.021756   \n",
       "status           -0.020695  0.013462  0.024948  -0.011718 -0.016805   \n",
       "neworold          0.041958  0.041064 -0.034597   0.046991  0.011625   \n",
       "parking          -0.040707  0.188044  0.135250   0.031578  0.021756   \n",
       "furnished_status  0.058952 -0.063113 -0.069358  -0.034835  0.013467   \n",
       "lift             -0.040707  0.188044  0.135250   0.031578  0.021756   \n",
       "\n",
       "                  bathrooms   balcony    status  neworold   parking  \\\n",
       "price              0.432040 -0.040707 -0.020695  0.041958 -0.040707   \n",
       "area               0.566359  0.188044  0.013462  0.041064  0.188044   \n",
       "latitude          -0.094901  0.135250  0.024948 -0.034597  0.135250   \n",
       "longitude         -0.017087  0.031578 -0.011718  0.046991  0.031578   \n",
       "bedrooms           0.736819  0.021756 -0.016805  0.011625  0.021756   \n",
       "bathrooms          1.000000  0.035687 -0.003451  0.047674  0.035687   \n",
       "balcony            0.035687  1.000000  0.014515  0.099234  1.000000   \n",
       "status            -0.003451  0.014515  1.000000 -0.064395  0.014515   \n",
       "neworold           0.047674  0.099234 -0.064395  1.000000  0.099234   \n",
       "parking            0.035687  1.000000  0.014515  0.099234  1.000000   \n",
       "furnished_status  -0.003627 -0.115621  0.015703 -0.093191 -0.115621   \n",
       "lift               0.035687  1.000000  0.014515  0.099234  1.000000   \n",
       "\n",
       "                  furnished_status      lift  \n",
       "price                     0.058952 -0.040707  \n",
       "area                     -0.063113  0.188044  \n",
       "latitude                 -0.069358  0.135250  \n",
       "longitude                -0.034835  0.031578  \n",
       "bedrooms                  0.013467  0.021756  \n",
       "bathrooms                -0.003627  0.035687  \n",
       "balcony                  -0.115621  1.000000  \n",
       "status                    0.015703  0.014515  \n",
       "neworold                 -0.093191  0.099234  \n",
       "parking                  -0.115621  1.000000  \n",
       "furnished_status          1.000000 -0.115621  \n",
       "lift                     -0.115621  1.000000  "
      ]
     },
     "execution_count": 32,
     "metadata": {},
     "output_type": "execute_result"
    }
   ],
   "source": [
    "\n",
    "correlation_matrix = data_filtered.drop('type_of_building', axis=1).corr()\n",
    "correlation_matrix\n"
   ]
  },
  {
   "cell_type": "code",
   "execution_count": 33,
   "metadata": {},
   "outputs": [
    {
     "data": {
      "text/plain": [
       "<function matplotlib.pyplot.show(close=None, block=None)>"
      ]
     },
     "execution_count": 33,
     "metadata": {},
     "output_type": "execute_result"
    },
    {
     "data": {
      "image/png": "[encoded data removed]",
      "text/plain": [
       "<Figure size 1300x300 with 2 Axes>"
      ]
     },
     "metadata": {},
     "output_type": "display_data"
    }
   ],
   "source": [
    "plt.figure(figsize=(13,3))\n",
    "sns.heatmap(correlation_matrix, annot=True, cmap=\"YlGnBu\", fmt=\".2f\")\n",
    "plt.show"
   ]
  },
  {
   "cell_type": "code",
   "execution_count": 65,
   "metadata": {},
   "outputs": [
    {
     "name": "stdout",
     "output_type": "stream",
     "text": [
      "<class 'pandas.core.frame.DataFrame'>\n",
      "RangeIndex: 6237 entries, 0 to 6236\n",
      "Data columns (total 13 columns):\n",
      " #   Column            Non-Null Count  Dtype  \n",
      "---  ------            --------------  -----  \n",
      " 0   price             6237 non-null   float64\n",
      " 1   area              6237 non-null   float64\n",
      " 2   latitude          6237 non-null   float64\n",
      " 3   longitude         6237 non-null   float64\n",
      " 4   bedrooms          6237 non-null   int64  \n",
      " 5   bathrooms         6237 non-null   int64  \n",
      " 6   balcony           6237 non-null   int64  \n",
      " 7   status            6237 non-null   bool   \n",
      " 8   neworold          6237 non-null   bool   \n",
      " 9   parking           6237 non-null   int64  \n",
      " 10  furnished_status  6237 non-null   float64\n",
      " 11  lift              6237 non-null   int64  \n",
      " 12  type_of_building  6237 non-null   object \n",
      "dtypes: bool(2), float64(5), int64(5), object(1)\n",
      "memory usage: 548.3+ KB\n"
     ]
    }
   ],
   "source": [
    "data.info()"
   ]
  },
  {
   "cell_type": "markdown",
   "metadata": {},
   "source": [
    "### Использование техники горячего кодирования"
   ]
  },
  {
   "cell_type": "code",
   "execution_count": 74,
   "metadata": {},
   "outputs": [
    {
     "data": {
      "text/html": [
       "<div>\n",
       "<style scoped>\n",
       "    .dataframe tbody tr th:only-of-type {\n",
       "        vertical-align: middle;\n",
       "    }\n",
       "\n",
       "    .dataframe tbody tr th {\n",
       "        vertical-align: top;\n",
       "    }\n",
       "\n",
       "    .dataframe thead th {\n",
       "        text-align: right;\n",
       "    }\n",
       "</style>\n",
       "<table border=\"1\" class=\"dataframe\">\n",
       "  <thead>\n",
       "    <tr style=\"text-align: right;\">\n",
       "      <th></th>\n",
       "      <th>price</th>\n",
       "      <th>area</th>\n",
       "      <th>latitude</th>\n",
       "      <th>longitude</th>\n",
       "      <th>bedrooms</th>\n",
       "      <th>bathrooms</th>\n",
       "      <th>balcony</th>\n",
       "      <th>status</th>\n",
       "      <th>neworold</th>\n",
       "      <th>parking</th>\n",
       "      <th>furnished_status</th>\n",
       "      <th>lift</th>\n",
       "    </tr>\n",
       "  </thead>\n",
       "  <tbody>\n",
       "    <tr>\n",
       "      <th>0</th>\n",
       "      <td>22400000.0</td>\n",
       "      <td>629.0</td>\n",
       "      <td>19.032800</td>\n",
       "      <td>72.896357</td>\n",
       "      <td>2</td>\n",
       "      <td>2</td>\n",
       "      <td>0</td>\n",
       "      <td>False</td>\n",
       "      <td>True</td>\n",
       "      <td>0</td>\n",
       "      <td>0.0</td>\n",
       "      <td>0</td>\n",
       "    </tr>\n",
       "    <tr>\n",
       "      <th>1</th>\n",
       "      <td>35000000.0</td>\n",
       "      <td>974.0</td>\n",
       "      <td>19.032800</td>\n",
       "      <td>72.896357</td>\n",
       "      <td>3</td>\n",
       "      <td>2</td>\n",
       "      <td>0</td>\n",
       "      <td>False</td>\n",
       "      <td>True</td>\n",
       "      <td>0</td>\n",
       "      <td>0.0</td>\n",
       "      <td>0</td>\n",
       "    </tr>\n",
       "    <tr>\n",
       "      <th>2</th>\n",
       "      <td>31700000.0</td>\n",
       "      <td>968.0</td>\n",
       "      <td>19.085600</td>\n",
       "      <td>72.909277</td>\n",
       "      <td>3</td>\n",
       "      <td>3</td>\n",
       "      <td>0</td>\n",
       "      <td>False</td>\n",
       "      <td>True</td>\n",
       "      <td>0</td>\n",
       "      <td>0.0</td>\n",
       "      <td>0</td>\n",
       "    </tr>\n",
       "    <tr>\n",
       "      <th>3</th>\n",
       "      <td>18700000.0</td>\n",
       "      <td>629.0</td>\n",
       "      <td>19.155756</td>\n",
       "      <td>72.846862</td>\n",
       "      <td>2</td>\n",
       "      <td>2</td>\n",
       "      <td>2</td>\n",
       "      <td>True</td>\n",
       "      <td>True</td>\n",
       "      <td>2</td>\n",
       "      <td>0.0</td>\n",
       "      <td>2</td>\n",
       "    </tr>\n",
       "    <tr>\n",
       "      <th>4</th>\n",
       "      <td>13500000.0</td>\n",
       "      <td>1090.0</td>\n",
       "      <td>19.177555</td>\n",
       "      <td>72.849887</td>\n",
       "      <td>2</td>\n",
       "      <td>2</td>\n",
       "      <td>0</td>\n",
       "      <td>True</td>\n",
       "      <td>True</td>\n",
       "      <td>0</td>\n",
       "      <td>0.0</td>\n",
       "      <td>0</td>\n",
       "    </tr>\n",
       "    <tr>\n",
       "      <th>...</th>\n",
       "      <td>...</td>\n",
       "      <td>...</td>\n",
       "      <td>...</td>\n",
       "      <td>...</td>\n",
       "      <td>...</td>\n",
       "      <td>...</td>\n",
       "      <td>...</td>\n",
       "      <td>...</td>\n",
       "      <td>...</td>\n",
       "      <td>...</td>\n",
       "      <td>...</td>\n",
       "      <td>...</td>\n",
       "    </tr>\n",
       "    <tr>\n",
       "      <th>6232</th>\n",
       "      <td>19500000.0</td>\n",
       "      <td>810.0</td>\n",
       "      <td>19.138320</td>\n",
       "      <td>72.810020</td>\n",
       "      <td>2</td>\n",
       "      <td>2</td>\n",
       "      <td>0</td>\n",
       "      <td>True</td>\n",
       "      <td>False</td>\n",
       "      <td>0</td>\n",
       "      <td>0.5</td>\n",
       "      <td>0</td>\n",
       "    </tr>\n",
       "    <tr>\n",
       "      <th>6233</th>\n",
       "      <td>22000000.0</td>\n",
       "      <td>1400.0</td>\n",
       "      <td>19.221920</td>\n",
       "      <td>72.854250</td>\n",
       "      <td>3</td>\n",
       "      <td>3</td>\n",
       "      <td>1</td>\n",
       "      <td>True</td>\n",
       "      <td>False</td>\n",
       "      <td>1</td>\n",
       "      <td>0.0</td>\n",
       "      <td>1</td>\n",
       "    </tr>\n",
       "    <tr>\n",
       "      <th>6234</th>\n",
       "      <td>20000000.0</td>\n",
       "      <td>750.0</td>\n",
       "      <td>19.144320</td>\n",
       "      <td>72.824111</td>\n",
       "      <td>2</td>\n",
       "      <td>2</td>\n",
       "      <td>0</td>\n",
       "      <td>True</td>\n",
       "      <td>False</td>\n",
       "      <td>0</td>\n",
       "      <td>0.0</td>\n",
       "      <td>0</td>\n",
       "    </tr>\n",
       "    <tr>\n",
       "      <th>6235</th>\n",
       "      <td>11000000.0</td>\n",
       "      <td>700.0</td>\n",
       "      <td>19.047201</td>\n",
       "      <td>72.872225</td>\n",
       "      <td>2</td>\n",
       "      <td>2</td>\n",
       "      <td>0</td>\n",
       "      <td>True</td>\n",
       "      <td>False</td>\n",
       "      <td>0</td>\n",
       "      <td>1.0</td>\n",
       "      <td>0</td>\n",
       "    </tr>\n",
       "    <tr>\n",
       "      <th>6236</th>\n",
       "      <td>15000000.0</td>\n",
       "      <td>900.0</td>\n",
       "      <td>19.168818</td>\n",
       "      <td>72.936375</td>\n",
       "      <td>2</td>\n",
       "      <td>2</td>\n",
       "      <td>0</td>\n",
       "      <td>True</td>\n",
       "      <td>False</td>\n",
       "      <td>0</td>\n",
       "      <td>0.0</td>\n",
       "      <td>0</td>\n",
       "    </tr>\n",
       "  </tbody>\n",
       "</table>\n",
       "<p>5524 rows × 12 columns</p>\n",
       "</div>"
      ],
      "text/plain": [
       "           price    area   latitude  longitude  bedrooms  bathrooms  balcony  \\\n",
       "0     22400000.0   629.0  19.032800  72.896357         2          2        0   \n",
       "1     35000000.0   974.0  19.032800  72.896357         3          2        0   \n",
       "2     31700000.0   968.0  19.085600  72.909277         3          3        0   \n",
       "3     18700000.0   629.0  19.155756  72.846862         2          2        2   \n",
       "4     13500000.0  1090.0  19.177555  72.849887         2          2        0   \n",
       "...          ...     ...        ...        ...       ...        ...      ...   \n",
       "6232  19500000.0   810.0  19.138320  72.810020         2          2        0   \n",
       "6233  22000000.0  1400.0  19.221920  72.854250         3          3        1   \n",
       "6234  20000000.0   750.0  19.144320  72.824111         2          2        0   \n",
       "6235  11000000.0   700.0  19.047201  72.872225         2          2        0   \n",
       "6236  15000000.0   900.0  19.168818  72.936375         2          2        0   \n",
       "\n",
       "      status  neworold  parking  furnished_status  lift  \n",
       "0      False      True        0               0.0     0  \n",
       "1      False      True        0               0.0     0  \n",
       "2      False      True        0               0.0     0  \n",
       "3       True      True        2               0.0     2  \n",
       "4       True      True        0               0.0     0  \n",
       "...      ...       ...      ...               ...   ...  \n",
       "6232    True     False        0               0.5     0  \n",
       "6233    True     False        1               0.0     1  \n",
       "6234    True     False        0               0.0     0  \n",
       "6235    True     False        0               1.0     0  \n",
       "6236    True     False        0               0.0     0  \n",
       "\n",
       "[5524 rows x 12 columns]"
      ]
     },
     "execution_count": 74,
     "metadata": {},
     "output_type": "execute_result"
    }
   ],
   "source": [
    "numeric_data = data_filtered.select_dtypes(exclude='object')\n",
    "numeric_data"
   ]
  },
  {
   "cell_type": "code",
   "execution_count": 67,
   "metadata": {},
   "outputs": [
    {
     "data": {
      "text/html": [
       "<div>\n",
       "<style scoped>\n",
       "    .dataframe tbody tr th:only-of-type {\n",
       "        vertical-align: middle;\n",
       "    }\n",
       "\n",
       "    .dataframe tbody tr th {\n",
       "        vertical-align: top;\n",
       "    }\n",
       "\n",
       "    .dataframe thead th {\n",
       "        text-align: right;\n",
       "    }\n",
       "</style>\n",
       "<table border=\"1\" class=\"dataframe\">\n",
       "  <thead>\n",
       "    <tr style=\"text-align: right;\">\n",
       "      <th></th>\n",
       "      <th>type_of_building</th>\n",
       "    </tr>\n",
       "  </thead>\n",
       "  <tbody>\n",
       "    <tr>\n",
       "      <th>0</th>\n",
       "      <td>Flat</td>\n",
       "    </tr>\n",
       "    <tr>\n",
       "      <th>1</th>\n",
       "      <td>Flat</td>\n",
       "    </tr>\n",
       "    <tr>\n",
       "      <th>2</th>\n",
       "      <td>Flat</td>\n",
       "    </tr>\n",
       "    <tr>\n",
       "      <th>3</th>\n",
       "      <td>Flat</td>\n",
       "    </tr>\n",
       "    <tr>\n",
       "      <th>4</th>\n",
       "      <td>Flat</td>\n",
       "    </tr>\n",
       "    <tr>\n",
       "      <th>...</th>\n",
       "      <td>...</td>\n",
       "    </tr>\n",
       "    <tr>\n",
       "      <th>6232</th>\n",
       "      <td>Flat</td>\n",
       "    </tr>\n",
       "    <tr>\n",
       "      <th>6233</th>\n",
       "      <td>Flat</td>\n",
       "    </tr>\n",
       "    <tr>\n",
       "      <th>6234</th>\n",
       "      <td>Flat</td>\n",
       "    </tr>\n",
       "    <tr>\n",
       "      <th>6235</th>\n",
       "      <td>Flat</td>\n",
       "    </tr>\n",
       "    <tr>\n",
       "      <th>6236</th>\n",
       "      <td>Flat</td>\n",
       "    </tr>\n",
       "  </tbody>\n",
       "</table>\n",
       "<p>5524 rows × 1 columns</p>\n",
       "</div>"
      ],
      "text/plain": [
       "     type_of_building\n",
       "0                Flat\n",
       "1                Flat\n",
       "2                Flat\n",
       "3                Flat\n",
       "4                Flat\n",
       "...               ...\n",
       "6232             Flat\n",
       "6233             Flat\n",
       "6234             Flat\n",
       "6235             Flat\n",
       "6236             Flat\n",
       "\n",
       "[5524 rows x 1 columns]"
      ]
     },
     "execution_count": 67,
     "metadata": {},
     "output_type": "execute_result"
    }
   ],
   "source": [
    "object_data = data_filtered.select_dtypes(include='object')\n",
    "object_data"
   ]
  },
  {
   "cell_type": "code",
   "execution_count": 73,
   "metadata": {},
   "outputs": [
    {
     "data": {
      "text/plain": [
       "array([False,  True])"
      ]
     },
     "execution_count": 73,
     "metadata": {},
     "output_type": "execute_result"
    }
   ],
   "source": [
    "data_objects_dummies = pd.get_dummies(object_data)"
   ]
  },
  {
   "cell_type": "code",
   "execution_count": 75,
   "metadata": {},
   "outputs": [
    {
     "data": {
      "text/html": [
       "<div>\n",
       "<style scoped>\n",
       "    .dataframe tbody tr th:only-of-type {\n",
       "        vertical-align: middle;\n",
       "    }\n",
       "\n",
       "    .dataframe tbody tr th {\n",
       "        vertical-align: top;\n",
       "    }\n",
       "\n",
       "    .dataframe thead th {\n",
       "        text-align: right;\n",
       "    }\n",
       "</style>\n",
       "<table border=\"1\" class=\"dataframe\">\n",
       "  <thead>\n",
       "    <tr style=\"text-align: right;\">\n",
       "      <th></th>\n",
       "      <th>price</th>\n",
       "      <th>area</th>\n",
       "      <th>latitude</th>\n",
       "      <th>longitude</th>\n",
       "      <th>bedrooms</th>\n",
       "      <th>bathrooms</th>\n",
       "      <th>balcony</th>\n",
       "      <th>status</th>\n",
       "      <th>neworold</th>\n",
       "      <th>parking</th>\n",
       "      <th>furnished_status</th>\n",
       "      <th>lift</th>\n",
       "      <th>type_of_building_Flat</th>\n",
       "      <th>type_of_building_Individual House</th>\n",
       "    </tr>\n",
       "  </thead>\n",
       "  <tbody>\n",
       "    <tr>\n",
       "      <th>0</th>\n",
       "      <td>22400000.0</td>\n",
       "      <td>629.0</td>\n",
       "      <td>19.032800</td>\n",
       "      <td>72.896357</td>\n",
       "      <td>2</td>\n",
       "      <td>2</td>\n",
       "      <td>0</td>\n",
       "      <td>False</td>\n",
       "      <td>True</td>\n",
       "      <td>0</td>\n",
       "      <td>0.0</td>\n",
       "      <td>0</td>\n",
       "      <td>True</td>\n",
       "      <td>False</td>\n",
       "    </tr>\n",
       "    <tr>\n",
       "      <th>1</th>\n",
       "      <td>35000000.0</td>\n",
       "      <td>974.0</td>\n",
       "      <td>19.032800</td>\n",
       "      <td>72.896357</td>\n",
       "      <td>3</td>\n",
       "      <td>2</td>\n",
       "      <td>0</td>\n",
       "      <td>False</td>\n",
       "      <td>True</td>\n",
       "      <td>0</td>\n",
       "      <td>0.0</td>\n",
       "      <td>0</td>\n",
       "      <td>True</td>\n",
       "      <td>False</td>\n",
       "    </tr>\n",
       "    <tr>\n",
       "      <th>2</th>\n",
       "      <td>31700000.0</td>\n",
       "      <td>968.0</td>\n",
       "      <td>19.085600</td>\n",
       "      <td>72.909277</td>\n",
       "      <td>3</td>\n",
       "      <td>3</td>\n",
       "      <td>0</td>\n",
       "      <td>False</td>\n",
       "      <td>True</td>\n",
       "      <td>0</td>\n",
       "      <td>0.0</td>\n",
       "      <td>0</td>\n",
       "      <td>True</td>\n",
       "      <td>False</td>\n",
       "    </tr>\n",
       "    <tr>\n",
       "      <th>3</th>\n",
       "      <td>18700000.0</td>\n",
       "      <td>629.0</td>\n",
       "      <td>19.155756</td>\n",
       "      <td>72.846862</td>\n",
       "      <td>2</td>\n",
       "      <td>2</td>\n",
       "      <td>2</td>\n",
       "      <td>True</td>\n",
       "      <td>True</td>\n",
       "      <td>2</td>\n",
       "      <td>0.0</td>\n",
       "      <td>2</td>\n",
       "      <td>True</td>\n",
       "      <td>False</td>\n",
       "    </tr>\n",
       "    <tr>\n",
       "      <th>4</th>\n",
       "      <td>13500000.0</td>\n",
       "      <td>1090.0</td>\n",
       "      <td>19.177555</td>\n",
       "      <td>72.849887</td>\n",
       "      <td>2</td>\n",
       "      <td>2</td>\n",
       "      <td>0</td>\n",
       "      <td>True</td>\n",
       "      <td>True</td>\n",
       "      <td>0</td>\n",
       "      <td>0.0</td>\n",
       "      <td>0</td>\n",
       "      <td>True</td>\n",
       "      <td>False</td>\n",
       "    </tr>\n",
       "    <tr>\n",
       "      <th>...</th>\n",
       "      <td>...</td>\n",
       "      <td>...</td>\n",
       "      <td>...</td>\n",
       "      <td>...</td>\n",
       "      <td>...</td>\n",
       "      <td>...</td>\n",
       "      <td>...</td>\n",
       "      <td>...</td>\n",
       "      <td>...</td>\n",
       "      <td>...</td>\n",
       "      <td>...</td>\n",
       "      <td>...</td>\n",
       "      <td>...</td>\n",
       "      <td>...</td>\n",
       "    </tr>\n",
       "    <tr>\n",
       "      <th>6232</th>\n",
       "      <td>19500000.0</td>\n",
       "      <td>810.0</td>\n",
       "      <td>19.138320</td>\n",
       "      <td>72.810020</td>\n",
       "      <td>2</td>\n",
       "      <td>2</td>\n",
       "      <td>0</td>\n",
       "      <td>True</td>\n",
       "      <td>False</td>\n",
       "      <td>0</td>\n",
       "      <td>0.5</td>\n",
       "      <td>0</td>\n",
       "      <td>True</td>\n",
       "      <td>False</td>\n",
       "    </tr>\n",
       "    <tr>\n",
       "      <th>6233</th>\n",
       "      <td>22000000.0</td>\n",
       "      <td>1400.0</td>\n",
       "      <td>19.221920</td>\n",
       "      <td>72.854250</td>\n",
       "      <td>3</td>\n",
       "      <td>3</td>\n",
       "      <td>1</td>\n",
       "      <td>True</td>\n",
       "      <td>False</td>\n",
       "      <td>1</td>\n",
       "      <td>0.0</td>\n",
       "      <td>1</td>\n",
       "      <td>True</td>\n",
       "      <td>False</td>\n",
       "    </tr>\n",
       "    <tr>\n",
       "      <th>6234</th>\n",
       "      <td>20000000.0</td>\n",
       "      <td>750.0</td>\n",
       "      <td>19.144320</td>\n",
       "      <td>72.824111</td>\n",
       "      <td>2</td>\n",
       "      <td>2</td>\n",
       "      <td>0</td>\n",
       "      <td>True</td>\n",
       "      <td>False</td>\n",
       "      <td>0</td>\n",
       "      <td>0.0</td>\n",
       "      <td>0</td>\n",
       "      <td>True</td>\n",
       "      <td>False</td>\n",
       "    </tr>\n",
       "    <tr>\n",
       "      <th>6235</th>\n",
       "      <td>11000000.0</td>\n",
       "      <td>700.0</td>\n",
       "      <td>19.047201</td>\n",
       "      <td>72.872225</td>\n",
       "      <td>2</td>\n",
       "      <td>2</td>\n",
       "      <td>0</td>\n",
       "      <td>True</td>\n",
       "      <td>False</td>\n",
       "      <td>0</td>\n",
       "      <td>1.0</td>\n",
       "      <td>0</td>\n",
       "      <td>True</td>\n",
       "      <td>False</td>\n",
       "    </tr>\n",
       "    <tr>\n",
       "      <th>6236</th>\n",
       "      <td>15000000.0</td>\n",
       "      <td>900.0</td>\n",
       "      <td>19.168818</td>\n",
       "      <td>72.936375</td>\n",
       "      <td>2</td>\n",
       "      <td>2</td>\n",
       "      <td>0</td>\n",
       "      <td>True</td>\n",
       "      <td>False</td>\n",
       "      <td>0</td>\n",
       "      <td>0.0</td>\n",
       "      <td>0</td>\n",
       "      <td>True</td>\n",
       "      <td>False</td>\n",
       "    </tr>\n",
       "  </tbody>\n",
       "</table>\n",
       "<p>5524 rows × 14 columns</p>\n",
       "</div>"
      ],
      "text/plain": [
       "           price    area   latitude  longitude  bedrooms  bathrooms  balcony  \\\n",
       "0     22400000.0   629.0  19.032800  72.896357         2          2        0   \n",
       "1     35000000.0   974.0  19.032800  72.896357         3          2        0   \n",
       "2     31700000.0   968.0  19.085600  72.909277         3          3        0   \n",
       "3     18700000.0   629.0  19.155756  72.846862         2          2        2   \n",
       "4     13500000.0  1090.0  19.177555  72.849887         2          2        0   \n",
       "...          ...     ...        ...        ...       ...        ...      ...   \n",
       "6232  19500000.0   810.0  19.138320  72.810020         2          2        0   \n",
       "6233  22000000.0  1400.0  19.221920  72.854250         3          3        1   \n",
       "6234  20000000.0   750.0  19.144320  72.824111         2          2        0   \n",
       "6235  11000000.0   700.0  19.047201  72.872225         2          2        0   \n",
       "6236  15000000.0   900.0  19.168818  72.936375         2          2        0   \n",
       "\n",
       "      status  neworold  parking  furnished_status  lift  \\\n",
       "0      False      True        0               0.0     0   \n",
       "1      False      True        0               0.0     0   \n",
       "2      False      True        0               0.0     0   \n",
       "3       True      True        2               0.0     2   \n",
       "4       True      True        0               0.0     0   \n",
       "...      ...       ...      ...               ...   ...   \n",
       "6232    True     False        0               0.5     0   \n",
       "6233    True     False        1               0.0     1   \n",
       "6234    True     False        0               0.0     0   \n",
       "6235    True     False        0               1.0     0   \n",
       "6236    True     False        0               0.0     0   \n",
       "\n",
       "      type_of_building_Flat  type_of_building_Individual House  \n",
       "0                      True                              False  \n",
       "1                      True                              False  \n",
       "2                      True                              False  \n",
       "3                      True                              False  \n",
       "4                      True                              False  \n",
       "...                     ...                                ...  \n",
       "6232                   True                              False  \n",
       "6233                   True                              False  \n",
       "6234                   True                              False  \n",
       "6235                   True                              False  \n",
       "6236                   True                              False  \n",
       "\n",
       "[5524 rows x 14 columns]"
      ]
     },
     "execution_count": 75,
     "metadata": {},
     "output_type": "execute_result"
    }
   ],
   "source": [
    "final_data = pd.concat([numeric_data,data_objects_dummies], axis=1)\n",
    "final_data"
   ]
  },
  {
   "cell_type": "markdown",
   "metadata": {},
   "source": [
    "Таким образом, теперь мы сумеем использовать поле type_of_building в задачи регрессии"
   ]
  },
  {
   "cell_type": "markdown",
   "metadata": {},
   "source": [
    "# Выделение целевого признака. Разбитие выборки."
   ]
  },
  {
   "cell_type": "markdown",
   "metadata": {},
   "source": [
    "Целевой признак был известен с самого начала - цена. Разобьем выборку на тестовую и обучающуюся."
   ]
  },
  {
   "cell_type": "code",
   "execution_count": 76,
   "metadata": {},
   "outputs": [],
   "source": [
    "y = final_data['price']\n",
    "X = final_data.drop(['price'], axis=1)"
   ]
  },
  {
   "cell_type": "code",
   "execution_count": 77,
   "metadata": {},
   "outputs": [
    {
     "data": {
      "text/plain": [
       "0       22400000.0\n",
       "1       35000000.0\n",
       "2       31700000.0\n",
       "3       18700000.0\n",
       "4       13500000.0\n",
       "           ...    \n",
       "6232    19500000.0\n",
       "6233    22000000.0\n",
       "6234    20000000.0\n",
       "6235    11000000.0\n",
       "6236    15000000.0\n",
       "Name: price, Length: 5524, dtype: float64"
      ]
     },
     "execution_count": 77,
     "metadata": {},
     "output_type": "execute_result"
    }
   ],
   "source": [
    "y"
   ]
  },
  {
   "cell_type": "code",
   "execution_count": 78,
   "metadata": {},
   "outputs": [
    {
     "data": {
      "text/html": [
       "<div>\n",
       "<style scoped>\n",
       "    .dataframe tbody tr th:only-of-type {\n",
       "        vertical-align: middle;\n",
       "    }\n",
       "\n",
       "    .dataframe tbody tr th {\n",
       "        vertical-align: top;\n",
       "    }\n",
       "\n",
       "    .dataframe thead th {\n",
       "        text-align: right;\n",
       "    }\n",
       "</style>\n",
       "<table border=\"1\" class=\"dataframe\">\n",
       "  <thead>\n",
       "    <tr style=\"text-align: right;\">\n",
       "      <th></th>\n",
       "      <th>area</th>\n",
       "      <th>latitude</th>\n",
       "      <th>longitude</th>\n",
       "      <th>bedrooms</th>\n",
       "      <th>bathrooms</th>\n",
       "      <th>balcony</th>\n",
       "      <th>status</th>\n",
       "      <th>neworold</th>\n",
       "      <th>parking</th>\n",
       "      <th>furnished_status</th>\n",
       "      <th>lift</th>\n",
       "      <th>type_of_building_Flat</th>\n",
       "      <th>type_of_building_Individual House</th>\n",
       "    </tr>\n",
       "  </thead>\n",
       "  <tbody>\n",
       "    <tr>\n",
       "      <th>0</th>\n",
       "      <td>629.0</td>\n",
       "      <td>19.032800</td>\n",
       "      <td>72.896357</td>\n",
       "      <td>2</td>\n",
       "      <td>2</td>\n",
       "      <td>0</td>\n",
       "      <td>False</td>\n",
       "      <td>True</td>\n",
       "      <td>0</td>\n",
       "      <td>0.0</td>\n",
       "      <td>0</td>\n",
       "      <td>True</td>\n",
       "      <td>False</td>\n",
       "    </tr>\n",
       "    <tr>\n",
       "      <th>1</th>\n",
       "      <td>974.0</td>\n",
       "      <td>19.032800</td>\n",
       "      <td>72.896357</td>\n",
       "      <td>3</td>\n",
       "      <td>2</td>\n",
       "      <td>0</td>\n",
       "      <td>False</td>\n",
       "      <td>True</td>\n",
       "      <td>0</td>\n",
       "      <td>0.0</td>\n",
       "      <td>0</td>\n",
       "      <td>True</td>\n",
       "      <td>False</td>\n",
       "    </tr>\n",
       "    <tr>\n",
       "      <th>2</th>\n",
       "      <td>968.0</td>\n",
       "      <td>19.085600</td>\n",
       "      <td>72.909277</td>\n",
       "      <td>3</td>\n",
       "      <td>3</td>\n",
       "      <td>0</td>\n",
       "      <td>False</td>\n",
       "      <td>True</td>\n",
       "      <td>0</td>\n",
       "      <td>0.0</td>\n",
       "      <td>0</td>\n",
       "      <td>True</td>\n",
       "      <td>False</td>\n",
       "    </tr>\n",
       "    <tr>\n",
       "      <th>3</th>\n",
       "      <td>629.0</td>\n",
       "      <td>19.155756</td>\n",
       "      <td>72.846862</td>\n",
       "      <td>2</td>\n",
       "      <td>2</td>\n",
       "      <td>2</td>\n",
       "      <td>True</td>\n",
       "      <td>True</td>\n",
       "      <td>2</td>\n",
       "      <td>0.0</td>\n",
       "      <td>2</td>\n",
       "      <td>True</td>\n",
       "      <td>False</td>\n",
       "    </tr>\n",
       "    <tr>\n",
       "      <th>4</th>\n",
       "      <td>1090.0</td>\n",
       "      <td>19.177555</td>\n",
       "      <td>72.849887</td>\n",
       "      <td>2</td>\n",
       "      <td>2</td>\n",
       "      <td>0</td>\n",
       "      <td>True</td>\n",
       "      <td>True</td>\n",
       "      <td>0</td>\n",
       "      <td>0.0</td>\n",
       "      <td>0</td>\n",
       "      <td>True</td>\n",
       "      <td>False</td>\n",
       "    </tr>\n",
       "    <tr>\n",
       "      <th>...</th>\n",
       "      <td>...</td>\n",
       "      <td>...</td>\n",
       "      <td>...</td>\n",
       "      <td>...</td>\n",
       "      <td>...</td>\n",
       "      <td>...</td>\n",
       "      <td>...</td>\n",
       "      <td>...</td>\n",
       "      <td>...</td>\n",
       "      <td>...</td>\n",
       "      <td>...</td>\n",
       "      <td>...</td>\n",
       "      <td>...</td>\n",
       "    </tr>\n",
       "    <tr>\n",
       "      <th>6232</th>\n",
       "      <td>810.0</td>\n",
       "      <td>19.138320</td>\n",
       "      <td>72.810020</td>\n",
       "      <td>2</td>\n",
       "      <td>2</td>\n",
       "      <td>0</td>\n",
       "      <td>True</td>\n",
       "      <td>False</td>\n",
       "      <td>0</td>\n",
       "      <td>0.5</td>\n",
       "      <td>0</td>\n",
       "      <td>True</td>\n",
       "      <td>False</td>\n",
       "    </tr>\n",
       "    <tr>\n",
       "      <th>6233</th>\n",
       "      <td>1400.0</td>\n",
       "      <td>19.221920</td>\n",
       "      <td>72.854250</td>\n",
       "      <td>3</td>\n",
       "      <td>3</td>\n",
       "      <td>1</td>\n",
       "      <td>True</td>\n",
       "      <td>False</td>\n",
       "      <td>1</td>\n",
       "      <td>0.0</td>\n",
       "      <td>1</td>\n",
       "      <td>True</td>\n",
       "      <td>False</td>\n",
       "    </tr>\n",
       "    <tr>\n",
       "      <th>6234</th>\n",
       "      <td>750.0</td>\n",
       "      <td>19.144320</td>\n",
       "      <td>72.824111</td>\n",
       "      <td>2</td>\n",
       "      <td>2</td>\n",
       "      <td>0</td>\n",
       "      <td>True</td>\n",
       "      <td>False</td>\n",
       "      <td>0</td>\n",
       "      <td>0.0</td>\n",
       "      <td>0</td>\n",
       "      <td>True</td>\n",
       "      <td>False</td>\n",
       "    </tr>\n",
       "    <tr>\n",
       "      <th>6235</th>\n",
       "      <td>700.0</td>\n",
       "      <td>19.047201</td>\n",
       "      <td>72.872225</td>\n",
       "      <td>2</td>\n",
       "      <td>2</td>\n",
       "      <td>0</td>\n",
       "      <td>True</td>\n",
       "      <td>False</td>\n",
       "      <td>0</td>\n",
       "      <td>1.0</td>\n",
       "      <td>0</td>\n",
       "      <td>True</td>\n",
       "      <td>False</td>\n",
       "    </tr>\n",
       "    <tr>\n",
       "      <th>6236</th>\n",
       "      <td>900.0</td>\n",
       "      <td>19.168818</td>\n",
       "      <td>72.936375</td>\n",
       "      <td>2</td>\n",
       "      <td>2</td>\n",
       "      <td>0</td>\n",
       "      <td>True</td>\n",
       "      <td>False</td>\n",
       "      <td>0</td>\n",
       "      <td>0.0</td>\n",
       "      <td>0</td>\n",
       "      <td>True</td>\n",
       "      <td>False</td>\n",
       "    </tr>\n",
       "  </tbody>\n",
       "</table>\n",
       "<p>5524 rows × 13 columns</p>\n",
       "</div>"
      ],
      "text/plain": [
       "        area   latitude  longitude  bedrooms  bathrooms  balcony  status  \\\n",
       "0      629.0  19.032800  72.896357         2          2        0   False   \n",
       "1      974.0  19.032800  72.896357         3          2        0   False   \n",
       "2      968.0  19.085600  72.909277         3          3        0   False   \n",
       "3      629.0  19.155756  72.846862         2          2        2    True   \n",
       "4     1090.0  19.177555  72.849887         2          2        0    True   \n",
       "...      ...        ...        ...       ...        ...      ...     ...   \n",
       "6232   810.0  19.138320  72.810020         2          2        0    True   \n",
       "6233  1400.0  19.221920  72.854250         3          3        1    True   \n",
       "6234   750.0  19.144320  72.824111         2          2        0    True   \n",
       "6235   700.0  19.047201  72.872225         2          2        0    True   \n",
       "6236   900.0  19.168818  72.936375         2          2        0    True   \n",
       "\n",
       "      neworold  parking  furnished_status  lift  type_of_building_Flat  \\\n",
       "0         True        0               0.0     0                   True   \n",
       "1         True        0               0.0     0                   True   \n",
       "2         True        0               0.0     0                   True   \n",
       "3         True        2               0.0     2                   True   \n",
       "4         True        0               0.0     0                   True   \n",
       "...        ...      ...               ...   ...                    ...   \n",
       "6232     False        0               0.5     0                   True   \n",
       "6233     False        1               0.0     1                   True   \n",
       "6234     False        0               0.0     0                   True   \n",
       "6235     False        0               1.0     0                   True   \n",
       "6236     False        0               0.0     0                   True   \n",
       "\n",
       "      type_of_building_Individual House  \n",
       "0                                 False  \n",
       "1                                 False  \n",
       "2                                 False  \n",
       "3                                 False  \n",
       "4                                 False  \n",
       "...                                 ...  \n",
       "6232                              False  \n",
       "6233                              False  \n",
       "6234                              False  \n",
       "6235                              False  \n",
       "6236                              False  \n",
       "\n",
       "[5524 rows x 13 columns]"
      ]
     },
     "execution_count": 78,
     "metadata": {},
     "output_type": "execute_result"
    }
   ],
   "source": [
    "X"
   ]
  },
  {
   "cell_type": "code",
   "execution_count": 79,
   "metadata": {},
   "outputs": [],
   "source": [
    "from sklearn.model_selection import train_test_split\n",
    "\n",
    "X_train, X_test, y_train, y_test = train_test_split(X, y, test_size=0.2) \n"
   ]
  },
  {
   "cell_type": "markdown",
   "metadata": {},
   "source": [
    "<font color=darkviolet size=5>\n",
    "Simple Linear Regression"
   ]
  },
  {
   "cell_type": "code",
   "execution_count": 106,
   "metadata": {},
   "outputs": [],
   "source": [
    "pipeline = Pipeline(\n",
    "    [\n",
    "        # ('minmaxscaler', MinMaxScaler()),\n",
    "        ('stdscaler', StandardScaler()),\n",
    "        ('model', LinearRegression()),\n",
    "    ]\n",
    ")\n",
    "\n",
    "x_simple_train = X_train['area'].values.reshape(-1,1)\n",
    "x_simple_test = X_test['area'].values.reshape(-1,1)\n"
   ]
  },
  {
   "cell_type": "code",
   "execution_count": 107,
   "metadata": {},
   "outputs": [],
   "source": [
    "import numpy as np\n"
   ]
  },
  {
   "cell_type": "markdown",
   "metadata": {},
   "source": [
    "*Без регуляризации*"
   ]
  },
  {
   "cell_type": "code",
   "execution_count": 108,
   "metadata": {},
   "outputs": [],
   "source": [
    "lr = pipeline.fit(x_simple_train, y_train)\n"
   ]
  },
  {
   "cell_type": "code",
   "execution_count": 109,
   "metadata": {},
   "outputs": [
    {
     "data": {
      "text/plain": [
       "<Axes: ylabel='price'>"
      ]
     },
     "execution_count": 109,
     "metadata": {},
     "output_type": "execute_result"
    },
    {
     "data": {
      "image/png": "[encoded data removed]",
      "text/plain": [
       "<Figure size 640x480 with 1 Axes>"
      ]
     },
     "metadata": {},
     "output_type": "display_data"
    }
   ],
   "source": [
    "sns.regplot(x = x_simple_train, y = y_train)"
   ]
  },
  {
   "cell_type": "code",
   "execution_count": 110,
   "metadata": {},
   "outputs": [],
   "source": [
    "# получаем предсказания для тестовой выборки\n",
    "y_pred = lr.predict(x_simple_test)"
   ]
  },
  {
   "cell_type": "code",
   "execution_count": 111,
   "metadata": {},
   "outputs": [
    {
     "name": "stdout",
     "output_type": "stream",
     "text": [
      "MAE: 7339662.130032747\n",
      "MSE: 93276602512048.05\n",
      "RMSE: 9657981.285550725\n",
      "MAPE: 0.7596025445975468\n",
      "R^2: 0.22364840436492828\n"
     ]
    }
   ],
   "source": [
    "print(f'MAE: {mean_absolute_error(y_test, y_pred)}')\n",
    "print(f'MSE: {mean_squared_error(y_test, y_pred)}')\n",
    "print(f'RMSE: {sqrt(mean_squared_error(y_test, y_pred))}')\n",
    "print(f'MAPE: {sqrt(mean_absolute_percentage_error(y_test, y_pred))}')\n",
    "print(f'R^2: {lr.score(x_simple_test, y_test)}')"
   ]
  },
  {
   "cell_type": "markdown",
   "metadata": {},
   "source": [
    "*С регуляризацией*"
   ]
  },
  {
   "cell_type": "code",
   "execution_count": 112,
   "metadata": {},
   "outputs": [
    {
     "data": {
      "text/plain": [
       "0.9"
      ]
     },
     "execution_count": 112,
     "metadata": {},
     "output_type": "execute_result"
    }
   ],
   "source": [
    "pipeline = Pipeline(\n",
    "    [\n",
    "        (\"scaler\", MinMaxScaler()),\n",
    "        (\"model\", Lasso()),\n",
    "    ]\n",
    ")\n",
    "\n",
    "param_grid = {\n",
    "    \"model__alpha\": np.arange(0.1, 1, 0.1)\n",
    "}\n",
    "\n",
    "gridsearch = GridSearchCV(pipeline, param_grid, scoring=\"r2\")\n",
    "gridsearch.fit(x_simple_train, y_train)\n",
    "best_params = gridsearch.best_params_\n",
    "best_params[\"model__alpha\"]\n"
   ]
  },
  {
   "cell_type": "markdown",
   "metadata": {},
   "source": [
    "Я так понимаю, что не важно, скейлим мы наши данные или нет, результат тот же? Неправильно понимаешь, результат не тот же, частный случай не о многом говорит"
   ]
  },
  {
   "cell_type": "code",
   "execution_count": 113,
   "metadata": {},
   "outputs": [
    {
     "data": {
      "text/plain": [
       "{'alpha': 0.9}"
      ]
     },
     "execution_count": 113,
     "metadata": {},
     "output_type": "execute_result"
    }
   ],
   "source": [
    "ridge_optimal = GridSearchCV(Ridge(), {'alpha': np.arange(0, 1, 0.1)} ).fit(x_simple_train, y_train)\n",
    "# выводим оптимальные значения параметров\n",
    "ridge_optimal.best_params_"
   ]
  },
  {
   "cell_type": "code",
   "execution_count": 114,
   "metadata": {},
   "outputs": [
    {
     "name": "stdout",
     "output_type": "stream",
     "text": [
      "MAE: 7339662.12956436\n",
      "MSE: 93276602504392.98\n",
      "RMSE: 9657981.285154417\n",
      "MAPE: 0.759602544674349\n",
      "R^2: 0.2236484044286423\n",
      "\n",
      "коэфф: [19356.80305153]\n",
      "пересеч: 18033.57863171771\n"
     ]
    }
   ],
   "source": [
    "# L1\n",
    "ridge = Ridge(alpha= best_params[\"model__alpha\"]).fit(x_simple_train, y_train)\n",
    "y_pred = ridge.predict(x_simple_test)\n",
    "print(f'MAE: {mean_absolute_error(y_test, y_pred)}')\n",
    "print(f'MSE: {mean_squared_error(y_test, y_pred)}')\n",
    "print(f'RMSE: {sqrt(mean_squared_error(y_test, y_pred))}')\n",
    "print(f'MAPE: {sqrt(mean_absolute_percentage_error(y_test, y_pred))}')\n",
    "print(f'R^2: {ridge.score(x_simple_test, y_test)}')\n",
    "print()\n",
    "print(f'коэфф: {ridge.coef_}')\n",
    "print(f'пересеч: {ridge.intercept_}')"
   ]
  },
  {
   "cell_type": "code",
   "execution_count": 115,
   "metadata": {},
   "outputs": [
    {
     "name": "stdout",
     "output_type": "stream",
     "text": [
      "MAE: 7339662.129925818\n",
      "MSE: 93276602510300.44\n",
      "RMSE: 9657981.28546025\n",
      "MAPE: 0.7596025446150801\n",
      "R^2: 0.2236484044286423\n",
      "коэфф: [19356.80305153]\n",
      "пересеч: 18033.57863171771\n"
     ]
    }
   ],
   "source": [
    "# L2\n",
    "lasso = Lasso(alpha= best_params[\"model__alpha\"]).fit(x_simple_train, y_train)\n",
    "\n",
    "y_pred = lasso.predict(x_simple_test)\n",
    "\n",
    "print(f'MAE: {mean_absolute_error(y_test, y_pred)}')\n",
    "print(f'MSE: {mean_squared_error(y_test, y_pred)}')\n",
    "print(f'RMSE: {sqrt(mean_squared_error(y_test, y_pred))}')\n",
    "print(f'MAPE: {sqrt(mean_absolute_percentage_error(y_test, y_pred))}')\n",
    "print(f'R^2: {ridge.score(x_simple_test, y_test)}')\n",
    "print(f'коэфф: {ridge.coef_}')\n",
    "print(f'пересеч: {ridge.intercept_}')"
   ]
  },
  {
   "cell_type": "markdown",
   "metadata": {},
   "source": [
    "<b><font color=green size = 5>**Множественная линейная регрессия**"
   ]
  },
  {
   "cell_type": "markdown",
   "metadata": {},
   "source": [
    "(При каждом новом способе решения задачи линейной регресси же нужно заново разбивать выборку на тестовую и обучающуюся как ниже же? Хоть у нас X_train будет другой y_train будет после линейной простой регрессии, т.е. не в начальной форме, то есть уже \"подогнанный\"? \n",
    "\n",
    "Ибо я заметил, что не обнуляя данные r2 имеет чуть больший результат)"
   ]
  },
  {
   "cell_type": "code",
   "execution_count": 116,
   "metadata": {},
   "outputs": [
    {
     "data": {
      "text/html": [
       "<style>#sk-container-id-3 {color: black;}#sk-container-id-3 pre{padding: 0;}#sk-container-id-3 div.sk-toggleable {background-color: white;}#sk-container-id-3 label.sk-toggleable__label {cursor: pointer;display: block;width: 100%;margin-bottom: 0;padding: 0.3em;box-sizing: border-box;text-align: center;}#sk-container-id-3 label.sk-toggleable__label-arrow:before {content: \"▸\";float: left;margin-right: 0.25em;color: #696969;}#sk-container-id-3 label.sk-toggleable__label-arrow:hover:before {color: black;}#sk-container-id-3 div.sk-estimator:hover label.sk-toggleable__label-arrow:before {color: black;}#sk-container-id-3 div.sk-toggleable__content {max-height: 0;max-width: 0;overflow: hidden;text-align: left;background-color: #f0f8ff;}#sk-container-id-3 div.sk-toggleable__content pre {margin: 0.2em;color: black;border-radius: 0.25em;background-color: #f0f8ff;}#sk-container-id-3 input.sk-toggleable__control:checked~div.sk-toggleable__content {max-height: 200px;max-width: 100%;overflow: auto;}#sk-container-id-3 input.sk-toggleable__control:checked~label.sk-toggleable__label-arrow:before {content: \"▾\";}#sk-container-id-3 div.sk-estimator input.sk-toggleable__control:checked~label.sk-toggleable__label {background-color: #d4ebff;}#sk-container-id-3 div.sk-label input.sk-toggleable__control:checked~label.sk-toggleable__label {background-color: #d4ebff;}#sk-container-id-3 input.sk-hidden--visually {border: 0;clip: rect(1px 1px 1px 1px);clip: rect(1px, 1px, 1px, 1px);height: 1px;margin: -1px;overflow: hidden;padding: 0;position: absolute;width: 1px;}#sk-container-id-3 div.sk-estimator {font-family: monospace;background-color: #f0f8ff;border: 1px dotted black;border-radius: 0.25em;box-sizing: border-box;margin-bottom: 0.5em;}#sk-container-id-3 div.sk-estimator:hover {background-color: #d4ebff;}#sk-container-id-3 div.sk-parallel-item::after {content: \"\";width: 100%;border-bottom: 1px solid gray;flex-grow: 1;}#sk-container-id-3 div.sk-label:hover label.sk-toggleable__label {background-color: #d4ebff;}#sk-container-id-3 div.sk-serial::before {content: \"\";position: absolute;border-left: 1px solid gray;box-sizing: border-box;top: 0;bottom: 0;left: 50%;z-index: 0;}#sk-container-id-3 div.sk-serial {display: flex;flex-direction: column;align-items: center;background-color: white;padding-right: 0.2em;padding-left: 0.2em;position: relative;}#sk-container-id-3 div.sk-item {position: relative;z-index: 1;}#sk-container-id-3 div.sk-parallel {display: flex;align-items: stretch;justify-content: center;background-color: white;position: relative;}#sk-container-id-3 div.sk-item::before, #sk-container-id-3 div.sk-parallel-item::before {content: \"\";position: absolute;border-left: 1px solid gray;box-sizing: border-box;top: 0;bottom: 0;left: 50%;z-index: -1;}#sk-container-id-3 div.sk-parallel-item {display: flex;flex-direction: column;z-index: 1;position: relative;background-color: white;}#sk-container-id-3 div.sk-parallel-item:first-child::after {align-self: flex-end;width: 50%;}#sk-container-id-3 div.sk-parallel-item:last-child::after {align-self: flex-start;width: 50%;}#sk-container-id-3 div.sk-parallel-item:only-child::after {width: 0;}#sk-container-id-3 div.sk-dashed-wrapped {border: 1px dashed gray;margin: 0 0.4em 0.5em 0.4em;box-sizing: border-box;padding-bottom: 0.4em;background-color: white;}#sk-container-id-3 div.sk-label label {font-family: monospace;font-weight: bold;display: inline-block;line-height: 1.2em;}#sk-container-id-3 div.sk-label-container {text-align: center;}#sk-container-id-3 div.sk-container {/* jupyter's `normalize.less` sets `[hidden] { display: none; }` but bootstrap.min.css set `[hidden] { display: none !important; }` so we also need the `!important` here to be able to override the default hidden behavior on the sphinx rendered scikit-learn.org. See: https://github.com/scikit-learn/scikit-learn/issues/21755 */display: inline-block !important;position: relative;}#sk-container-id-3 div.sk-text-repr-fallback {display: none;}</style><div id=\"sk-container-id-3\" class=\"sk-top-container\"><div class=\"sk-text-repr-fallback\"><pre>Pipeline(steps=[(&#x27;scaler&#x27;, MinMaxScaler()), (&#x27;model&#x27;, LinearRegression())])</pre><b>In a Jupyter environment, please rerun this cell to show the HTML representation or trust the notebook. <br />On GitHub, the HTML representation is unable to render, please try loading this page with nbviewer.org.</b></div><div class=\"sk-container\" hidden><div class=\"sk-item sk-dashed-wrapped\"><div class=\"sk-label-container\"><div class=\"sk-label sk-toggleable\"><input class=\"sk-toggleable__control sk-hidden--visually\" id=\"sk-estimator-id-7\" type=\"checkbox\" ><label for=\"sk-estimator-id-7\" class=\"sk-toggleable__label sk-toggleable__label-arrow\">Pipeline</label><div class=\"sk-toggleable__content\"><pre>Pipeline(steps=[(&#x27;scaler&#x27;, MinMaxScaler()), (&#x27;model&#x27;, LinearRegression())])</pre></div></div></div><div class=\"sk-serial\"><div class=\"sk-item\"><div class=\"sk-estimator sk-toggleable\"><input class=\"sk-toggleable__control sk-hidden--visually\" id=\"sk-estimator-id-8\" type=\"checkbox\" ><label for=\"sk-estimator-id-8\" class=\"sk-toggleable__label sk-toggleable__label-arrow\">MinMaxScaler</label><div class=\"sk-toggleable__content\"><pre>MinMaxScaler()</pre></div></div></div><div class=\"sk-item\"><div class=\"sk-estimator sk-toggleable\"><input class=\"sk-toggleable__control sk-hidden--visually\" id=\"sk-estimator-id-9\" type=\"checkbox\" ><label for=\"sk-estimator-id-9\" class=\"sk-toggleable__label sk-toggleable__label-arrow\">LinearRegression</label><div class=\"sk-toggleable__content\"><pre>LinearRegression()</pre></div></div></div></div></div></div></div>"
      ],
      "text/plain": [
       "Pipeline(steps=[('scaler', MinMaxScaler()), ('model', LinearRegression())])"
      ]
     },
     "execution_count": 116,
     "metadata": {},
     "output_type": "execute_result"
    }
   ],
   "source": [
    "X_train, X_test, y_train, y_test = train_test_split(X, y, test_size=0.2)\n",
    "pipeline = Pipeline(\n",
    "    [\n",
    "        (\"scaler\", MinMaxScaler()),\n",
    "        (\"model\", LinearRegression()),\n",
    "    ]\n",
    ")\n",
    "\n",
    "pipeline.fit(X_train, y_train)"
   ]
  },
  {
   "cell_type": "code",
   "execution_count": 117,
   "metadata": {},
   "outputs": [
    {
     "data": {
      "text/plain": [
       "array([ 1.85081804e+07, -3.46493897e+07, -1.94511985e+07,  9.58669596e+06,\n",
       "        2.26131515e+07, -4.84502223e+19, -5.91727920e+06,  5.79911549e+05,\n",
       "        1.12777766e+20,  9.38723825e+05, -6.43275441e+19, -1.21673690e+18,\n",
       "       -1.21673690e+18])"
      ]
     },
     "execution_count": 117,
     "metadata": {},
     "output_type": "execute_result"
    }
   ],
   "source": [
    "pipeline.named_steps[\"model\"].coef_"
   ]
  },
  {
   "cell_type": "code",
   "execution_count": 118,
   "metadata": {},
   "outputs": [
    {
     "name": "stdout",
     "output_type": "stream",
     "text": [
      "MAE: 4598116.459728506\n",
      "MSE: 41037839372036.4\n",
      "RMSE: 6406078.314541307\n",
      "MAPE: 0.30224114423630455\n",
      "R^2: 0.6599486220497551\n"
     ]
    }
   ],
   "source": [
    "y_pred = pipeline.predict(X_test)\n",
    "\n",
    "print(f'MAE: {mean_absolute_error(y_test, y_pred)}')\n",
    "print(f'MSE: {mean_squared_error(y_test, y_pred)}')\n",
    "print(f'RMSE: {sqrt(mean_squared_error(y_test, y_pred))}')\n",
    "print(f'MAPE: {mean_absolute_percentage_error(y_test, y_pred)}')\n",
    "print(f'R^2: {pipeline.score(X_test, y_test)}')"
   ]
  },
  {
   "cell_type": "code",
   "execution_count": 119,
   "metadata": {},
   "outputs": [
    {
     "name": "stderr",
     "output_type": "stream",
     "text": [
      "/tmp/ipykernel_13162/1760691979.py:3: UserWarning: \n",
      "\n",
      "`distplot` is a deprecated function and will be removed in seaborn v0.14.0.\n",
      "\n",
      "Please adapt your code to use either `displot` (a figure-level function with\n",
      "similar flexibility) or `kdeplot` (an axes-level function for kernel density plots).\n",
      "\n",
      "For a guide to updating your code to use the new functions, please see\n",
      "https://gist.github.com/mwaskom/de44147ed2974457ad6372750bbe5751\n",
      "\n",
      "  ax1 =  sns.distplot(y_test, hist=False, color='Red', label='Actual price')\n",
      "/home/timofey/.local/lib/python3.10/site-packages/seaborn/_oldcore.py:1498: FutureWarning: is_categorical_dtype is deprecated and will be removed in a future version. Use isinstance(dtype, CategoricalDtype) instead\n",
      "  if pd.api.types.is_categorical_dtype(vector):\n",
      "/home/timofey/.local/lib/python3.10/site-packages/seaborn/_oldcore.py:1119: FutureWarning: use_inf_as_na option is deprecated and will be removed in a future version. Convert inf values to NaN before operating instead.\n",
      "  with pd.option_context('mode.use_inf_as_na', True):\n",
      "/tmp/ipykernel_13162/1760691979.py:4: UserWarning: \n",
      "\n",
      "`distplot` is a deprecated function and will be removed in seaborn v0.14.0.\n",
      "\n",
      "Please adapt your code to use either `displot` (a figure-level function with\n",
      "similar flexibility) or `kdeplot` (an axes-level function for kernel density plots).\n",
      "\n",
      "For a guide to updating your code to use the new functions, please see\n",
      "https://gist.github.com/mwaskom/de44147ed2974457ad6372750bbe5751\n",
      "\n",
      "  sns.distplot(y_pred, hist=False, color='Blue', ax=ax1, label='Predicted price')\n",
      "/home/timofey/.local/lib/python3.10/site-packages/seaborn/_oldcore.py:1498: FutureWarning: is_categorical_dtype is deprecated and will be removed in a future version. Use isinstance(dtype, CategoricalDtype) instead\n",
      "  if pd.api.types.is_categorical_dtype(vector):\n",
      "/home/timofey/.local/lib/python3.10/site-packages/seaborn/_oldcore.py:1119: FutureWarning: use_inf_as_na option is deprecated and will be removed in a future version. Convert inf values to NaN before operating instead.\n",
      "  with pd.option_context('mode.use_inf_as_na', True):\n"
     ]
    },
    {
     "data": {
      "text/plain": [
       "<Axes: xlabel='price', ylabel='Density'>"
      ]
     },
     "execution_count": 119,
     "metadata": {},
     "output_type": "execute_result"
    },
    {
     "data": {
      "image/png": "[encoded data removed]",
      "text/plain": [
       "<Figure size 800x600 with 1 Axes>"
      ]
     },
     "metadata": {},
     "output_type": "display_data"
    }
   ],
   "source": [
    "\n",
    "plt.figure(figsize=(8,6))\n",
    "\n",
    "ax1 =  sns.distplot(y_test, hist=False, color='Red', label='Actual price')\n",
    "sns.distplot(y_pred, hist=False, color='Blue', ax=ax1, label='Predicted price')"
   ]
  },
  {
   "cell_type": "markdown",
   "metadata": {},
   "source": [
    "Очень неплохая аппроксимация вышла"
   ]
  },
  {
   "cell_type": "markdown",
   "metadata": {},
   "source": [
    "(результат со старой y_train)"
   ]
  },
  {
   "cell_type": "code",
   "execution_count": 120,
   "metadata": {},
   "outputs": [
    {
     "name": "stdout",
     "output_type": "stream",
     "text": [
      "MAE: 4598116.459728506\n",
      "MSE: 41037839372036.4\n",
      "RMSE: 6406078.314541307\n",
      "MAPE: 0.30224114423630455\n",
      "R^2: 0.6599486220497551\n"
     ]
    }
   ],
   "source": [
    "y_pred = pipeline.predict(X_test)\n",
    "\n",
    "print(f'MAE: {mean_absolute_error(y_test, y_pred)}')\n",
    "print(f'MSE: {mean_squared_error(y_test, y_pred)}')\n",
    "print(f'RMSE: {sqrt(mean_squared_error(y_test, y_pred))}')\n",
    "print(f'MAPE: {mean_absolute_percentage_error(y_test, y_pred)}')\n",
    "print(f'R^2: {pipeline.score(X_test, y_test)}')"
   ]
  },
  {
   "cell_type": "markdown",
   "metadata": {},
   "source": [
    "**Ridge**"
   ]
  },
  {
   "cell_type": "code",
   "execution_count": 121,
   "metadata": {},
   "outputs": [
    {
     "data": {
      "text/plain": [
       "{'model__alpha': 0.4}"
      ]
     },
     "execution_count": 121,
     "metadata": {},
     "output_type": "execute_result"
    }
   ],
   "source": [
    "pipeline = Pipeline(\n",
    "    [\n",
    "        (\"scaler\", MinMaxScaler()),\n",
    "        (\"model\", Ridge()),\n",
    "    ]\n",
    ")\n",
    "\n",
    "param_grid = {\n",
    "    \"model__alpha\": np.arange(0.1, 1, 0.1)\n",
    "}\n",
    "\n",
    "gridsearch = GridSearchCV(pipeline, param_grid, scoring=\"r2\")\n",
    "gridsearch.fit(X_train, y_train)\n",
    "best_params = gridsearch.best_params_\n",
    "best_params"
   ]
  },
  {
   "cell_type": "code",
   "execution_count": 122,
   "metadata": {},
   "outputs": [
    {
     "name": "stdout",
     "output_type": "stream",
     "text": [
      "MAE: 9771690.705101026\n",
      "MSE: 154045610692208.0\n",
      "RMSE: 12411511.217100358\n",
      "MAPE: 0.8728634842869383\n",
      "R^2: -0.27646637797327367\n",
      "\n",
      "коэфф: [19356.80305153]\n",
      "пересеч: 18033.57863171771\n"
     ]
    }
   ],
   "source": [
    "# L1\n",
    "pipeline.set_params(**best_params).fit(X_train, y_train)\n",
    "y_pred = ridge.predict(x_simple_test)\n",
    "print(f'MAE: {mean_absolute_error(y_test, y_pred)}')\n",
    "print(f'MSE: {mean_squared_error(y_test, y_pred)}')\n",
    "print(f'RMSE: {sqrt(mean_squared_error(y_test, y_pred))}')\n",
    "print(f'MAPE: {sqrt(mean_absolute_percentage_error(y_test, y_pred))}')\n",
    "print(f'R^2: {ridge.score(x_simple_test, y_test)}')\n",
    "print()\n",
    "print(f'коэфф: {ridge.coef_}')\n",
    "print(f'пересеч: {ridge.intercept_}')"
   ]
  },
  {
   "cell_type": "markdown",
   "metadata": {},
   "source": [
    "**Lasso**"
   ]
  },
  {
   "cell_type": "code",
   "execution_count": 123,
   "metadata": {},
   "outputs": [
    {
     "name": "stderr",
     "output_type": "stream",
     "text": [
      "/home/timofey/.local/lib/python3.10/site-packages/sklearn/linear_model/_coordinate_descent.py:628: ConvergenceWarning: Objective did not converge. You might want to increase the number of iterations, check the scale of the features or consider increasing regularisation. Duality gap: 6.610e+15, tolerance: 4.366e+13\n",
      "  model = cd_fast.enet_coordinate_descent(\n",
      "/home/timofey/.local/lib/python3.10/site-packages/sklearn/linear_model/_coordinate_descent.py:628: ConvergenceWarning: Objective did not converge. You might want to increase the number of iterations, check the scale of the features or consider increasing regularisation. Duality gap: 8.065e+15, tolerance: 4.374e+13\n",
      "  model = cd_fast.enet_coordinate_descent(\n",
      "/home/timofey/.local/lib/python3.10/site-packages/sklearn/linear_model/_coordinate_descent.py:628: ConvergenceWarning: Objective did not converge. You might want to increase the number of iterations, check the scale of the features or consider increasing regularisation. Duality gap: 7.179e+15, tolerance: 4.382e+13\n",
      "  model = cd_fast.enet_coordinate_descent(\n",
      "/home/timofey/.local/lib/python3.10/site-packages/sklearn/linear_model/_coordinate_descent.py:628: ConvergenceWarning: Objective did not converge. You might want to increase the number of iterations, check the scale of the features or consider increasing regularisation. Duality gap: 4.806e+15, tolerance: 4.313e+13\n",
      "  model = cd_fast.enet_coordinate_descent(\n",
      "/home/timofey/.local/lib/python3.10/site-packages/sklearn/linear_model/_coordinate_descent.py:628: ConvergenceWarning: Objective did not converge. You might want to increase the number of iterations, check the scale of the features or consider increasing regularisation. Duality gap: 5.443e+15, tolerance: 4.263e+13\n",
      "  model = cd_fast.enet_coordinate_descent(\n",
      "/home/timofey/.local/lib/python3.10/site-packages/sklearn/linear_model/_coordinate_descent.py:628: ConvergenceWarning: Objective did not converge. You might want to increase the number of iterations, check the scale of the features or consider increasing regularisation. Duality gap: 6.610e+15, tolerance: 4.366e+13\n",
      "  model = cd_fast.enet_coordinate_descent(\n",
      "/home/timofey/.local/lib/python3.10/site-packages/sklearn/linear_model/_coordinate_descent.py:628: ConvergenceWarning: Objective did not converge. You might want to increase the number of iterations, check the scale of the features or consider increasing regularisation. Duality gap: 8.065e+15, tolerance: 4.374e+13\n",
      "  model = cd_fast.enet_coordinate_descent(\n",
      "/home/timofey/.local/lib/python3.10/site-packages/sklearn/linear_model/_coordinate_descent.py:628: ConvergenceWarning: Objective did not converge. You might want to increase the number of iterations, check the scale of the features or consider increasing regularisation. Duality gap: 7.179e+15, tolerance: 4.382e+13\n",
      "  model = cd_fast.enet_coordinate_descent(\n",
      "/home/timofey/.local/lib/python3.10/site-packages/sklearn/linear_model/_coordinate_descent.py:628: ConvergenceWarning: Objective did not converge. You might want to increase the number of iterations, check the scale of the features or consider increasing regularisation. Duality gap: 4.806e+15, tolerance: 4.313e+13\n",
      "  model = cd_fast.enet_coordinate_descent(\n",
      "/home/timofey/.local/lib/python3.10/site-packages/sklearn/linear_model/_coordinate_descent.py:628: ConvergenceWarning: Objective did not converge. You might want to increase the number of iterations, check the scale of the features or consider increasing regularisation. Duality gap: 5.443e+15, tolerance: 4.263e+13\n",
      "  model = cd_fast.enet_coordinate_descent(\n",
      "/home/timofey/.local/lib/python3.10/site-packages/sklearn/linear_model/_coordinate_descent.py:628: ConvergenceWarning: Objective did not converge. You might want to increase the number of iterations, check the scale of the features or consider increasing regularisation. Duality gap: 6.610e+15, tolerance: 4.366e+13\n",
      "  model = cd_fast.enet_coordinate_descent(\n",
      "/home/timofey/.local/lib/python3.10/site-packages/sklearn/linear_model/_coordinate_descent.py:628: ConvergenceWarning: Objective did not converge. You might want to increase the number of iterations, check the scale of the features or consider increasing regularisation. Duality gap: 8.065e+15, tolerance: 4.374e+13\n",
      "  model = cd_fast.enet_coordinate_descent(\n",
      "/home/timofey/.local/lib/python3.10/site-packages/sklearn/linear_model/_coordinate_descent.py:628: ConvergenceWarning: Objective did not converge. You might want to increase the number of iterations, check the scale of the features or consider increasing regularisation. Duality gap: 7.179e+15, tolerance: 4.382e+13\n",
      "  model = cd_fast.enet_coordinate_descent(\n",
      "/home/timofey/.local/lib/python3.10/site-packages/sklearn/linear_model/_coordinate_descent.py:628: ConvergenceWarning: Objective did not converge. You might want to increase the number of iterations, check the scale of the features or consider increasing regularisation. Duality gap: 4.806e+15, tolerance: 4.313e+13\n",
      "  model = cd_fast.enet_coordinate_descent(\n",
      "/home/timofey/.local/lib/python3.10/site-packages/sklearn/linear_model/_coordinate_descent.py:628: ConvergenceWarning: Objective did not converge. You might want to increase the number of iterations, check the scale of the features or consider increasing regularisation. Duality gap: 5.443e+15, tolerance: 4.263e+13\n",
      "  model = cd_fast.enet_coordinate_descent(\n",
      "/home/timofey/.local/lib/python3.10/site-packages/sklearn/linear_model/_coordinate_descent.py:628: ConvergenceWarning: Objective did not converge. You might want to increase the number of iterations, check the scale of the features or consider increasing regularisation. Duality gap: 6.610e+15, tolerance: 4.366e+13\n",
      "  model = cd_fast.enet_coordinate_descent(\n",
      "/home/timofey/.local/lib/python3.10/site-packages/sklearn/linear_model/_coordinate_descent.py:628: ConvergenceWarning: Objective did not converge. You might want to increase the number of iterations, check the scale of the features or consider increasing regularisation. Duality gap: 8.065e+15, tolerance: 4.374e+13\n",
      "  model = cd_fast.enet_coordinate_descent(\n",
      "/home/timofey/.local/lib/python3.10/site-packages/sklearn/linear_model/_coordinate_descent.py:628: ConvergenceWarning: Objective did not converge. You might want to increase the number of iterations, check the scale of the features or consider increasing regularisation. Duality gap: 7.179e+15, tolerance: 4.382e+13\n",
      "  model = cd_fast.enet_coordinate_descent(\n",
      "/home/timofey/.local/lib/python3.10/site-packages/sklearn/linear_model/_coordinate_descent.py:628: ConvergenceWarning: Objective did not converge. You might want to increase the number of iterations, check the scale of the features or consider increasing regularisation. Duality gap: 4.806e+15, tolerance: 4.313e+13\n",
      "  model = cd_fast.enet_coordinate_descent(\n",
      "/home/timofey/.local/lib/python3.10/site-packages/sklearn/linear_model/_coordinate_descent.py:628: ConvergenceWarning: Objective did not converge. You might want to increase the number of iterations, check the scale of the features or consider increasing regularisation. Duality gap: 5.443e+15, tolerance: 4.263e+13\n",
      "  model = cd_fast.enet_coordinate_descent(\n",
      "/home/timofey/.local/lib/python3.10/site-packages/sklearn/linear_model/_coordinate_descent.py:628: ConvergenceWarning: Objective did not converge. You might want to increase the number of iterations, check the scale of the features or consider increasing regularisation. Duality gap: 6.610e+15, tolerance: 4.366e+13\n",
      "  model = cd_fast.enet_coordinate_descent(\n",
      "/home/timofey/.local/lib/python3.10/site-packages/sklearn/linear_model/_coordinate_descent.py:628: ConvergenceWarning: Objective did not converge. You might want to increase the number of iterations, check the scale of the features or consider increasing regularisation. Duality gap: 8.065e+15, tolerance: 4.374e+13\n",
      "  model = cd_fast.enet_coordinate_descent(\n",
      "/home/timofey/.local/lib/python3.10/site-packages/sklearn/linear_model/_coordinate_descent.py:628: ConvergenceWarning: Objective did not converge. You might want to increase the number of iterations, check the scale of the features or consider increasing regularisation. Duality gap: 7.179e+15, tolerance: 4.382e+13\n",
      "  model = cd_fast.enet_coordinate_descent(\n",
      "/home/timofey/.local/lib/python3.10/site-packages/sklearn/linear_model/_coordinate_descent.py:628: ConvergenceWarning: Objective did not converge. You might want to increase the number of iterations, check the scale of the features or consider increasing regularisation. Duality gap: 4.806e+15, tolerance: 4.313e+13\n",
      "  model = cd_fast.enet_coordinate_descent(\n",
      "/home/timofey/.local/lib/python3.10/site-packages/sklearn/linear_model/_coordinate_descent.py:628: ConvergenceWarning: Objective did not converge. You might want to increase the number of iterations, check the scale of the features or consider increasing regularisation. Duality gap: 5.443e+15, tolerance: 4.263e+13\n",
      "  model = cd_fast.enet_coordinate_descent(\n",
      "/home/timofey/.local/lib/python3.10/site-packages/sklearn/linear_model/_coordinate_descent.py:628: ConvergenceWarning: Objective did not converge. You might want to increase the number of iterations, check the scale of the features or consider increasing regularisation. Duality gap: 6.610e+15, tolerance: 4.366e+13\n",
      "  model = cd_fast.enet_coordinate_descent(\n",
      "/home/timofey/.local/lib/python3.10/site-packages/sklearn/linear_model/_coordinate_descent.py:628: ConvergenceWarning: Objective did not converge. You might want to increase the number of iterations, check the scale of the features or consider increasing regularisation. Duality gap: 8.065e+15, tolerance: 4.374e+13\n",
      "  model = cd_fast.enet_coordinate_descent(\n",
      "/home/timofey/.local/lib/python3.10/site-packages/sklearn/linear_model/_coordinate_descent.py:628: ConvergenceWarning: Objective did not converge. You might want to increase the number of iterations, check the scale of the features or consider increasing regularisation. Duality gap: 7.179e+15, tolerance: 4.382e+13\n",
      "  model = cd_fast.enet_coordinate_descent(\n",
      "/home/timofey/.local/lib/python3.10/site-packages/sklearn/linear_model/_coordinate_descent.py:628: ConvergenceWarning: Objective did not converge. You might want to increase the number of iterations, check the scale of the features or consider increasing regularisation. Duality gap: 4.806e+15, tolerance: 4.313e+13\n",
      "  model = cd_fast.enet_coordinate_descent(\n",
      "/home/timofey/.local/lib/python3.10/site-packages/sklearn/linear_model/_coordinate_descent.py:628: ConvergenceWarning: Objective did not converge. You might want to increase the number of iterations, check the scale of the features or consider increasing regularisation. Duality gap: 5.443e+15, tolerance: 4.263e+13\n",
      "  model = cd_fast.enet_coordinate_descent(\n",
      "/home/timofey/.local/lib/python3.10/site-packages/sklearn/linear_model/_coordinate_descent.py:628: ConvergenceWarning: Objective did not converge. You might want to increase the number of iterations, check the scale of the features or consider increasing regularisation. Duality gap: 6.610e+15, tolerance: 4.366e+13\n",
      "  model = cd_fast.enet_coordinate_descent(\n",
      "/home/timofey/.local/lib/python3.10/site-packages/sklearn/linear_model/_coordinate_descent.py:628: ConvergenceWarning: Objective did not converge. You might want to increase the number of iterations, check the scale of the features or consider increasing regularisation. Duality gap: 8.065e+15, tolerance: 4.374e+13\n",
      "  model = cd_fast.enet_coordinate_descent(\n",
      "/home/timofey/.local/lib/python3.10/site-packages/sklearn/linear_model/_coordinate_descent.py:628: ConvergenceWarning: Objective did not converge. You might want to increase the number of iterations, check the scale of the features or consider increasing regularisation. Duality gap: 7.179e+15, tolerance: 4.382e+13\n",
      "  model = cd_fast.enet_coordinate_descent(\n",
      "/home/timofey/.local/lib/python3.10/site-packages/sklearn/linear_model/_coordinate_descent.py:628: ConvergenceWarning: Objective did not converge. You might want to increase the number of iterations, check the scale of the features or consider increasing regularisation. Duality gap: 4.806e+15, tolerance: 4.313e+13\n",
      "  model = cd_fast.enet_coordinate_descent(\n",
      "/home/timofey/.local/lib/python3.10/site-packages/sklearn/linear_model/_coordinate_descent.py:628: ConvergenceWarning: Objective did not converge. You might want to increase the number of iterations, check the scale of the features or consider increasing regularisation. Duality gap: 5.443e+15, tolerance: 4.263e+13\n",
      "  model = cd_fast.enet_coordinate_descent(\n",
      "/home/timofey/.local/lib/python3.10/site-packages/sklearn/linear_model/_coordinate_descent.py:628: ConvergenceWarning: Objective did not converge. You might want to increase the number of iterations, check the scale of the features or consider increasing regularisation. Duality gap: 6.610e+15, tolerance: 4.366e+13\n",
      "  model = cd_fast.enet_coordinate_descent(\n",
      "/home/timofey/.local/lib/python3.10/site-packages/sklearn/linear_model/_coordinate_descent.py:628: ConvergenceWarning: Objective did not converge. You might want to increase the number of iterations, check the scale of the features or consider increasing regularisation. Duality gap: 8.065e+15, tolerance: 4.374e+13\n",
      "  model = cd_fast.enet_coordinate_descent(\n",
      "/home/timofey/.local/lib/python3.10/site-packages/sklearn/linear_model/_coordinate_descent.py:628: ConvergenceWarning: Objective did not converge. You might want to increase the number of iterations, check the scale of the features or consider increasing regularisation. Duality gap: 7.179e+15, tolerance: 4.382e+13\n",
      "  model = cd_fast.enet_coordinate_descent(\n",
      "/home/timofey/.local/lib/python3.10/site-packages/sklearn/linear_model/_coordinate_descent.py:628: ConvergenceWarning: Objective did not converge. You might want to increase the number of iterations, check the scale of the features or consider increasing regularisation. Duality gap: 4.806e+15, tolerance: 4.313e+13\n",
      "  model = cd_fast.enet_coordinate_descent(\n",
      "/home/timofey/.local/lib/python3.10/site-packages/sklearn/linear_model/_coordinate_descent.py:628: ConvergenceWarning: Objective did not converge. You might want to increase the number of iterations, check the scale of the features or consider increasing regularisation. Duality gap: 5.443e+15, tolerance: 4.263e+13\n",
      "  model = cd_fast.enet_coordinate_descent(\n",
      "/home/timofey/.local/lib/python3.10/site-packages/sklearn/linear_model/_coordinate_descent.py:628: ConvergenceWarning: Objective did not converge. You might want to increase the number of iterations, check the scale of the features or consider increasing regularisation. Duality gap: 6.610e+15, tolerance: 4.366e+13\n",
      "  model = cd_fast.enet_coordinate_descent(\n",
      "/home/timofey/.local/lib/python3.10/site-packages/sklearn/linear_model/_coordinate_descent.py:628: ConvergenceWarning: Objective did not converge. You might want to increase the number of iterations, check the scale of the features or consider increasing regularisation. Duality gap: 8.065e+15, tolerance: 4.374e+13\n",
      "  model = cd_fast.enet_coordinate_descent(\n",
      "/home/timofey/.local/lib/python3.10/site-packages/sklearn/linear_model/_coordinate_descent.py:628: ConvergenceWarning: Objective did not converge. You might want to increase the number of iterations, check the scale of the features or consider increasing regularisation. Duality gap: 7.179e+15, tolerance: 4.382e+13\n",
      "  model = cd_fast.enet_coordinate_descent(\n",
      "/home/timofey/.local/lib/python3.10/site-packages/sklearn/linear_model/_coordinate_descent.py:628: ConvergenceWarning: Objective did not converge. You might want to increase the number of iterations, check the scale of the features or consider increasing regularisation. Duality gap: 4.806e+15, tolerance: 4.313e+13\n",
      "  model = cd_fast.enet_coordinate_descent(\n",
      "/home/timofey/.local/lib/python3.10/site-packages/sklearn/linear_model/_coordinate_descent.py:628: ConvergenceWarning: Objective did not converge. You might want to increase the number of iterations, check the scale of the features or consider increasing regularisation. Duality gap: 5.443e+15, tolerance: 4.263e+13\n",
      "  model = cd_fast.enet_coordinate_descent(\n",
      "/home/timofey/.local/lib/python3.10/site-packages/sklearn/linear_model/_coordinate_descent.py:628: ConvergenceWarning: Objective did not converge. You might want to increase the number of iterations, check the scale of the features or consider increasing regularisation. Duality gap: 8.270e+15, tolerance: 5.425e+13\n",
      "  model = cd_fast.enet_coordinate_descent(\n"
     ]
    },
    {
     "data": {
      "text/plain": [
       "{'model__alpha': 0.9}"
      ]
     },
     "execution_count": 123,
     "metadata": {},
     "output_type": "execute_result"
    }
   ],
   "source": [
    "pipeline = Pipeline(\n",
    "    [\n",
    "        (\"scaler\", MinMaxScaler()),\n",
    "        (\"model\", Lasso()),\n",
    "    ]\n",
    ")\n",
    "\n",
    "param_grid = {\n",
    "    \"model__alpha\": np.arange(0.1, 1, 0.1)\n",
    "}\n",
    "\n",
    "gridsearch = GridSearchCV(pipeline, param_grid, scoring=\"r2\")\n",
    "gridsearch.fit(X_train, y_train)\n",
    "best_params = gridsearch.best_params_\n",
    "best_params"
   ]
  },
  {
   "cell_type": "code",
   "execution_count": 125,
   "metadata": {},
   "outputs": [
    {
     "name": "stdout",
     "output_type": "stream",
     "text": [
      "MAE: 9771690.7088136\n",
      "MSE: 154045610811036.5\n",
      "RMSE: 12411511.221887385\n",
      "MAPE: 0.8728634843958686\n",
      "R^2: -0.27646637797327367\n",
      "\n",
      "коэфф: [19356.80305153]\n",
      "пересеч: 18033.57863171771\n"
     ]
    },
    {
     "name": "stderr",
     "output_type": "stream",
     "text": [
      "/home/timofey/.local/lib/python3.10/site-packages/sklearn/linear_model/_coordinate_descent.py:628: ConvergenceWarning: Objective did not converge. You might want to increase the number of iterations, check the scale of the features or consider increasing regularisation. Duality gap: 8.270e+15, tolerance: 5.425e+13\n",
      "  model = cd_fast.enet_coordinate_descent(\n"
     ]
    }
   ],
   "source": [
    "# L2\n",
    "pipeline.set_params(**best_params).fit(X_train, y_train)\n",
    "y_pred = lasso.predict(x_simple_test)\n",
    "\n",
    "print(f'MAE: {mean_absolute_error(y_test, y_pred)}')\n",
    "print(f'MSE: {mean_squared_error(y_test, y_pred)}')\n",
    "print(f'RMSE: {sqrt(mean_squared_error(y_test, y_pred))}')\n",
    "print(f'MAPE: {sqrt(mean_absolute_percentage_error(y_test, y_pred))}')\n",
    "print(f'R^2: {ridge.score(x_simple_test, y_test)}')\n",
    "print()\n",
    "print(f'коэфф: {ridge.coef_}')\n",
    "print(f'пересеч: {ridge.intercept_}')"
   ]
  },
  {
   "cell_type": "markdown",
   "metadata": {},
   "source": [
    "Видим, что регуляризации в обоих случаях ухудшила ситуацию"
   ]
  },
  {
   "cell_type": "markdown",
   "metadata": {},
   "source": [
    " *Попробуем с **ElasticNet()***"
   ]
  },
  {
   "cell_type": "code",
   "execution_count": 126,
   "metadata": {},
   "outputs": [
    {
     "data": {
      "text/plain": [
       "{'model__alpha': 0.1}"
      ]
     },
     "execution_count": 126,
     "metadata": {},
     "output_type": "execute_result"
    }
   ],
   "source": [
    "pipeline = Pipeline(\n",
    "    [\n",
    "        (\"scaler\", MinMaxScaler()),\n",
    "        (\"model\", ElasticNet()),\n",
    "    ]\n",
    ")\n",
    "\n",
    "param_grid = {\n",
    "    \"model__alpha\": np.arange(0.1, 1, 0.1)\n",
    "}\n",
    "\n",
    "gridsearch = GridSearchCV(pipeline, param_grid, scoring=\"r2\")\n",
    "gridsearch.fit(X_train, y_train)\n",
    "best_params = gridsearch.best_params_\n",
    "best_params"
   ]
  },
  {
   "cell_type": "code",
   "execution_count": 127,
   "metadata": {},
   "outputs": [
    {
     "name": "stdout",
     "output_type": "stream",
     "text": [
      "MAE: 9771690.705101026\n",
      "MSE: 154045610692208.0\n",
      "RMSE: 12411511.217100358\n",
      "MAPE: 0.8728634842869383\n",
      "R^2: -0.27646637797327367\n",
      "\n",
      "коэфф: [19356.80305153]\n",
      "пересеч: 18033.57863171771\n"
     ]
    }
   ],
   "source": [
    "# ElasticNet\n",
    "pipeline.set_params(**best_params).fit(X_train, y_train)\n",
    "y_pred = ridge.predict(x_simple_test)\n",
    "\n",
    "print(f'MAE: {mean_absolute_error(y_test, y_pred)}')\n",
    "print(f'MSE: {mean_squared_error(y_test, y_pred)}')\n",
    "print(f'RMSE: {sqrt(mean_squared_error(y_test, y_pred))}')\n",
    "print(f'MAPE: {sqrt(mean_absolute_percentage_error(y_test, y_pred))}')\n",
    "print(f'R^2: {ridge.score(x_simple_test, y_test)}')\n",
    "print()\n",
    "print(f'коэфф: {ridge.coef_}')\n",
    "print(f'пересеч: {ridge.intercept_}')"
   ]
  },
  {
   "cell_type": "markdown",
   "metadata": {},
   "source": [
    "ElasticNet() тоже разочаровал"
   ]
  },
  {
   "cell_type": "markdown",
   "metadata": {},
   "source": [
    "<b><font color= brown size = 5>**Полиномиальная линейная регрессия**"
   ]
  },
  {
   "cell_type": "markdown",
   "metadata": {},
   "source": [
    "(заметил прикол местный, если много раз кликать на разбиение выборки и после смотреть r2 оценку, то можно нарандомить на наилучший результат, это можно объяснить работой параметра shuffle, так?)"
   ]
  },
  {
   "cell_type": "code",
   "execution_count": 178,
   "metadata": {},
   "outputs": [],
   "source": [
    "X_train, X_test, y_train, y_test = train_test_split(X, y, test_size=0.2)\n"
   ]
  },
  {
   "cell_type": "code",
   "execution_count": 179,
   "metadata": {},
   "outputs": [],
   "source": [
    "\n",
    "pipeline = Pipeline(\n",
    "    [\n",
    "        (\"scaler\", StandardScaler()),\n",
    "        (\"polynomial\", PolynomialFeatures(2)),\n",
    "        (\"model\", LinearRegression()),\n",
    "        \n",
    "    ]\n",
    ")"
   ]
  },
  {
   "cell_type": "code",
   "execution_count": 180,
   "metadata": {},
   "outputs": [
    {
     "name": "stdout",
     "output_type": "stream",
     "text": [
      "MAE: 4583370.439819004\n",
      "MSE: 41232669426601.586\n",
      "RMSE: 6421266.96428373\n",
      "MAPE: 0.32056534660467395\n",
      "R^2: 0.6668123122814491\n"
     ]
    }
   ],
   "source": [
    "pipeline.fit(X_train, y_train)\n",
    "y_pred = pipeline.predict(X_test)\n",
    "\n",
    "print(f'MAE: {mean_absolute_error(y_test, y_pred)}')\n",
    "print(f'MSE: {mean_squared_error(y_test, y_pred)}')\n",
    "print(f'RMSE: {sqrt(mean_squared_error(y_test, y_pred))}')\n",
    "print(f'MAPE: {mean_absolute_percentage_error(y_test, y_pred)}')\n",
    "print(f'R^2: {pipeline.score(X_test, y_test)}')\n",
    "\n"
   ]
  },
  {
   "cell_type": "markdown",
   "metadata": {},
   "source": [
    "Среди испытанных степеней полинома 2, 3, 4 и 5 2-ая степень показала наилучший результат. Проиллюстирируем нашу аппроксимацию:"
   ]
  },
  {
   "cell_type": "code",
   "execution_count": 181,
   "metadata": {},
   "outputs": [
    {
     "name": "stderr",
     "output_type": "stream",
     "text": [
      "/tmp/ipykernel_13162/290870963.py:2: UserWarning: \n",
      "\n",
      "`distplot` is a deprecated function and will be removed in seaborn v0.14.0.\n",
      "\n",
      "Please adapt your code to use either `displot` (a figure-level function with\n",
      "similar flexibility) or `kdeplot` (an axes-level function for kernel density plots).\n",
      "\n",
      "For a guide to updating your code to use the new functions, please see\n",
      "https://gist.github.com/mwaskom/de44147ed2974457ad6372750bbe5751\n",
      "\n",
      "  ax2 = sns.distplot(y_test, hist=False, color='Red', label='Actual values')\n",
      "/home/timofey/.local/lib/python3.10/site-packages/seaborn/_oldcore.py:1498: FutureWarning: is_categorical_dtype is deprecated and will be removed in a future version. Use isinstance(dtype, CategoricalDtype) instead\n",
      "  if pd.api.types.is_categorical_dtype(vector):\n",
      "/home/timofey/.local/lib/python3.10/site-packages/seaborn/_oldcore.py:1119: FutureWarning: use_inf_as_na option is deprecated and will be removed in a future version. Convert inf values to NaN before operating instead.\n",
      "  with pd.option_context('mode.use_inf_as_na', True):\n"
     ]
    },
    {
     "name": "stderr",
     "output_type": "stream",
     "text": [
      "/tmp/ipykernel_13162/290870963.py:3: UserWarning: \n",
      "\n",
      "`distplot` is a deprecated function and will be removed in seaborn v0.14.0.\n",
      "\n",
      "Please adapt your code to use either `displot` (a figure-level function with\n",
      "similar flexibility) or `kdeplot` (an axes-level function for kernel density plots).\n",
      "\n",
      "For a guide to updating your code to use the new functions, please see\n",
      "https://gist.github.com/mwaskom/de44147ed2974457ad6372750bbe5751\n",
      "\n",
      "  sns.distplot(y_pred, hist=False, color='Green', label='Predicted values')\n",
      "/home/timofey/.local/lib/python3.10/site-packages/seaborn/_oldcore.py:1498: FutureWarning: is_categorical_dtype is deprecated and will be removed in a future version. Use isinstance(dtype, CategoricalDtype) instead\n",
      "  if pd.api.types.is_categorical_dtype(vector):\n",
      "/home/timofey/.local/lib/python3.10/site-packages/seaborn/_oldcore.py:1119: FutureWarning: use_inf_as_na option is deprecated and will be removed in a future version. Convert inf values to NaN before operating instead.\n",
      "  with pd.option_context('mode.use_inf_as_na', True):\n"
     ]
    },
    {
     "data": {
      "image/png": "[encoded data removed]",
      "text/plain": [
       "<Figure size 1200x1000 with 1 Axes>"
      ]
     },
     "metadata": {},
     "output_type": "display_data"
    }
   ],
   "source": [
    "plt.figure(figsize=(12,10))\n",
    "ax2 = sns.distplot(y_test, hist=False, color='Red', label='Actual values')\n",
    "sns.distplot(y_pred, hist=False, color='Green', label='Predicted values')\n",
    "plt.show()"
   ]
  },
  {
   "cell_type": "markdown",
   "metadata": {},
   "source": [
    "**Ridge**"
   ]
  },
  {
   "cell_type": "code",
   "execution_count": 182,
   "metadata": {},
   "outputs": [
    {
     "name": "stdout",
     "output_type": "stream",
     "text": [
      "MAE: 4583209.256858739\n",
      "MSE: 41233908544647.92\n",
      "RMSE: 6421363.449038523\n",
      "MAPE: 0.32052647897710934\n",
      "R^2: 0.666802299374635\n"
     ]
    }
   ],
   "source": [
    "pipeline = Pipeline(\n",
    "    [\n",
    "        (\"scaler\", StandardScaler()),\n",
    "        (\"polynomial\", PolynomialFeatures(2)),\n",
    "        (\"model\", Ridge()),\n",
    "        \n",
    "    ]\n",
    ")\n",
    "\n",
    "param_grid = {\n",
    "    \"model__alpha\": np.arange(0.1, 1, 0.1)\n",
    "}\n",
    "\n",
    "gridsearch = GridSearchCV(pipeline, param_grid, scoring=\"r2\")\n",
    "gridsearch.fit(X_train, y_train)\n",
    "best_params = gridsearch.best_params_\n",
    "\n",
    "pipeline.set_params(**best_params).fit(X_train, y_train)\n",
    "y_pred = pipeline.predict(X_test)\n",
    "\n",
    "print(f'MAE: {mean_absolute_error(y_test, y_pred)}')\n",
    "print(f'MSE: {mean_squared_error(y_test, y_pred)}')\n",
    "print(f'RMSE: {sqrt(mean_squared_error(y_test, y_pred))}')\n",
    "print(f'MAPE: {mean_absolute_percentage_error(y_test, y_pred)}')\n",
    "print(f'R^2: {pipeline.score(X_test, y_test)}')\n"
   ]
  },
  {
   "cell_type": "markdown",
   "metadata": {},
   "source": [
    "**Lasso**"
   ]
  },
  {
   "cell_type": "code",
   "execution_count": 183,
   "metadata": {},
   "outputs": [
    {
     "name": "stderr",
     "output_type": "stream",
     "text": [
      "/home/timofey/.local/lib/python3.10/site-packages/sklearn/linear_model/_coordinate_descent.py:628: ConvergenceWarning: Objective did not converge. You might want to increase the number of iterations, check the scale of the features or consider increasing regularisation. Duality gap: 7.152e+16, tolerance: 4.388e+13\n",
      "  model = cd_fast.enet_coordinate_descent(\n",
      "/home/timofey/.local/lib/python3.10/site-packages/sklearn/linear_model/_coordinate_descent.py:628: ConvergenceWarning: Objective did not converge. You might want to increase the number of iterations, check the scale of the features or consider increasing regularisation. Duality gap: 7.077e+16, tolerance: 4.174e+13\n",
      "  model = cd_fast.enet_coordinate_descent(\n",
      "/home/timofey/.local/lib/python3.10/site-packages/sklearn/linear_model/_coordinate_descent.py:628: ConvergenceWarning: Objective did not converge. You might want to increase the number of iterations, check the scale of the features or consider increasing regularisation. Duality gap: 7.295e+16, tolerance: 4.323e+13\n",
      "  model = cd_fast.enet_coordinate_descent(\n",
      "/home/timofey/.local/lib/python3.10/site-packages/sklearn/linear_model/_coordinate_descent.py:628: ConvergenceWarning: Objective did not converge. You might want to increase the number of iterations, check the scale of the features or consider increasing regularisation. Duality gap: 7.094e+16, tolerance: 4.337e+13\n",
      "  model = cd_fast.enet_coordinate_descent(\n",
      "/home/timofey/.local/lib/python3.10/site-packages/sklearn/linear_model/_coordinate_descent.py:628: ConvergenceWarning: Objective did not converge. You might want to increase the number of iterations, check the scale of the features or consider increasing regularisation. Duality gap: 7.166e+16, tolerance: 4.332e+13\n",
      "  model = cd_fast.enet_coordinate_descent(\n",
      "/home/timofey/.local/lib/python3.10/site-packages/sklearn/linear_model/_coordinate_descent.py:628: ConvergenceWarning: Objective did not converge. You might want to increase the number of iterations, check the scale of the features or consider increasing regularisation. Duality gap: 7.152e+16, tolerance: 4.388e+13\n",
      "  model = cd_fast.enet_coordinate_descent(\n",
      "/home/timofey/.local/lib/python3.10/site-packages/sklearn/linear_model/_coordinate_descent.py:628: ConvergenceWarning: Objective did not converge. You might want to increase the number of iterations, check the scale of the features or consider increasing regularisation. Duality gap: 7.077e+16, tolerance: 4.174e+13\n",
      "  model = cd_fast.enet_coordinate_descent(\n",
      "/home/timofey/.local/lib/python3.10/site-packages/sklearn/linear_model/_coordinate_descent.py:628: ConvergenceWarning: Objective did not converge. You might want to increase the number of iterations, check the scale of the features or consider increasing regularisation. Duality gap: 7.295e+16, tolerance: 4.323e+13\n",
      "  model = cd_fast.enet_coordinate_descent(\n",
      "/home/timofey/.local/lib/python3.10/site-packages/sklearn/linear_model/_coordinate_descent.py:628: ConvergenceWarning: Objective did not converge. You might want to increase the number of iterations, check the scale of the features or consider increasing regularisation. Duality gap: 7.094e+16, tolerance: 4.337e+13\n",
      "  model = cd_fast.enet_coordinate_descent(\n",
      "/home/timofey/.local/lib/python3.10/site-packages/sklearn/linear_model/_coordinate_descent.py:628: ConvergenceWarning: Objective did not converge. You might want to increase the number of iterations, check the scale of the features or consider increasing regularisation. Duality gap: 7.166e+16, tolerance: 4.332e+13\n",
      "  model = cd_fast.enet_coordinate_descent(\n",
      "/home/timofey/.local/lib/python3.10/site-packages/sklearn/linear_model/_coordinate_descent.py:628: ConvergenceWarning: Objective did not converge. You might want to increase the number of iterations, check the scale of the features or consider increasing regularisation. Duality gap: 7.154e+16, tolerance: 4.388e+13\n",
      "  model = cd_fast.enet_coordinate_descent(\n",
      "/home/timofey/.local/lib/python3.10/site-packages/sklearn/linear_model/_coordinate_descent.py:628: ConvergenceWarning: Objective did not converge. You might want to increase the number of iterations, check the scale of the features or consider increasing regularisation. Duality gap: 6.943e+16, tolerance: 4.174e+13\n",
      "  model = cd_fast.enet_coordinate_descent(\n",
      "/home/timofey/.local/lib/python3.10/site-packages/sklearn/linear_model/_coordinate_descent.py:628: ConvergenceWarning: Objective did not converge. You might want to increase the number of iterations, check the scale of the features or consider increasing regularisation. Duality gap: 7.295e+16, tolerance: 4.323e+13\n",
      "  model = cd_fast.enet_coordinate_descent(\n",
      "/home/timofey/.local/lib/python3.10/site-packages/sklearn/linear_model/_coordinate_descent.py:628: ConvergenceWarning: Objective did not converge. You might want to increase the number of iterations, check the scale of the features or consider increasing regularisation. Duality gap: 7.094e+16, tolerance: 4.337e+13\n",
      "  model = cd_fast.enet_coordinate_descent(\n",
      "/home/timofey/.local/lib/python3.10/site-packages/sklearn/linear_model/_coordinate_descent.py:628: ConvergenceWarning: Objective did not converge. You might want to increase the number of iterations, check the scale of the features or consider increasing regularisation. Duality gap: 7.166e+16, tolerance: 4.332e+13\n",
      "  model = cd_fast.enet_coordinate_descent(\n",
      "/home/timofey/.local/lib/python3.10/site-packages/sklearn/linear_model/_coordinate_descent.py:628: ConvergenceWarning: Objective did not converge. You might want to increase the number of iterations, check the scale of the features or consider increasing regularisation. Duality gap: 7.154e+16, tolerance: 4.388e+13\n",
      "  model = cd_fast.enet_coordinate_descent(\n",
      "/home/timofey/.local/lib/python3.10/site-packages/sklearn/linear_model/_coordinate_descent.py:628: ConvergenceWarning: Objective did not converge. You might want to increase the number of iterations, check the scale of the features or consider increasing regularisation. Duality gap: 6.943e+16, tolerance: 4.174e+13\n",
      "  model = cd_fast.enet_coordinate_descent(\n",
      "/home/timofey/.local/lib/python3.10/site-packages/sklearn/linear_model/_coordinate_descent.py:628: ConvergenceWarning: Objective did not converge. You might want to increase the number of iterations, check the scale of the features or consider increasing regularisation. Duality gap: 7.295e+16, tolerance: 4.323e+13\n",
      "  model = cd_fast.enet_coordinate_descent(\n",
      "/home/timofey/.local/lib/python3.10/site-packages/sklearn/linear_model/_coordinate_descent.py:628: ConvergenceWarning: Objective did not converge. You might want to increase the number of iterations, check the scale of the features or consider increasing regularisation. Duality gap: 7.094e+16, tolerance: 4.337e+13\n",
      "  model = cd_fast.enet_coordinate_descent(\n",
      "/home/timofey/.local/lib/python3.10/site-packages/sklearn/linear_model/_coordinate_descent.py:628: ConvergenceWarning: Objective did not converge. You might want to increase the number of iterations, check the scale of the features or consider increasing regularisation. Duality gap: 7.166e+16, tolerance: 4.332e+13\n",
      "  model = cd_fast.enet_coordinate_descent(\n",
      "/home/timofey/.local/lib/python3.10/site-packages/sklearn/linear_model/_coordinate_descent.py:628: ConvergenceWarning: Objective did not converge. You might want to increase the number of iterations, check the scale of the features or consider increasing regularisation. Duality gap: 7.154e+16, tolerance: 4.388e+13\n",
      "  model = cd_fast.enet_coordinate_descent(\n",
      "/home/timofey/.local/lib/python3.10/site-packages/sklearn/linear_model/_coordinate_descent.py:628: ConvergenceWarning: Objective did not converge. You might want to increase the number of iterations, check the scale of the features or consider increasing regularisation. Duality gap: 6.943e+16, tolerance: 4.174e+13\n",
      "  model = cd_fast.enet_coordinate_descent(\n",
      "/home/timofey/.local/lib/python3.10/site-packages/sklearn/linear_model/_coordinate_descent.py:628: ConvergenceWarning: Objective did not converge. You might want to increase the number of iterations, check the scale of the features or consider increasing regularisation. Duality gap: 7.295e+16, tolerance: 4.323e+13\n",
      "  model = cd_fast.enet_coordinate_descent(\n",
      "/home/timofey/.local/lib/python3.10/site-packages/sklearn/linear_model/_coordinate_descent.py:628: ConvergenceWarning: Objective did not converge. You might want to increase the number of iterations, check the scale of the features or consider increasing regularisation. Duality gap: 7.094e+16, tolerance: 4.337e+13\n",
      "  model = cd_fast.enet_coordinate_descent(\n",
      "/home/timofey/.local/lib/python3.10/site-packages/sklearn/linear_model/_coordinate_descent.py:628: ConvergenceWarning: Objective did not converge. You might want to increase the number of iterations, check the scale of the features or consider increasing regularisation. Duality gap: 7.166e+16, tolerance: 4.332e+13\n",
      "  model = cd_fast.enet_coordinate_descent(\n",
      "/home/timofey/.local/lib/python3.10/site-packages/sklearn/linear_model/_coordinate_descent.py:628: ConvergenceWarning: Objective did not converge. You might want to increase the number of iterations, check the scale of the features or consider increasing regularisation. Duality gap: 7.154e+16, tolerance: 4.388e+13\n",
      "  model = cd_fast.enet_coordinate_descent(\n",
      "/home/timofey/.local/lib/python3.10/site-packages/sklearn/linear_model/_coordinate_descent.py:628: ConvergenceWarning: Objective did not converge. You might want to increase the number of iterations, check the scale of the features or consider increasing regularisation. Duality gap: 6.943e+16, tolerance: 4.174e+13\n",
      "  model = cd_fast.enet_coordinate_descent(\n",
      "/home/timofey/.local/lib/python3.10/site-packages/sklearn/linear_model/_coordinate_descent.py:628: ConvergenceWarning: Objective did not converge. You might want to increase the number of iterations, check the scale of the features or consider increasing regularisation. Duality gap: 7.295e+16, tolerance: 4.323e+13\n",
      "  model = cd_fast.enet_coordinate_descent(\n",
      "/home/timofey/.local/lib/python3.10/site-packages/sklearn/linear_model/_coordinate_descent.py:628: ConvergenceWarning: Objective did not converge. You might want to increase the number of iterations, check the scale of the features or consider increasing regularisation. Duality gap: 7.094e+16, tolerance: 4.337e+13\n",
      "  model = cd_fast.enet_coordinate_descent(\n",
      "/home/timofey/.local/lib/python3.10/site-packages/sklearn/linear_model/_coordinate_descent.py:628: ConvergenceWarning: Objective did not converge. You might want to increase the number of iterations, check the scale of the features or consider increasing regularisation. Duality gap: 7.166e+16, tolerance: 4.332e+13\n",
      "  model = cd_fast.enet_coordinate_descent(\n",
      "/home/timofey/.local/lib/python3.10/site-packages/sklearn/linear_model/_coordinate_descent.py:628: ConvergenceWarning: Objective did not converge. You might want to increase the number of iterations, check the scale of the features or consider increasing regularisation. Duality gap: 7.154e+16, tolerance: 4.388e+13\n",
      "  model = cd_fast.enet_coordinate_descent(\n",
      "/home/timofey/.local/lib/python3.10/site-packages/sklearn/linear_model/_coordinate_descent.py:628: ConvergenceWarning: Objective did not converge. You might want to increase the number of iterations, check the scale of the features or consider increasing regularisation. Duality gap: 6.943e+16, tolerance: 4.174e+13\n",
      "  model = cd_fast.enet_coordinate_descent(\n",
      "/home/timofey/.local/lib/python3.10/site-packages/sklearn/linear_model/_coordinate_descent.py:628: ConvergenceWarning: Objective did not converge. You might want to increase the number of iterations, check the scale of the features or consider increasing regularisation. Duality gap: 7.295e+16, tolerance: 4.323e+13\n",
      "  model = cd_fast.enet_coordinate_descent(\n",
      "/home/timofey/.local/lib/python3.10/site-packages/sklearn/linear_model/_coordinate_descent.py:628: ConvergenceWarning: Objective did not converge. You might want to increase the number of iterations, check the scale of the features or consider increasing regularisation. Duality gap: 7.094e+16, tolerance: 4.337e+13\n",
      "  model = cd_fast.enet_coordinate_descent(\n",
      "/home/timofey/.local/lib/python3.10/site-packages/sklearn/linear_model/_coordinate_descent.py:628: ConvergenceWarning: Objective did not converge. You might want to increase the number of iterations, check the scale of the features or consider increasing regularisation. Duality gap: 7.166e+16, tolerance: 4.332e+13\n",
      "  model = cd_fast.enet_coordinate_descent(\n",
      "/home/timofey/.local/lib/python3.10/site-packages/sklearn/linear_model/_coordinate_descent.py:628: ConvergenceWarning: Objective did not converge. You might want to increase the number of iterations, check the scale of the features or consider increasing regularisation. Duality gap: 7.154e+16, tolerance: 4.388e+13\n",
      "  model = cd_fast.enet_coordinate_descent(\n",
      "/home/timofey/.local/lib/python3.10/site-packages/sklearn/linear_model/_coordinate_descent.py:628: ConvergenceWarning: Objective did not converge. You might want to increase the number of iterations, check the scale of the features or consider increasing regularisation. Duality gap: 6.943e+16, tolerance: 4.174e+13\n",
      "  model = cd_fast.enet_coordinate_descent(\n",
      "/home/timofey/.local/lib/python3.10/site-packages/sklearn/linear_model/_coordinate_descent.py:628: ConvergenceWarning: Objective did not converge. You might want to increase the number of iterations, check the scale of the features or consider increasing regularisation. Duality gap: 7.295e+16, tolerance: 4.323e+13\n",
      "  model = cd_fast.enet_coordinate_descent(\n",
      "/home/timofey/.local/lib/python3.10/site-packages/sklearn/linear_model/_coordinate_descent.py:628: ConvergenceWarning: Objective did not converge. You might want to increase the number of iterations, check the scale of the features or consider increasing regularisation. Duality gap: 7.094e+16, tolerance: 4.337e+13\n",
      "  model = cd_fast.enet_coordinate_descent(\n",
      "/home/timofey/.local/lib/python3.10/site-packages/sklearn/linear_model/_coordinate_descent.py:628: ConvergenceWarning: Objective did not converge. You might want to increase the number of iterations, check the scale of the features or consider increasing regularisation. Duality gap: 7.166e+16, tolerance: 4.332e+13\n",
      "  model = cd_fast.enet_coordinate_descent(\n",
      "/home/timofey/.local/lib/python3.10/site-packages/sklearn/linear_model/_coordinate_descent.py:628: ConvergenceWarning: Objective did not converge. You might want to increase the number of iterations, check the scale of the features or consider increasing regularisation. Duality gap: 7.154e+16, tolerance: 4.388e+13\n",
      "  model = cd_fast.enet_coordinate_descent(\n",
      "/home/timofey/.local/lib/python3.10/site-packages/sklearn/linear_model/_coordinate_descent.py:628: ConvergenceWarning: Objective did not converge. You might want to increase the number of iterations, check the scale of the features or consider increasing regularisation. Duality gap: 6.943e+16, tolerance: 4.174e+13\n",
      "  model = cd_fast.enet_coordinate_descent(\n",
      "/home/timofey/.local/lib/python3.10/site-packages/sklearn/linear_model/_coordinate_descent.py:628: ConvergenceWarning: Objective did not converge. You might want to increase the number of iterations, check the scale of the features or consider increasing regularisation. Duality gap: 7.295e+16, tolerance: 4.323e+13\n",
      "  model = cd_fast.enet_coordinate_descent(\n",
      "/home/timofey/.local/lib/python3.10/site-packages/sklearn/linear_model/_coordinate_descent.py:628: ConvergenceWarning: Objective did not converge. You might want to increase the number of iterations, check the scale of the features or consider increasing regularisation. Duality gap: 7.094e+16, tolerance: 4.337e+13\n",
      "  model = cd_fast.enet_coordinate_descent(\n",
      "/home/timofey/.local/lib/python3.10/site-packages/sklearn/linear_model/_coordinate_descent.py:628: ConvergenceWarning: Objective did not converge. You might want to increase the number of iterations, check the scale of the features or consider increasing regularisation. Duality gap: 7.166e+16, tolerance: 4.332e+13\n",
      "  model = cd_fast.enet_coordinate_descent(\n",
      "/home/timofey/.local/lib/python3.10/site-packages/sklearn/linear_model/_coordinate_descent.py:628: ConvergenceWarning: Objective did not converge. You might want to increase the number of iterations, check the scale of the features or consider increasing regularisation. Duality gap: 8.983e+16, tolerance: 5.389e+13\n",
      "  model = cd_fast.enet_coordinate_descent(\n"
     ]
    },
    {
     "name": "stdout",
     "output_type": "stream",
     "text": [
      "MAE: 4583187.178476251\n",
      "MSE: 41233865169520.32\n",
      "RMSE: 6421360.0716297105\n",
      "MAPE: 0.3205151573156203\n",
      "R^2: 0.666802649874825\n"
     ]
    },
    {
     "name": "stderr",
     "output_type": "stream",
     "text": [
      "/home/timofey/.local/lib/python3.10/site-packages/sklearn/linear_model/_coordinate_descent.py:628: ConvergenceWarning: Objective did not converge. You might want to increase the number of iterations, check the scale of the features or consider increasing regularisation. Duality gap: 8.983e+16, tolerance: 5.389e+13\n",
      "  model = cd_fast.enet_coordinate_descent(\n"
     ]
    }
   ],
   "source": [
    "pipeline = Pipeline(\n",
    "    [\n",
    "        (\"scaler\", StandardScaler()),\n",
    "        (\"polynomial\", PolynomialFeatures(2)),\n",
    "        (\"model\", Lasso()),\n",
    "        \n",
    "    ]\n",
    ")\n",
    "\n",
    "param_grid = {\n",
    "    \"model__alpha\": np.arange(0.1, 1, 0.1)\n",
    "}\n",
    "\n",
    "gridsearch = GridSearchCV(pipeline, param_grid, scoring=\"r2\")\n",
    "gridsearch.fit(X_train, y_train)\n",
    "best_params = gridsearch.best_params_\n",
    "\n",
    "pipeline.set_params(**best_params).fit(X_train, y_train)\n",
    "y_pred = pipeline.predict(X_test)\n",
    "\n",
    "print(f'MAE: {mean_absolute_error(y_test, y_pred)}')\n",
    "print(f'MSE: {mean_squared_error(y_test, y_pred)}')\n",
    "print(f'RMSE: {sqrt(mean_squared_error(y_test, y_pred))}')\n",
    "print(f'MAPE: {mean_absolute_percentage_error(y_test, y_pred)}')\n",
    "print(f'R^2: {pipeline.score(X_test, y_test)}')"
   ]
  },
  {
   "cell_type": "markdown",
   "metadata": {},
   "source": [
    "Ух ты! Единственный раз в полиномиальной регресси регулизация Лассо показала положительный результат: на 10-тысячную доль результат улучшился в то время, как Ридж показал чуть хуже результат"
   ]
  },
  {
   "cell_type": "markdown",
   "metadata": {},
   "source": [
    "## Релизация метрик"
   ]
  },
  {
   "cell_type": "code",
   "execution_count": null,
   "metadata": {},
   "outputs": [
    {
     "name": "stdout",
     "output_type": "stream",
     "text": [
      "MAE: 10765474.038359122, My MAE: 10765474.038359122, проверим равенство: True\n"
     ]
    }
   ],
   "source": [
    "def MAE(y_test, y_pred):\n",
    "  return  abs(y_test-y_pred).mean()\n",
    "\n",
    "print(f'MAE: {mean_absolute_error(y_test, y_pred)}, My MAE: {MAE(y_test, y_pred)}, проверим равенство: {MAE(y_test, y_pred) == mean_absolute_error(y_test, y_pred)}')"
   ]
  },
  {
   "cell_type": "code",
   "execution_count": null,
   "metadata": {},
   "outputs": [
    {
     "name": "stdout",
     "output_type": "stream",
     "text": [
      "MAE: 188154491573153.38, My MAE: 188154491573153.38, проверим равенство: True\n"
     ]
    }
   ],
   "source": [
    "def MSE(y_test, y_pred):\n",
    "  return  ((y_test-y_pred)**2).mean()\n",
    "\n",
    "print(f'MAE: {mean_squared_error(y_test, y_pred)}, My MAE: {MSE(y_test, y_pred)}, проверим равенство: {MSE(y_test, y_pred) == mean_squared_error(y_test, y_pred)}')"
   ]
  },
  {
   "cell_type": "code",
   "execution_count": null,
   "metadata": {},
   "outputs": [
    {
     "name": "stdout",
     "output_type": "stream",
     "text": [
      "RMSE: 13716941.771880252, My RMSE: 13716941.771880252, проверим равенство: True\n"
     ]
    }
   ],
   "source": [
    "def RMSE(y_test, y_pred):\n",
    "  return  sqrt(MSE(y_test, y_pred))\n",
    "\n",
    "print(f'RMSE: {sqrt(mean_squared_error(y_test, y_pred))}, My RMSE: {RMSE(y_test, y_pred)}, проверим равенство: {sqrt(mean_squared_error(y_test, y_pred)) == RMSE(y_test, y_pred)}')"
   ]
  },
  {
   "cell_type": "code",
   "execution_count": null,
   "metadata": {},
   "outputs": [
    {
     "name": "stdout",
     "output_type": "stream",
     "text": [
      "MAPE: 0.74979165322766, My_MAPE: 0.74979165322766, проверим равенство: True\n"
     ]
    }
   ],
   "source": [
    "def MAPE(y_test, y_pred):\n",
    "  return  abs((y_test-y_pred) / y_test).mean()\n",
    "\n",
    "print(f'MAPE: {mean_absolute_percentage_error(y_test, y_pred)}, My_MAPE: {MAPE(y_test,y_pred)}, проверим равенство: {MAPE(y_test,y_pred) == mean_absolute_percentage_error(y_test, y_pred)}')"
   ]
  },
  {
   "cell_type": "code",
   "execution_count": null,
   "metadata": {},
   "outputs": [
    {
     "name": "stdout",
     "output_type": "stream",
     "text": [
      "R^2: -0.021237082645694683, My R2: -0.021237082645694905, проверим равенство: True\n"
     ]
    }
   ],
   "source": [
    "def R2(y_test, y_pred):\n",
    "  return  1 - MSE(y_test, y_pred)/ ((y_test- y_test.mean())**2).mean()\n",
    "print(f'R^2: {pipeline.score(X_test, y_test)}, My R2: {R2(y_test, y_pred)}, проверим равенство: {round(pipeline.score(X_test, y_test), 3) == round(R2(y_test, y_pred), 3)}')"
   ]
  }
 ],
 "metadata": {
  "kernelspec": {
   "display_name": "Python 3",
   "language": "python",
   "name": "python3"
  },
  "language_info": {
   "codemirror_mode": {
    "name": "ipython",
    "version": 3
   },
   "file_extension": ".py",
   "mimetype": "text/x-python",
   "name": "python",
   "nbconvert_exporter": "python",
   "pygments_lexer": "ipython3",
   "version": "3.10.12"
  }
 },
 "nbformat": 4,
 "nbformat_minor": 2
}
